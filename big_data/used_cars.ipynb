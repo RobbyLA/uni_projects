{
 "cells": [
  {
   "cell_type": "markdown",
   "metadata": {},
   "source": [
    "# HEADER"
   ]
  },
  {
   "cell_type": "markdown",
   "metadata": {},
   "source": [
    "- **Created by:**\n",
    "    - Eddy\n",
    "    - Fariz Akyas\n",
    "    - Robby Lysander Aurelio\n",
    "- **Date Created:** September 11, 2023"
   ]
  },
  {
   "cell_type": "markdown",
   "metadata": {},
   "source": [
    "# CREATE SparkContext & SparkSession"
   ]
  },
  {
   "cell_type": "code",
   "execution_count": 1,
   "metadata": {},
   "outputs": [],
   "source": [
    "# Reference: lecture material\n",
    "\n",
    "# Import SparkConf class into program\n",
    "from pyspark import SparkConf\n",
    "\n",
    "# local[*]: run Spark in local mode with as many working processors as logical cores on your machine\n",
    "# If we want Spark to run locally with 'k' worker threads, we can specify as \"local[k]\".\n",
    "master = \"local[*]\"\n",
    "# The `appName` field is a name to be shown on the Spark cluster UI page\n",
    "app_name = \"Big Data Projcet\"\n",
    "# Setup configuration parameters for Spark\n",
    "spark_conf = SparkConf().setMaster(master).setAppName(app_name)\n",
    "\n",
    "# Import SparkContext and SparkSession classes\n",
    "from pyspark import SparkContext # Spark\n",
    "from pyspark.sql import SparkSession # Spark SQL\n",
    "\n",
    "# Initialize Spark Session and create a SparkContext Object\n",
    "spark = SparkSession.builder.config(conf=spark_conf).getOrCreate()\n",
    "sc = spark.sparkContext\n",
    "sc.setLogLevel('ERROR')"
   ]
  },
  {
   "cell_type": "markdown",
   "metadata": {},
   "source": [
    "# DATA LOADING"
   ]
  },
  {
   "cell_type": "code",
   "execution_count": 2,
   "metadata": {},
   "outputs": [],
   "source": [
    "# Load the data from the CSV files\n",
    "df = spark.read.option('inferSchema', True).csv(\"used_cars_data.csv\", header=True)"
   ]
  },
  {
   "cell_type": "code",
   "execution_count": 3,
   "metadata": {},
   "outputs": [
    {
     "data": {
      "text/html": [
       "<div>\n",
       "<style scoped>\n",
       "    .dataframe tbody tr th:only-of-type {\n",
       "        vertical-align: middle;\n",
       "    }\n",
       "\n",
       "    .dataframe tbody tr th {\n",
       "        vertical-align: top;\n",
       "    }\n",
       "\n",
       "    .dataframe thead th {\n",
       "        text-align: right;\n",
       "    }\n",
       "</style>\n",
       "<table border=\"1\" class=\"dataframe\">\n",
       "  <thead>\n",
       "    <tr style=\"text-align: right;\">\n",
       "      <th></th>\n",
       "      <th>vin</th>\n",
       "      <th>back_legroom</th>\n",
       "      <th>body_type</th>\n",
       "      <th>city_fuel_economy</th>\n",
       "      <th>daysonmarket</th>\n",
       "      <th>engine_cylinders</th>\n",
       "      <th>engine_displacement</th>\n",
       "      <th>franchise_make</th>\n",
       "      <th>front_legroom</th>\n",
       "      <th>fuel_tank_volume</th>\n",
       "      <th>...</th>\n",
       "      <th>mileage</th>\n",
       "      <th>owner_count</th>\n",
       "      <th>power</th>\n",
       "      <th>torque</th>\n",
       "      <th>isCab</th>\n",
       "      <th>transmission</th>\n",
       "      <th>wheel_system</th>\n",
       "      <th>length</th>\n",
       "      <th>wheelbase</th>\n",
       "      <th>model_name</th>\n",
       "    </tr>\n",
       "  </thead>\n",
       "  <tbody>\n",
       "    <tr>\n",
       "      <th>0</th>\n",
       "      <td>WBA8B7C53GK368522</td>\n",
       "      <td>35.1 in</td>\n",
       "      <td>Sedan</td>\n",
       "      <td>22</td>\n",
       "      <td>1233</td>\n",
       "      <td>I6</td>\n",
       "      <td>3000</td>\n",
       "      <td>FIAT</td>\n",
       "      <td>42 in</td>\n",
       "      <td>15.8 gal</td>\n",
       "      <td>...</td>\n",
       "      <td>6903</td>\n",
       "      <td>2</td>\n",
       "      <td>320 hp @ 5,500 RPM</td>\n",
       "      <td>330 lb-ft @ 1,380 RPM</td>\n",
       "      <td>False</td>\n",
       "      <td>A</td>\n",
       "      <td>AWD</td>\n",
       "      <td>182.5 in</td>\n",
       "      <td>110.6 in</td>\n",
       "      <td>3 Series</td>\n",
       "    </tr>\n",
       "    <tr>\n",
       "      <th>1</th>\n",
       "      <td>1G1ZD5ST5JF222895</td>\n",
       "      <td>38.1 in</td>\n",
       "      <td>Sedan</td>\n",
       "      <td>27</td>\n",
       "      <td>55</td>\n",
       "      <td>I4</td>\n",
       "      <td>1500</td>\n",
       "      <td>Chevrolet</td>\n",
       "      <td>42 in</td>\n",
       "      <td>15.8 gal</td>\n",
       "      <td>...</td>\n",
       "      <td>42394</td>\n",
       "      <td>1</td>\n",
       "      <td>160 hp @ 5,700 RPM</td>\n",
       "      <td>184 lb-ft @ 2,500 RPM</td>\n",
       "      <td>True</td>\n",
       "      <td>A</td>\n",
       "      <td>FWD</td>\n",
       "      <td>193.8 in</td>\n",
       "      <td>111.4 in</td>\n",
       "      <td>Malibu</td>\n",
       "    </tr>\n",
       "    <tr>\n",
       "      <th>2</th>\n",
       "      <td>JTHSZ5BC5J5008777</td>\n",
       "      <td>27.3 in</td>\n",
       "      <td>Coupe</td>\n",
       "      <td>18</td>\n",
       "      <td>36</td>\n",
       "      <td>V6</td>\n",
       "      <td>3500</td>\n",
       "      <td>Jeep</td>\n",
       "      <td>45.4 in</td>\n",
       "      <td>17.4 gal</td>\n",
       "      <td>...</td>\n",
       "      <td>62251</td>\n",
       "      <td>1</td>\n",
       "      <td>311 hp @ 6,600 RPM</td>\n",
       "      <td>280 lb-ft @ 4,800 RPM</td>\n",
       "      <td>False</td>\n",
       "      <td>A</td>\n",
       "      <td>AWD</td>\n",
       "      <td>184.8 in</td>\n",
       "      <td>107.5 in</td>\n",
       "      <td>RC 350</td>\n",
       "    </tr>\n",
       "    <tr>\n",
       "      <th>3</th>\n",
       "      <td>1GNERFKW0JJ104068</td>\n",
       "      <td>38.4 in</td>\n",
       "      <td>SUV / Crossover</td>\n",
       "      <td>18</td>\n",
       "      <td>27</td>\n",
       "      <td>V6</td>\n",
       "      <td>3600</td>\n",
       "      <td>Chevrolet</td>\n",
       "      <td>41 in</td>\n",
       "      <td>19.4 gal</td>\n",
       "      <td>...</td>\n",
       "      <td>36410</td>\n",
       "      <td>1</td>\n",
       "      <td>310 hp @ 6,800 RPM</td>\n",
       "      <td>266 lb-ft @ 2,800 RPM</td>\n",
       "      <td>False</td>\n",
       "      <td>A</td>\n",
       "      <td>FWD</td>\n",
       "      <td>204.3 in</td>\n",
       "      <td>120.9 in</td>\n",
       "      <td>Traverse</td>\n",
       "    </tr>\n",
       "    <tr>\n",
       "      <th>4</th>\n",
       "      <td>1GNKVGKD7HJ340326</td>\n",
       "      <td>36.8 in</td>\n",
       "      <td>SUV / Crossover</td>\n",
       "      <td>15</td>\n",
       "      <td>27</td>\n",
       "      <td>V6</td>\n",
       "      <td>3600</td>\n",
       "      <td>Chevrolet</td>\n",
       "      <td>41.3 in</td>\n",
       "      <td>22 gal</td>\n",
       "      <td>...</td>\n",
       "      <td>36055</td>\n",
       "      <td>1</td>\n",
       "      <td>281 hp @ 6,300 RPM</td>\n",
       "      <td>266 lb-ft @ 3,400 RPM</td>\n",
       "      <td>False</td>\n",
       "      <td>A</td>\n",
       "      <td>AWD</td>\n",
       "      <td>203.7 in</td>\n",
       "      <td>118.9 in</td>\n",
       "      <td>Traverse</td>\n",
       "    </tr>\n",
       "  </tbody>\n",
       "</table>\n",
       "<p>5 rows × 32 columns</p>\n",
       "</div>"
      ],
      "text/plain": [
       "                 vin back_legroom        body_type  city_fuel_economy  \\\n",
       "0  WBA8B7C53GK368522      35.1 in            Sedan                 22   \n",
       "1  1G1ZD5ST5JF222895      38.1 in            Sedan                 27   \n",
       "2  JTHSZ5BC5J5008777      27.3 in            Coupe                 18   \n",
       "3  1GNERFKW0JJ104068      38.4 in  SUV / Crossover                 18   \n",
       "4  1GNKVGKD7HJ340326      36.8 in  SUV / Crossover                 15   \n",
       "\n",
       "   daysonmarket engine_cylinders  engine_displacement franchise_make  \\\n",
       "0          1233               I6                 3000           FIAT   \n",
       "1            55               I4                 1500      Chevrolet   \n",
       "2            36               V6                 3500           Jeep   \n",
       "3            27               V6                 3600      Chevrolet   \n",
       "4            27               V6                 3600      Chevrolet   \n",
       "\n",
       "  front_legroom fuel_tank_volume  ... mileage  owner_count  \\\n",
       "0         42 in         15.8 gal  ...    6903            2   \n",
       "1         42 in         15.8 gal  ...   42394            1   \n",
       "2       45.4 in         17.4 gal  ...   62251            1   \n",
       "3         41 in         19.4 gal  ...   36410            1   \n",
       "4       41.3 in           22 gal  ...   36055            1   \n",
       "\n",
       "                power                 torque  isCab  transmission  \\\n",
       "0  320 hp @ 5,500 RPM  330 lb-ft @ 1,380 RPM  False             A   \n",
       "1  160 hp @ 5,700 RPM  184 lb-ft @ 2,500 RPM   True             A   \n",
       "2  311 hp @ 6,600 RPM  280 lb-ft @ 4,800 RPM  False             A   \n",
       "3  310 hp @ 6,800 RPM  266 lb-ft @ 2,800 RPM  False             A   \n",
       "4  281 hp @ 6,300 RPM  266 lb-ft @ 3,400 RPM  False             A   \n",
       "\n",
       "  wheel_system    length  wheelbase  model_name  \n",
       "0          AWD  182.5 in   110.6 in    3 Series  \n",
       "1          FWD  193.8 in   111.4 in      Malibu  \n",
       "2          AWD  184.8 in   107.5 in      RC 350  \n",
       "3          FWD  204.3 in   120.9 in    Traverse  \n",
       "4          AWD  203.7 in   118.9 in    Traverse  \n",
       "\n",
       "[5 rows x 32 columns]"
      ]
     },
     "execution_count": 3,
     "metadata": {},
     "output_type": "execute_result"
    }
   ],
   "source": [
    "# Check whether the dataset has been loaded correctly or not \n",
    "# Convert it to Pandas dataframe to make it easier to look\n",
    "df.toPandas().head()"
   ]
  },
  {
   "cell_type": "code",
   "execution_count": 4,
   "metadata": {},
   "outputs": [
    {
     "name": "stdout",
     "output_type": "stream",
     "text": [
      "(704408, 32)\n",
      "root\n",
      " |-- vin: string (nullable = true)\n",
      " |-- back_legroom: string (nullable = true)\n",
      " |-- body_type: string (nullable = true)\n",
      " |-- city_fuel_economy: integer (nullable = true)\n",
      " |-- daysonmarket: integer (nullable = true)\n",
      " |-- engine_cylinders: string (nullable = true)\n",
      " |-- engine_displacement: integer (nullable = true)\n",
      " |-- franchise_make: string (nullable = true)\n",
      " |-- front_legroom: string (nullable = true)\n",
      " |-- fuel_tank_volume: string (nullable = true)\n",
      " |-- fuel_type: string (nullable = true)\n",
      " |-- has_accidents: boolean (nullable = true)\n",
      " |-- height: string (nullable = true)\n",
      " |-- highway_fuel_economy: integer (nullable = true)\n",
      " |-- horsepower: integer (nullable = true)\n",
      " |-- price: double (nullable = true)\n",
      " |-- width: string (nullable = true)\n",
      " |-- year: integer (nullable = true)\n",
      " |-- is_cpo: boolean (nullable = true)\n",
      " |-- is_oemcpo: boolean (nullable = true)\n",
      " |-- is_new: boolean (nullable = true)\n",
      " |-- listing_color: string (nullable = true)\n",
      " |-- mileage: integer (nullable = true)\n",
      " |-- owner_count: integer (nullable = true)\n",
      " |-- power: string (nullable = true)\n",
      " |-- torque: string (nullable = true)\n",
      " |-- isCab: boolean (nullable = true)\n",
      " |-- transmission: string (nullable = true)\n",
      " |-- wheel_system: string (nullable = true)\n",
      " |-- length: string (nullable = true)\n",
      " |-- wheelbase: string (nullable = true)\n",
      " |-- model_name: string (nullable = true)\n",
      "\n"
     ]
    }
   ],
   "source": [
    "# Check the shape of the dataframe\n",
    "print((df.count(), len(df.columns)))\n",
    "\n",
    "# Check the shcema of the dataframe\n",
    "df.printSchema()"
   ]
  },
  {
   "cell_type": "markdown",
   "metadata": {},
   "source": [
    "Notice that the size of the dataframe is really big (around 700,000 rows). Therefore, we need to apply parallel processing when using the dataframe. Thanfully, when creating a dataframe in PySpark, the system automatically partition the data by default. Let's check the number of partition used here."
   ]
  },
  {
   "cell_type": "code",
   "execution_count": 5,
   "metadata": {},
   "outputs": [
    {
     "data": {
      "text/plain": [
       "2"
      ]
     },
     "execution_count": 5,
     "metadata": {},
     "output_type": "execute_result"
    }
   ],
   "source": [
    "# Check the initial number of partition\n",
    "df.rdd.getNumPartitions()"
   ]
  },
  {
   "cell_type": "markdown",
   "metadata": {},
   "source": [
    "Notice, the default number of partition in PySpark is only 2. Therefore, because the size of the data in this case is really big, it is better to add the number of partition. Here, we decided to use the round-robin method to partition to spread the data evenly."
   ]
  },
  {
   "cell_type": "code",
   "execution_count": 6,
   "metadata": {},
   "outputs": [
    {
     "name": "stdout",
     "output_type": "stream",
     "text": [
      "Start at -  2023-11-09 21:16:48.701513\n",
      "Stop at -  2023-11-09 21:16:48.714945\n"
     ]
    },
    {
     "data": {
      "text/plain": [
       "50"
      ]
     },
     "execution_count": 6,
     "metadata": {},
     "output_type": "execute_result"
    }
   ],
   "source": [
    "from datetime import datetime\n",
    "\n",
    "# Time the start of the repartition process\n",
    "print(\"Start at - \", datetime.now())\n",
    "\n",
    "# Repartition the data using the Round-Robin method\n",
    "df = df.repartition(50)\n",
    "\n",
    "# Time the end of the repartition process\n",
    "print(\"Stop at - \", datetime.now())\n",
    "\n",
    "# Recheck the new number of partition\n",
    "df.rdd.getNumPartitions()"
   ]
  },
  {
   "cell_type": "markdown",
   "metadata": {},
   "source": [
    "Sadly, due to the size of the data we cannot show how the system divided the data by using the `glom()` function."
   ]
  },
  {
   "cell_type": "markdown",
   "metadata": {},
   "source": [
    "# DATA WRANGLING\n",
    "\n",
    "In the schema above, notice that the columns back_legroom, front_legroom, fuel_tank_volume, height, wheelbase, width, and length are listed as string, which should be numeric (integer or double). This may happen because in those columns, the value also contains the unit of measurement, which are not numbers. Therefore, before we convert the data type, we also need to remove those units."
   ]
  },
  {
   "cell_type": "code",
   "execution_count": 7,
   "metadata": {},
   "outputs": [],
   "source": [
    "# Drop the unnecessary columns\n",
    "df = df.drop(\"power\", \"model_name\")"
   ]
  },
  {
   "cell_type": "code",
   "execution_count": 8,
   "metadata": {},
   "outputs": [],
   "source": [
    "from pyspark.sql.functions import regexp_replace\n",
    "from pyspark.sql.functions import regexp_extract\n",
    "from pyspark.sql.types import DoubleType, IntegerType\n",
    "\n",
    "# Remove the non-numbers and convert the data type to double\n",
    "df = df.withColumn('back_legroom', regexp_replace('back_legroom', '[^\\d]', '').cast(DoubleType())) \\\n",
    "        .withColumn('front_legroom', regexp_replace('front_legroom', '[^\\d]', '').cast(DoubleType())) \\\n",
    "        .withColumn('fuel_tank_volume', regexp_replace('fuel_tank_volume', '[^\\d]', '').cast(DoubleType())) \\\n",
    "        .withColumn('height', regexp_replace('height', '[^\\d]', '').cast(DoubleType())) \\\n",
    "        .withColumn('wheelbase', regexp_replace('wheelbase', '[^\\d]', '').cast(DoubleType())) \\\n",
    "        .withColumn('width', regexp_replace('width', '[^\\d]', '').cast(DoubleType())) \\\n",
    "        .withColumn('length', regexp_replace('length', '[^\\d]', '').cast(DoubleType())) \\\n",
    "        .withColumn('torque', regexp_extract('torque', r'(\\d+)', 1).cast(DoubleType()))"
   ]
  },
  {
   "cell_type": "markdown",
   "metadata": {},
   "source": [
    "After fixing the datatype of the columns, some NAs appear. This happen due to some rows actually contain invalid values, such as \"--\" to indicate missing values. Because the value is not a number, thus the converting process will return a NA value. Hence, we also need to remove the NAs."
   ]
  },
  {
   "cell_type": "code",
   "execution_count": 9,
   "metadata": {},
   "outputs": [],
   "source": [
    "# Remove the NAs\n",
    "df = df.dropna(how = 'any')"
   ]
  },
  {
   "cell_type": "code",
   "execution_count": 10,
   "metadata": {},
   "outputs": [
    {
     "name": "stdout",
     "output_type": "stream",
     "text": [
      "(694605, 30)\n",
      "root\n",
      " |-- vin: string (nullable = true)\n",
      " |-- back_legroom: double (nullable = true)\n",
      " |-- body_type: string (nullable = true)\n",
      " |-- city_fuel_economy: integer (nullable = true)\n",
      " |-- daysonmarket: integer (nullable = true)\n",
      " |-- engine_cylinders: string (nullable = true)\n",
      " |-- engine_displacement: integer (nullable = true)\n",
      " |-- franchise_make: string (nullable = true)\n",
      " |-- front_legroom: double (nullable = true)\n",
      " |-- fuel_tank_volume: double (nullable = true)\n",
      " |-- fuel_type: string (nullable = true)\n",
      " |-- has_accidents: boolean (nullable = true)\n",
      " |-- height: double (nullable = true)\n",
      " |-- highway_fuel_economy: integer (nullable = true)\n",
      " |-- horsepower: integer (nullable = true)\n",
      " |-- price: double (nullable = true)\n",
      " |-- width: double (nullable = true)\n",
      " |-- year: integer (nullable = true)\n",
      " |-- is_cpo: boolean (nullable = true)\n",
      " |-- is_oemcpo: boolean (nullable = true)\n",
      " |-- is_new: boolean (nullable = true)\n",
      " |-- listing_color: string (nullable = true)\n",
      " |-- mileage: integer (nullable = true)\n",
      " |-- owner_count: integer (nullable = true)\n",
      " |-- torque: double (nullable = true)\n",
      " |-- isCab: boolean (nullable = true)\n",
      " |-- transmission: string (nullable = true)\n",
      " |-- wheel_system: string (nullable = true)\n",
      " |-- length: double (nullable = true)\n",
      " |-- wheelbase: double (nullable = true)\n",
      "\n"
     ]
    }
   ],
   "source": [
    "# Re-check the shape of the dataframe\n",
    "print((df.count(), len(df.columns)))\n",
    "\n",
    "# Re-check the shcema of the dataframe\n",
    "df.printSchema()"
   ]
  },
  {
   "cell_type": "markdown",
   "metadata": {},
   "source": [
    "# EXPLAROTARY DATA ANALYSIS (EDA)\n",
    "\n",
    "After the data is cleaned, before using the data, we need explore the data first to see some pattern or the distribution. Firstly, we need to calculate the basic descriptive statistics, such as the mean, standard deviation, minimum, first quartile, median, third quartile, and maximum, of the numerical columns."
   ]
  },
  {
   "cell_type": "code",
   "execution_count": 11,
   "metadata": {},
   "outputs": [
    {
     "name": "stdout",
     "output_type": "stream",
     "text": [
      "+-------+-----------------+------------------+-----------------+-------------------+------------------+\n",
      "|summary|     back_legroom| city_fuel_economy|     daysonmarket|engine_displacement|     front_legroom|\n",
      "+-------+-----------------+------------------+-----------------+-------------------+------------------+\n",
      "|  count|           694605|            694605|           694605|             694605|            694605|\n",
      "|   mean|354.2146658892464|21.061470907926086|43.39215525370534| 2952.6951288862015|369.37921120636906|\n",
      "| stddev|89.56128155576003|   4.5803941584326|73.20664937370847| 1144.8867181940902|132.27516507171316|\n",
      "|    min|              0.0|                 9|                0|               1000|               0.0|\n",
      "|    25%|            356.0|                17|               11|               2000|             408.0|\n",
      "|    50%|            376.0|                21|               25|               2500|             416.0|\n",
      "|    75%|            394.0|                25|               48|               3600|             428.0|\n",
      "|    max|            598.0|                74|             2688|               8100|             525.0|\n",
      "+-------+-----------------+------------------+-----------------+-------------------+------------------+\n",
      "\n",
      "+-------+------------------+------------------+--------------------+------------------+------------------+------------------+\n",
      "|summary|  fuel_tank_volume|            height|highway_fuel_economy|        horsepower|             price|             width|\n",
      "+-------+------------------+------------------+--------------------+------------------+------------------+------------------+\n",
      "|  count|            694605|            694605|              694605|            694605|            694605|            694605|\n",
      "|   mean|125.25643351257189| 589.1953354784374|  28.518294570295346|247.61337018881235|24024.255515911922| 683.1355230670669|\n",
      "| stddev| 75.18873606030637|188.33768818350674|   5.538200724878552| 82.07694883453541|12494.583131147989|253.47022643308836|\n",
      "|    min|               8.0|              49.0|                  11|                55|             484.0|              66.0|\n",
      "|    25%|              26.0|             573.0|                  24|               178|           16100.0|             709.0|\n",
      "|    50%|             153.0|             653.0|                  28|               245|           21500.0|             744.0|\n",
      "|    75%|             185.0|             693.0|                  33|               295|           29993.0|             818.0|\n",
      "|    max|             335.0|            1086.0|                  75|               808|         2698500.0|             986.0|\n",
      "+-------+------------------+------------------+--------------------+------------------+------------------+------------------+\n",
      "\n",
      "+-------+------------------+------------------+------------------+------------------+------------------+------------------+\n",
      "|summary|              year|           mileage|       owner_count|            length|         wheelbase|            torque|\n",
      "+-------+------------------+------------------+------------------+------------------+------------------+------------------+\n",
      "|  count|            694605|            694605|            694605|            694605|            694605|            694605|\n",
      "|   mean|2016.7401847092951| 46099.33506381325|1.3231491279216245|1750.6762404532071|1036.8719804781135|251.07505272780932|\n",
      "| stddev| 2.684279766487007|36204.183345530495| 0.656330773502176| 526.3323986198924|303.10857424813423|  90.1439708562333|\n",
      "|    min|              1987|                 0|                 1|             152.0|              97.0|              58.0|\n",
      "|    25%|              2016|             22709|                 1|            1793.0|            1051.0|             177.0|\n",
      "|    50%|              2017|             35496|                 1|            1884.0|            1093.0|             258.0|\n",
      "|    75%|              2019|             58879|                 1|            1962.0|            1142.0|             275.0|\n",
      "|    max|              2021|            399496|                12|            2661.0|            1646.0|             811.0|\n",
      "+-------+------------------+------------------+------------------+------------------+------------------+------------------+\n",
      "\n"
     ]
    }
   ],
   "source": [
    "# Calculate the basic descriptive statistics of the numerical columns\n",
    "df.select('back_legroom', 'city_fuel_economy', 'daysonmarket', 'engine_displacement', 'front_legroom').summary().show()\n",
    "df.select('fuel_tank_volume', 'height', 'highway_fuel_economy', 'horsepower', 'price', 'width').summary().show()\n",
    "df.select('year', 'mileage', 'owner_count', 'length', 'wheelbase', 'torque').summary().show()"
   ]
  },
  {
   "cell_type": "markdown",
   "metadata": {},
   "source": [
    "Then, for the categorical columns, we count the frequency of each category appearing in the dataset."
   ]
  },
  {
   "cell_type": "code",
   "execution_count": 12,
   "metadata": {},
   "outputs": [
    {
     "name": "stdout",
     "output_type": "stream",
     "text": [
      "+---------------+------+\n",
      "|      body_type| count|\n",
      "+---------------+------+\n",
      "|SUV / Crossover|347161|\n",
      "|          Sedan|197005|\n",
      "|   Pickup Truck| 74484|\n",
      "|        Minivan| 24991|\n",
      "|          Coupe| 16797|\n",
      "|      Hatchback| 14184|\n",
      "|          Wagon| 14154|\n",
      "|    Convertible|  5072|\n",
      "|            Van|   757|\n",
      "+---------------+------+\n",
      "\n",
      "+--------------------+------+\n",
      "|    engine_cylinders| count|\n",
      "+--------------------+------+\n",
      "|                  I4|345870|\n",
      "|                  V6|217162|\n",
      "|                  V8| 61780|\n",
      "|V6 Flex Fuel Vehicle| 20943|\n",
      "|                  H4| 18157|\n",
      "|V8 Flex Fuel Vehicle| 11844|\n",
      "|                  I6|  6973|\n",
      "|I4 Flex Fuel Vehicle|  3174|\n",
      "|           I4 Diesel|  2400|\n",
      "|                  I3|  1992|\n",
      "|                  I5|  1147|\n",
      "|                  H6|   879|\n",
      "|        V6 Biodiesel|   686|\n",
      "|           V6 Diesel|   478|\n",
      "|           I4 Hybrid|   344|\n",
      "|           I6 Diesel|   297|\n",
      "|                 V12|   205|\n",
      "|                 W12|   171|\n",
      "|           H4 Hybrid|    49|\n",
      "|W12 Flex Fuel Veh...|    17|\n",
      "+--------------------+------+\n",
      "only showing top 20 rows\n",
      "\n",
      "+--------------+-----+\n",
      "|franchise_make|count|\n",
      "+--------------+-----+\n",
      "|     Chevrolet|97777|\n",
      "|          Ford|94944|\n",
      "|          Jeep|63578|\n",
      "|        Toyota|57077|\n",
      "|         Honda|53988|\n",
      "|        Nissan|40724|\n",
      "|           Kia|26629|\n",
      "|       Hyundai|24885|\n",
      "|         Buick|23940|\n",
      "|        Subaru|21002|\n",
      "|    Volkswagen|18797|\n",
      "|           BMW|18765|\n",
      "| Mercedes-Benz|15134|\n",
      "|         Dodge|14472|\n",
      "|         Mazda|14073|\n",
      "|           GMC|11360|\n",
      "|         Lexus|10941|\n",
      "|      Cadillac|10163|\n",
      "|         Acura| 9595|\n",
      "|          Audi| 8577|\n",
      "+--------------+-----+\n",
      "only showing top 20 rows\n",
      "\n",
      "+--------------------+------+\n",
      "|           fuel_type| count|\n",
      "+--------------------+------+\n",
      "|            Gasoline|654346|\n",
      "|   Flex Fuel Vehicle| 35978|\n",
      "|              Diesel|  3175|\n",
      "|           Biodiesel|   686|\n",
      "|              Hybrid|   413|\n",
      "|Compressed Natura...|     7|\n",
      "+--------------------+------+\n",
      "\n",
      "+-------------+------+\n",
      "|listing_color| count|\n",
      "+-------------+------+\n",
      "|        WHITE|142196|\n",
      "|        BLACK|140293|\n",
      "|       SILVER| 97855|\n",
      "|         GRAY| 90852|\n",
      "|      UNKNOWN| 87690|\n",
      "|          RED| 61732|\n",
      "|         BLUE| 58146|\n",
      "|        BROWN|  4800|\n",
      "|        GREEN|  4534|\n",
      "|       ORANGE|  2310|\n",
      "|         GOLD|  1779|\n",
      "|         TEAL|  1070|\n",
      "|       YELLOW|   868|\n",
      "|       PURPLE|   444|\n",
      "|         PINK|    36|\n",
      "+-------------+------+\n",
      "\n",
      "+------------+------+\n",
      "|transmission| count|\n",
      "+------------+------+\n",
      "|           A|570802|\n",
      "|         CVT|108126|\n",
      "|           M| 13242|\n",
      "| Dual Clutch|  2435|\n",
      "+------------+------+\n",
      "\n",
      "+------------+------+\n",
      "|wheel_system| count|\n",
      "+------------+------+\n",
      "|         FWD|311793|\n",
      "|         AWD|191167|\n",
      "|         4WD|123943|\n",
      "|         RWD| 43546|\n",
      "|         4X2| 24156|\n",
      "+------------+------+\n",
      "\n"
     ]
    }
   ],
   "source": [
    "from pyspark.sql.functions import col\n",
    "\n",
    "# Count the frequency of each category\n",
    "df.groupBy('body_type').count().sort(col('count').desc()).show()\n",
    "df.groupBy('engine_cylinders').count().sort(col('count').desc()).show()\n",
    "df.groupBy('franchise_make').count().sort(col('count').desc()).show()\n",
    "df.groupBy('fuel_type').count().sort(col('count').desc()).show()\n",
    "df.groupBy('listing_color').count().sort(col('count').desc()).show()\n",
    "df.groupBy('transmission').count().sort(col('count').desc()).show()\n",
    "df.groupBy('wheel_system').count().sort(col('count').desc()).show()"
   ]
  },
  {
   "cell_type": "markdown",
   "metadata": {},
   "source": [
    "Lastly, for the boolean columns, we can create a pie chart to compare the number of \"True\" and \"False\" instances in the dataset."
   ]
  },
  {
   "cell_type": "code",
   "execution_count": 13,
   "metadata": {},
   "outputs": [],
   "source": [
    "# Note: if the next code chunk throws an error, please downgrade your Numpy version to v1.23.1\n",
    "# Just remove the comment from the code below, run it and restrat the kernel\n",
    "\n",
    "# pip uninstall numpy --yes\n",
    "# pip install numpy==1.23.1"
   ]
  },
  {
   "cell_type": "code",
   "execution_count": 14,
   "metadata": {},
   "outputs": [],
   "source": [
    "# Convert the dataframe to pandas dataframe so that we can use the pandas functions\n",
    "df_pd = df.toPandas()"
   ]
  },
  {
   "cell_type": "code",
   "execution_count": 15,
   "metadata": {},
   "outputs": [
    {
     "data": {
      "text/plain": [
       "Text(0, 0.5, 'has_accidents')"
      ]
     },
     "execution_count": 15,
     "metadata": {},
     "output_type": "execute_result"
    },
    {
     "data": {
      "image/png": "[encoded data removed]",
      "text/plain": [
       "<Figure size 432x288 with 1 Axes>"
      ]
     },
     "metadata": {},
     "output_type": "display_data"
    }
   ],
   "source": [
    "# Create a pie chart to compare the 'has_accidents' column\n",
    "ax1 = df_pd.groupby('has_accidents').size().plot(kind='pie', autopct='%.2f')\n",
    "ax1.set_ylabel('has_accidents')"
   ]
  },
  {
   "cell_type": "code",
   "execution_count": 16,
   "metadata": {},
   "outputs": [
    {
     "data": {
      "text/plain": [
       "Text(0, 0.5, 'is_cpo')"
      ]
     },
     "execution_count": 16,
     "metadata": {},
     "output_type": "execute_result"
    },
    {
     "data": {
      "image/png": "[encoded data removed]",
      "text/plain": [
       "<Figure size 432x288 with 1 Axes>"
      ]
     },
     "metadata": {},
     "output_type": "display_data"
    }
   ],
   "source": [
    "# Create a pie chart to compare the 'is_cpo' column\n",
    "ax2 = df_pd.groupby('is_cpo').size().plot(kind='pie', autopct='%.2f')\n",
    "ax2.set_ylabel('is_cpo')"
   ]
  },
  {
   "cell_type": "code",
   "execution_count": 17,
   "metadata": {},
   "outputs": [
    {
     "data": {
      "text/plain": [
       "Text(0, 0.5, 'is_oemcpo')"
      ]
     },
     "execution_count": 17,
     "metadata": {},
     "output_type": "execute_result"
    },
    {
     "data": {
      "image/png": "[encoded data removed]",
      "text/plain": [
       "<Figure size 432x288 with 1 Axes>"
      ]
     },
     "metadata": {},
     "output_type": "display_data"
    }
   ],
   "source": [
    "# Create a pie chart to compare the 'is_oemcpo' column\n",
    "ax3 = df_pd.groupby('is_oemcpo').size().plot(kind='pie', autopct='%.2f')\n",
    "ax3.set_ylabel('is_oemcpo')"
   ]
  },
  {
   "cell_type": "code",
   "execution_count": 18,
   "metadata": {},
   "outputs": [
    {
     "data": {
      "text/plain": [
       "Text(0, 0.5, 'is_new')"
      ]
     },
     "execution_count": 18,
     "metadata": {},
     "output_type": "execute_result"
    },
    {
     "data": {
      "image/png": "[encoded data removed]",
      "text/plain": [
       "<Figure size 432x288 with 1 Axes>"
      ]
     },
     "metadata": {},
     "output_type": "display_data"
    }
   ],
   "source": [
    "# Create a pie chart to compare the 'is_new' column\n",
    "ax4 = df_pd.groupby('is_new').size().plot(kind='pie', autopct='%.2f')\n",
    "ax4.set_ylabel('is_new')"
   ]
  },
  {
   "cell_type": "code",
   "execution_count": 19,
   "metadata": {},
   "outputs": [
    {
     "data": {
      "text/plain": [
       "Text(0, 0.5, 'isCab')"
      ]
     },
     "execution_count": 19,
     "metadata": {},
     "output_type": "execute_result"
    },
    {
     "data": {
      "image/png": "[encoded data removed]",
      "text/plain": [
       "<Figure size 432x288 with 1 Axes>"
      ]
     },
     "metadata": {},
     "output_type": "display_data"
    }
   ],
   "source": [
    "# Create a pie chart to compare the 'isCab' column\n",
    "ax5 = df_pd.groupby('isCab').size().plot(kind='pie', autopct='%.2f')\n",
    "ax5.set_ylabel('isCab')"
   ]
  },
  {
   "cell_type": "markdown",
   "metadata": {},
   "source": [
    "Other than doing the basic exploration of the dataset, we also need to do in depth exploration on the \"most important\" column, which is the 'price' column. This is because the 'price' column will be used as the target variable. Thus, it is good to explore it in detail."
   ]
  },
  {
   "cell_type": "code",
   "execution_count": 20,
   "metadata": {},
   "outputs": [
    {
     "data": {
      "text/plain": [
       "array([[<Axes: title={'center': 'price'}>]], dtype=object)"
      ]
     },
     "execution_count": 20,
     "metadata": {},
     "output_type": "execute_result"
    },
    {
     "data": {
      "image/png": "[encoded data removed]",
      "text/plain": [
       "<Figure size 720x360 with 1 Axes>"
      ]
     },
     "metadata": {
      "needs_background": "light"
     },
     "output_type": "display_data"
    },
    {
     "data": {
      "image/png": "[encoded data removed]",
      "text/plain": [
       "<Figure size 720x360 with 1 Axes>"
      ]
     },
     "metadata": {
      "needs_background": "light"
     },
     "output_type": "display_data"
    }
   ],
   "source": [
    "# Create a boxplot of the 'price' column\n",
    "df_pd.boxplot('price', figsize = (10,5))\n",
    "\n",
    "# Create a histogram of the 'price' column\n",
    "df_pd.hist('price', figsize = (10,5))"
   ]
  },
  {
   "cell_type": "markdown",
   "metadata": {},
   "source": [
    "From the boxplot, it can be seen that the 'price' column has a really wide range of values, thus resulting in a lot of outliers. However, those data points are true outliers as the price of a used car varies a lot, depending on the features and conditions. Therefore, removing those outliers are not recommended.\n",
    "\n",
    "Next, from the histogram, it can be seen that the distribution is heavily skewed to the right. Interestingly, when comparing the mean and median of the 'price' column in the summary statistic table, the values are not significantly different, which is only by 2,500. The skewness may be caused by the large number of outliers, especially the ones that are greater than upper boundary. The large number of \"big numbers\" may pull the data distribution into a right skewed one."
   ]
  },
  {
   "cell_type": "markdown",
   "metadata": {},
   "source": [
    "# MACHINE LEARNING"
   ]
  },
  {
   "cell_type": "markdown",
   "metadata": {},
   "source": [
    "## FEATURIZATION\n",
    "\n",
    "Before using the data for training a machine learning model, we need to modidy the data first. The Linear Regression model in the PySpark can only take numeric values as the input. Therefore, we need to do some transformation on the string columns (Note: the model can also accept Boolean values as **True** is equal to 1 and **False** is equal to 0). The transformation consists of: \n",
    "\n",
    "* **String Indexing**: to transform the categories into indices\n",
    "* **One Hot Encoding (OHE)**: change the string indices to binary vectors to avoid ordinality problems\n",
    "\n",
    "Then after transforming all the string columns into numeric values, we also need to assemble all of the input columns (features) into a single vector column as the model only accept a single vector column as the input.\n",
    "\n",
    "Lastly, because the numeric columns have wide range of values, it is better to rescale those values into a common scale between 0 and 1 to macth the binary values from the OHE results and the Boolean columns. "
   ]
  },
  {
   "cell_type": "code",
   "execution_count": 21,
   "metadata": {},
   "outputs": [],
   "source": [
    "# Separate the string, numeric, and boolean columns\n",
    "string_columns = [field for (field, dataType) in df.dtypes\n",
    "                    if ((dataType == \"string\") & (field != \"vin\"))]\n",
    "numeric_columns = [field for (field, dataType) in df.dtypes\n",
    "                    if ((dataType in [\"int\", \"double\"]) & (field not in [\"price\", \"log_price\"]))]\n",
    "boolean_columns = [field for (field, dataType) in df.dtypes\n",
    "                    if dataType == \"boolean\"]"
   ]
  },
  {
   "cell_type": "code",
   "execution_count": 22,
   "metadata": {},
   "outputs": [],
   "source": [
    "from pyspark.ml.feature import StringIndexer, OneHotEncoder, VectorAssembler, MinMaxScaler\n",
    "\n",
    "# Define the output column names\n",
    "index_output_cols = [f'{x}_index' for x in string_columns]\n",
    "ohe_output_cols = [f'{x}_ohe' for x in string_columns]\n",
    "\n",
    "# Do string indexing on the string columns\n",
    "# This will transform the categories into indices\n",
    "indexer = StringIndexer(inputCols = string_columns, \n",
    "                        outputCols = index_output_cols).setHandleInvalid(\"keep\")\n",
    "\n",
    "# Do one hot encoding on the indexed columns\n",
    "# This will transform the indices into binary vectors\n",
    "encoder = OneHotEncoder(inputCols = index_output_cols, \n",
    "                        outputCols = ohe_output_cols)\n",
    "\n",
    "# Assemble all the predictors into a single vector column\n",
    "assembler_input_cols = ohe_output_cols + numeric_columns + boolean_columns\n",
    "assembler = VectorAssembler(\n",
    "    inputCols = assembler_input_cols,\n",
    "    outputCol = 'features')\n",
    "\n",
    "# Do rescaling on the numeric columns\n",
    "scaler = MinMaxScaler(inputCol = \"features\",\n",
    "                      outputCol = \"scaled_features\")"
   ]
  },
  {
   "cell_type": "markdown",
   "metadata": {},
   "source": [
    "After the transformation, notice that all of the features' values are between 0 and 1, thus it also better to transform the target variable, 'price', into a smaller value also. This will also help with feature selection as the resulting coefficients obtained from the model should not be too big (easier to eliminate if it is too small)."
   ]
  },
  {
   "cell_type": "code",
   "execution_count": 23,
   "metadata": {},
   "outputs": [],
   "source": [
    "from pyspark.sql.functions import log10\n",
    "\n",
    "# Transform the label column into using a logarithmic transformation\n",
    "df = df.withColumn(\"log_price\", log10(df.price))"
   ]
  },
  {
   "cell_type": "markdown",
   "metadata": {},
   "source": [
    "## MODEL CREATION"
   ]
  },
  {
   "cell_type": "markdown",
   "metadata": {},
   "source": [
    "The machine learning method that we are going to use is Linear Regression. However, because we also have a lot of features, thus we considered to use a **Regularization** method to avoid overfitting. Therefore, here, we will try to compare three types of method:\n",
    "\n",
    "* No regularization\n",
    "* With regularization using the LASSO model\n",
    "* With regularization using the Ridge model"
   ]
  },
  {
   "cell_type": "code",
   "execution_count": 24,
   "metadata": {},
   "outputs": [],
   "source": [
    "# Divide the data into training and test\n",
    "train, tests = df.randomSplit([0.5, 0.5], 42)"
   ]
  },
  {
   "cell_type": "markdown",
   "metadata": {},
   "source": [
    "### NO REGULARIZATION"
   ]
  },
  {
   "cell_type": "code",
   "execution_count": 25,
   "metadata": {},
   "outputs": [
    {
     "name": "stdout",
     "output_type": "stream",
     "text": [
      "Create k-fold cross-validation model for no-regularization at -  2023-11-09 21:19:49.525612\n",
      "Stop at -  2023-11-09 21:19:49.525989\n"
     ]
    }
   ],
   "source": [
    "from pyspark.ml.regression import LinearRegression\n",
    "from pyspark.ml import Pipeline\n",
    "from pyspark.ml.evaluation import RegressionEvaluator\n",
    "from pyspark.ml.tuning import CrossValidator, ParamGridBuilder\n",
    "\n",
    "# Define the linear regression model\n",
    "reg = LinearRegression(labelCol = \"log_price\", featuresCol = \"scaled_features\")\n",
    "\n",
    "# Create the pipeline\n",
    "reg_pipeline = Pipeline(stages = [indexer, encoder, assembler, scaler, reg])\n",
    "\n",
    "# Build a parameter grid for the hyperparameter tuning step\n",
    "# Because we do not use regularization, the the regParam should be zero\n",
    "reg_param_grid = ParamGridBuilder() \\\n",
    "    .addGrid(reg.regParam, [0.0]) \\\n",
    "    .build()\n",
    "\n",
    "# Define the evaluation method for the hyperparameter tuning\n",
    "evaluator = RegressionEvaluator(predictionCol = \"prediction\", labelCol = \"log_price\", metricName = \"rmse\")\n",
    "\n",
    "# Time the start of the process\n",
    "print(\"Create k-fold cross-validation model for no-regularization at - \", datetime.now())\n",
    "\n",
    "# Create the k-fold cross-validation model\n",
    "reg_cross_validator = CrossValidator(estimator = reg_pipeline,\n",
    "                                 evaluator = evaluator,\n",
    "                                 estimatorParamMaps = reg_param_grid,\n",
    "                                 numFolds = 5,\n",
    "                                 parallelism = 2,\n",
    "                                 seed = 42)\n",
    "\n",
    "# Time the end of the process\n",
    "print(\"Stop at - \", datetime.now())"
   ]
  },
  {
   "cell_type": "code",
   "execution_count": 26,
   "metadata": {
    "scrolled": false
   },
   "outputs": [
    {
     "name": "stdout",
     "output_type": "stream",
     "text": [
      "Start training k-fold cross-validation for no-regularization at -  2023-11-09 21:19:49.531199\n",
      "Stop at -  2023-11-09 21:26:35.313534\n"
     ]
    }
   ],
   "source": [
    "# Time the start of the process\n",
    "print(\"Start training k-fold cross-validation for no-regularization at - \", datetime.now())\n",
    "\n",
    "# Train the model using the training data\n",
    "reg_cv_model = reg_cross_validator.fit(train)\n",
    "\n",
    "# Time the end of the process\n",
    "print(\"Stop at - \", datetime.now())\n",
    "\n",
    "# Get the best model from the cross-validation\n",
    "reg_model = reg_cv_model.bestModel"
   ]
  },
  {
   "cell_type": "markdown",
   "metadata": {},
   "source": [
    "### LASSO"
   ]
  },
  {
   "cell_type": "code",
   "execution_count": 27,
   "metadata": {},
   "outputs": [
    {
     "name": "stdout",
     "output_type": "stream",
     "text": [
      "Create k-fold cross-validation model for LASSO at -  2023-11-09 21:26:35.375435\n",
      "Stop at -  2023-11-09 21:26:35.378156\n"
     ]
    }
   ],
   "source": [
    "# Define the linear regression model\n",
    "# Bacause here we use LASSO model, set the 'elasticNetParam' argument equal to 1\n",
    "lasso = LinearRegression(labelCol = \"log_price\", featuresCol = \"scaled_features\", elasticNetParam = 1)\n",
    "\n",
    "# Create the pipeline\n",
    "lasso_pipeline = Pipeline(stages = [indexer, encoder, assembler, scaler, lasso])\n",
    "\n",
    "# Build a parameter grid for the hyperparameter tuning step\n",
    "# Here, we will test 4 level of the regularization rate (regParam)\n",
    "# We will use the cross-validation method to find the best parameter\n",
    "lasso_param_grid = ParamGridBuilder() \\\n",
    "    .addGrid(lasso.regParam, [0.001, 0.01, 0.1, 1.0]) \\\n",
    "    .build()\n",
    "\n",
    "# Time the start of the process\n",
    "print(\"Create k-fold cross-validation model for LASSO at - \", datetime.now())\n",
    "\n",
    "# Create the k-fold cross-validation model\n",
    "lasso_cross_validator = CrossValidator(estimator = lasso_pipeline,\n",
    "                                 estimatorParamMaps = lasso_param_grid,\n",
    "                                 evaluator = evaluator,\n",
    "                                 numFolds = 5,\n",
    "                                 parallelism = 2,\n",
    "                                 seed = 42)\n",
    "\n",
    "# Time the end of the process\n",
    "print(\"Stop at - \", datetime.now())"
   ]
  },
  {
   "cell_type": "code",
   "execution_count": 28,
   "metadata": {
    "scrolled": false
   },
   "outputs": [
    {
     "name": "stdout",
     "output_type": "stream",
     "text": [
      "Start training k-fold cross-validation for LASSO at -  2023-11-09 21:26:35.432731\n",
      "Stop at -  2023-11-09 21:33:34.766520\n"
     ]
    }
   ],
   "source": [
    "# Time the start of the process\n",
    "print(\"Start training k-fold cross-validation for LASSO at - \", datetime.now())\n",
    "\n",
    "# Train the model using the training data\n",
    "lasso_cv_model = lasso_cross_validator.fit(train)\n",
    "\n",
    "# Time the end of the process\n",
    "print(\"Stop at - \", datetime.now())\n",
    "\n",
    "# Get the best model from the cross-validation\n",
    "lasso_model = lasso_cv_model.bestModel"
   ]
  },
  {
   "cell_type": "markdown",
   "metadata": {},
   "source": [
    "### RIDGE"
   ]
  },
  {
   "cell_type": "code",
   "execution_count": 29,
   "metadata": {},
   "outputs": [
    {
     "name": "stdout",
     "output_type": "stream",
     "text": [
      "Create k-fold cross-validation model for Ridge at -  2023-11-09 21:33:34.872161\n",
      "Stop at -  2023-11-09 21:33:34.872788\n"
     ]
    }
   ],
   "source": [
    "# Define the linear regression model\n",
    "# Bacause here we use Ridge model, set the 'elasticNetParam' argument equal to 0\n",
    "ridge = LinearRegression(labelCol = \"log_price\", featuresCol = \"scaled_features\", elasticNetParam = 0)\n",
    "\n",
    "# Create the pipeline\n",
    "ridge_pipeline = Pipeline(stages = [indexer, encoder, assembler, scaler, ridge])\n",
    "\n",
    "# Build a parameter grid for the hyperparameter tuning step\n",
    "# Here, we will test 4 level of the regularization rate (regParam)\n",
    "# We will use the cross-validation method to find the best parameter\n",
    "ridge_param_grid = ParamGridBuilder() \\\n",
    "    .addGrid(ridge.regParam, [0.001, 0.01, 0.1, 1.0]) \\\n",
    "    .build()\n",
    "\n",
    "# Time the start of the process\n",
    "print(\"Create k-fold cross-validation model for Ridge at - \", datetime.now())\n",
    "\n",
    "# Create the k-fold cross-validation model\n",
    "ridge_cross_validator = CrossValidator(estimator = ridge_pipeline,\n",
    "                                 estimatorParamMaps = ridge_param_grid,\n",
    "                                 evaluator = evaluator,\n",
    "                                 numFolds = 5,\n",
    "                                 parallelism = 2,\n",
    "                                 seed = 42)\n",
    "\n",
    "# Time the end of the process\n",
    "print(\"Stop at - \", datetime.now())"
   ]
  },
  {
   "cell_type": "code",
   "execution_count": 30,
   "metadata": {},
   "outputs": [
    {
     "name": "stdout",
     "output_type": "stream",
     "text": [
      "Start training k-fold cross-validation for Ridge at -  2023-11-09 21:33:34.910608\n",
      "Stop at -  2023-11-09 21:39:44.540909\n"
     ]
    }
   ],
   "source": [
    "# Time the start of the process\n",
    "print(\"Start training k-fold cross-validation for Ridge at - \", datetime.now())\n",
    "\n",
    "# Train the model using the training data\n",
    "ridge_cv_model = ridge_cross_validator.fit(train)\n",
    "\n",
    "# Time the end of the process\n",
    "print(\"Stop at - \", datetime.now())\n",
    "\n",
    "# Get the best model from the cross-validation\n",
    "ridge_model = ridge_cv_model.bestModel"
   ]
  },
  {
   "cell_type": "markdown",
   "metadata": {},
   "source": [
    "## MODEL EVALUATION\n",
    "\n",
    "After creating the model, then the next step is to evaluate the model. For the evaluation criteria, here we use RMSE (Root Mean Squared Error) and R2."
   ]
  },
  {
   "cell_type": "code",
   "execution_count": 31,
   "metadata": {},
   "outputs": [],
   "source": [
    "# Split the test data into 10 subsets to check whether the model is overfitted or not\n",
    "split_test = tests.randomSplit([0.1]*10, 42)\n",
    "\n",
    "# Create empty containers to saved the evaluation results\n",
    "rmse = []\n",
    "r2 = []\n",
    "\n",
    "for i in range(len(split_test)):\n",
    "    # Define the test data\n",
    "    test = split_test[i]\n",
    "    \n",
    "    # Test the no regularization model on the test data\n",
    "    reg_pred = reg_model.transform(test)\n",
    "    reg_pred = reg_pred.withColumn(\"price_pred\", 10**reg_pred.prediction)\n",
    "\n",
    "    # Test the LASSO model on the test data\n",
    "    lasso_pred = lasso_model.transform(test)\n",
    "    lasso_pred = lasso_pred.withColumn(\"price_pred\", 10**lasso_pred.prediction)\n",
    "    \n",
    "    # Test the Ridge model on the test data\n",
    "    ridge_pred = ridge_model.transform(test)\n",
    "    ridge_pred = ridge_pred.withColumn(\"price_pred\", 10**ridge_pred.prediction)\n",
    "    \n",
    "    # Define the evaluation method\n",
    "    evaluation = RegressionEvaluator(predictionCol = \"price_pred\", labelCol = \"price\", metricName = \"rmse\")\n",
    "\n",
    "    # Calculate the RMSE for all methods and save the result\n",
    "    rmse.append({\"reg\": evaluation.evaluate(reg_pred),\n",
    "    \"lasso\": evaluation.evaluate(lasso_pred),\n",
    "    \"ridge\": evaluation.evaluate(ridge_pred)})\n",
    "\n",
    "    # Calculate the R2 for all methods and save the result\n",
    "    r2.append({\"reg\": evaluation.setMetricName(\"r2\").evaluate(reg_pred),\n",
    "    \"lasso\": evaluation.setMetricName(\"r2\").evaluate(lasso_pred),\n",
    "    \"ridge\": evaluation.setMetricName(\"r2\").evaluate(ridge_pred)})"
   ]
  },
  {
   "cell_type": "markdown",
   "metadata": {},
   "source": [
    "After calculating all the evaluation criteria, then we need to compare the results from each model."
   ]
  },
  {
   "cell_type": "code",
   "execution_count": 32,
   "metadata": {},
   "outputs": [
    {
     "name": "stderr",
     "output_type": "stream",
     "text": [
      "/home/student/.local/lib/python3.8/site-packages/pyspark/sql/session.py:378: UserWarning: inferring schema from dict is deprecated,please use pyspark.sql.Row instead\n",
      "  warnings.warn(\"inferring schema from dict is deprecated,\"\n"
     ]
    },
    {
     "name": "stdout",
     "output_type": "stream",
     "text": [
      "+------------------+------------------+------------------+\n",
      "|             lasso|               reg|             ridge|\n",
      "+------------------+------------------+------------------+\n",
      "| 4739.265707058157| 4625.039167401189| 4621.462722564221|\n",
      "| 4988.899534200671| 4853.560004423535| 4853.772799934557|\n",
      "| 5032.832293203693| 4864.532870857217|  4867.89260513913|\n",
      "| 4813.180185489388|  4665.05973508611| 4664.093001666433|\n",
      "|15159.436028017739|15111.842388195711|15112.224154259296|\n",
      "| 5058.670681320016| 4998.546577330865| 4994.442154561905|\n",
      "| 4707.233223717964| 4605.791944521248| 4603.125513300127|\n",
      "| 4822.300283156026|4699.3868100958225| 4700.168956059427|\n",
      "| 5011.375872310145| 4853.285113931833|4855.1524669726705|\n",
      "|  6999.17976256856| 6948.685168650682| 6947.542768345361|\n",
      "+------------------+------------------+------------------+\n",
      "\n",
      "+------------------+------------------+------------------+\n",
      "|             lasso|               reg|             ridge|\n",
      "+------------------+------------------+------------------+\n",
      "|0.8417185516718135|0.8492564532839103| 0.849489496729599|\n",
      "|0.8337400260021909|0.8426383147227172|0.8426245159464512|\n",
      "|0.8268993432393532|0.8382828486209148|0.8380593886099899|\n",
      "|0.8383063494190567|0.8481051167960718| 0.848168064176512|\n",
      "|0.3518287100317298|0.3558922392168178|0.3558596949930135|\n",
      "|0.8205133578163705|0.8247545286537382|0.8250422067546612|\n",
      "|0.8352351630381121|0.8422600379284537|0.8424426258590285|\n",
      "|0.8316154942447471|0.8400898564361123|0.8400366224774287|\n",
      "|   0.8257005255865|0.8365241015521538|0.8363982791715164|\n",
      "|0.6958693022215243|0.7002416890742538|0.7003402446506884|\n",
      "+------------------+------------------+------------------+\n",
      "\n"
     ]
    }
   ],
   "source": [
    "# Create two dataframes, both from the RMSE results and R2 results\n",
    "# To make it easier to compare the results\n",
    "rmse_validation = spark.createDataFrame(rmse)\n",
    "r2_validation = spark.createDataFrame(r2)\n",
    "\n",
    "rmse_validation.show()\n",
    "r2_validation.show()"
   ]
  },
  {
   "cell_type": "markdown",
   "metadata": {},
   "source": [
    "From the comparison table above, overall there are **no significant difference** of the RMSE and R2 values between each model and subset, except for subset number 5 and 10. First, we need to investigate the cause of that significant difference.\n",
    "\n",
    "One possible cause is because the test data contains some **extreme outliers**, especially with a very large target variable value. This may cause the resulting difference to be large as the model cannot accomodate those \"big\" values.\n",
    "\n",
    "Therefore, we need to compare the data distribution of the training data, test data number 5, and test data number 10."
   ]
  },
  {
   "cell_type": "code",
   "execution_count": 33,
   "metadata": {},
   "outputs": [
    {
     "data": {
      "text/plain": [
       "<Axes: >"
      ]
     },
     "execution_count": 33,
     "metadata": {},
     "output_type": "execute_result"
    },
    {
     "data": {
      "image/png": "[encoded data removed]",
      "text/plain": [
       "<Figure size 432x288 with 1 Axes>"
      ]
     },
     "metadata": {
      "needs_background": "light"
     },
     "output_type": "display_data"
    }
   ],
   "source": [
    "train.toPandas().boxplot('price')"
   ]
  },
  {
   "cell_type": "code",
   "execution_count": 34,
   "metadata": {},
   "outputs": [
    {
     "data": {
      "text/plain": [
       "<Axes: >"
      ]
     },
     "execution_count": 34,
     "metadata": {},
     "output_type": "execute_result"
    },
    {
     "data": {
      "image/png": "[encoded data removed]",
      "text/plain": [
       "<Figure size 432x288 with 1 Axes>"
      ]
     },
     "metadata": {
      "needs_background": "light"
     },
     "output_type": "display_data"
    }
   ],
   "source": [
    "split_test[4].toPandas().boxplot('price')"
   ]
  },
  {
   "cell_type": "code",
   "execution_count": 35,
   "metadata": {},
   "outputs": [
    {
     "data": {
      "text/plain": [
       "<Axes: >"
      ]
     },
     "execution_count": 35,
     "metadata": {},
     "output_type": "execute_result"
    },
    {
     "data": {
      "image/png": "[encoded data removed]",
      "text/plain": [
       "<Figure size 432x288 with 1 Axes>"
      ]
     },
     "metadata": {
      "needs_background": "light"
     },
     "output_type": "display_data"
    }
   ],
   "source": [
    "split_test[9].toPandas().boxplot('price')"
   ]
  },
  {
   "cell_type": "code",
   "execution_count": 36,
   "metadata": {},
   "outputs": [
    {
     "name": "stdout",
     "output_type": "stream",
     "text": [
      "+-------+-----------------+\n",
      "|summary|            price|\n",
      "+-------+-----------------+\n",
      "|  count|           347395|\n",
      "|   mean|24026.13024496611|\n",
      "| stddev|12113.35388334817|\n",
      "|    min|            484.0|\n",
      "|    25%|          16130.0|\n",
      "|    50%|          21500.0|\n",
      "|    75%|          29993.0|\n",
      "|    max|         999995.0|\n",
      "+-------+-----------------+\n",
      "\n",
      "+-------+------------------+\n",
      "|summary|             price|\n",
      "+-------+------------------+\n",
      "|  count|             34503|\n",
      "|   mean|24103.888736051937|\n",
      "| stddev|18829.745191028436|\n",
      "|    min|             484.0|\n",
      "|    25%|           16000.0|\n",
      "|    50%|           21503.0|\n",
      "|    75%|           29990.0|\n",
      "|    max|         2698500.0|\n",
      "+-------+------------------+\n",
      "\n",
      "+-------+------------------+\n",
      "|summary|             price|\n",
      "+-------+------------------+\n",
      "|  count|             34968|\n",
      "|   mean| 23970.31338452299|\n",
      "| stddev|12691.800257632383|\n",
      "|    min|             495.0|\n",
      "|    25%|           16177.0|\n",
      "|    50%|           21495.0|\n",
      "|    75%|           29995.0|\n",
      "|    max|          988512.0|\n",
      "+-------+------------------+\n",
      "\n"
     ]
    }
   ],
   "source": [
    "train.select('price').summary().show()\n",
    "split_test[4].select('price').summary().show()\n",
    "split_test[9].select('price').summary().show()"
   ]
  },
  {
   "cell_type": "markdown",
   "metadata": {},
   "source": [
    "Notice that subset number 5 and 10 (index 4 and 9, respectively) have an extreme outlier where the price is around or more than 1 million USD. Even though the training data also contain an extreme outlier, there is only one point of that data, thus it may not considered much when training the model.\n",
    "\n",
    "Therefore, let's check the evaluation metrics if we remove those outliers."
   ]
  },
  {
   "cell_type": "code",
   "execution_count": 37,
   "metadata": {},
   "outputs": [
    {
     "name": "stderr",
     "output_type": "stream",
     "text": [
      "/home/student/.local/lib/python3.8/site-packages/pyspark/sql/session.py:378: UserWarning: inferring schema from dict is deprecated,please use pyspark.sql.Row instead\n",
      "  warnings.warn(\"inferring schema from dict is deprecated,\"\n"
     ]
    },
    {
     "name": "stdout",
     "output_type": "stream",
     "text": [
      "+-----------------+-----------------+-----------------+\n",
      "|            lasso|              reg|            ridge|\n",
      "+-----------------+-----------------+-----------------+\n",
      "|4789.668140863634| 4640.22323138043|4641.183455255928|\n",
      "| 4649.80589827395|4571.456815751202| 4570.21154561114|\n",
      "+-----------------+-----------------+-----------------+\n",
      "\n",
      "+------------------+------------------+------------------+\n",
      "|             lasso|               reg|             ridge|\n",
      "+------------------+------------------+------------------+\n",
      "|0.8442037737447807|0.8537742577685418|0.8537137331042295|\n",
      "|0.8392211977078786|0.8445937846404321|0.8446784387756278|\n",
      "+------------------+------------------+------------------+\n",
      "\n"
     ]
    }
   ],
   "source": [
    "# Create new empty containers to saved the new evaluation results\n",
    "rmse_2 = []\n",
    "r2_2 = []\n",
    "\n",
    "# Retest the subset no 5 and 10 while removing the extreme outlier\n",
    "for i in [4,9]:\n",
    "    # Define the test data\n",
    "    test = split_test[i]\n",
    "    \n",
    "    # Filter out the extreme outlier\n",
    "    test = test.filter(test.price < 900000)\n",
    "    \n",
    "    \n",
    "    # Test the no regularization model on the test data\n",
    "    reg_pred = reg_model.transform(test)\n",
    "    reg_pred = reg_pred.withColumn(\"price_pred\", 10**reg_pred.prediction)\n",
    "\n",
    "    # Test the LASSO model on the test data\n",
    "    lasso_pred = lasso_model.transform(test)\n",
    "    lasso_pred = lasso_pred.withColumn(\"price_pred\", 10**lasso_pred.prediction)\n",
    "    \n",
    "    # Test the Ridge model on the test data\n",
    "    ridge_pred = ridge_model.transform(test)\n",
    "    ridge_pred = ridge_pred.withColumn(\"price_pred\", 10**ridge_pred.prediction)\n",
    "    \n",
    "    # Define the evaluation method\n",
    "    evaluation = RegressionEvaluator(predictionCol = \"price_pred\", labelCol = \"price\", metricName = \"rmse\")\n",
    "\n",
    "    # Calculate the RMSE for all methods\n",
    "    rmse_2.append({\"reg\": evaluation.evaluate(reg_pred),\n",
    "    \"lasso\": evaluation.evaluate(lasso_pred),\n",
    "    \"ridge\": evaluation.evaluate(ridge_pred)})\n",
    "\n",
    "    # Calculate the R2 for all methods\n",
    "    r2_2.append({\"reg\": evaluation.setMetricName(\"r2\").evaluate(reg_pred),\n",
    "    \"lasso\": evaluation.setMetricName(\"r2\").evaluate(lasso_pred),\n",
    "    \"ridge\": evaluation.setMetricName(\"r2\").evaluate(ridge_pred)})\n",
    "\n",
    "# Create new dataframes to show the new evaluation results\n",
    "rmse_validation_2 = spark.createDataFrame(rmse_2)\n",
    "r2_validation_2 = spark.createDataFrame(r2_2)\n",
    "\n",
    "rmse_validation_2.show()\n",
    "r2_validation_2.show()"
   ]
  },
  {
   "cell_type": "markdown",
   "metadata": {},
   "source": [
    "After redoing the evaluation for subset number 5 and 10 while removing the extreme outliers, notice that the metrics' values are quite similar with the other 8 subsets. Therefore, we can safely conclude that the model is **not overfitted**. \n",
    "\n",
    "However, it is important to also note that the model cannot handle the prediction where the price is really big (assumed to be more than 50,000 USD based on the distribution of the training data).\n",
    "\n",
    "Now, let's compare the overall evaluation metrics of each model by calculating the average and the standard deviation."
   ]
  },
  {
   "cell_type": "code",
   "execution_count": 38,
   "metadata": {},
   "outputs": [
    {
     "name": "stdout",
     "output_type": "stream",
     "text": [
      "+-----------------+------------------+------------------+\n",
      "|            lasso|               reg|             ridge|\n",
      "+-----------------+------------------+------------------+\n",
      "|4739.265707058157| 4625.039167401189| 4621.462722564221|\n",
      "|4988.899534200671| 4853.560004423535| 4853.772799934557|\n",
      "|5032.832293203693| 4864.532870857217|  4867.89260513913|\n",
      "|4813.180185489388|  4665.05973508611| 4664.093001666433|\n",
      "|5058.670681320016| 4998.546577330865| 4994.442154561905|\n",
      "|4707.233223717964| 4605.791944521248| 4603.125513300127|\n",
      "|4822.300283156026|4699.3868100958225| 4700.168956059427|\n",
      "|5011.375872310145| 4853.285113931833|4855.1524669726705|\n",
      "|4789.668140863634|  4640.22323138043| 4641.183455255928|\n",
      "| 4649.80589827395| 4571.456815751202|  4570.21154561114|\n",
      "+-----------------+------------------+------------------+\n",
      "\n",
      "+------------------+------------------+------------------+\n",
      "|             lasso|               reg|             ridge|\n",
      "+------------------+------------------+------------------+\n",
      "|0.8417185516718135|0.8492564532839103| 0.849489496729599|\n",
      "|0.8337400260021909|0.8426383147227172|0.8426245159464512|\n",
      "|0.8268993432393532|0.8382828486209148|0.8380593886099899|\n",
      "|0.8383063494190567|0.8481051167960718| 0.848168064176512|\n",
      "|0.8205133578163705|0.8247545286537382|0.8250422067546612|\n",
      "|0.8352351630381121|0.8422600379284537|0.8424426258590285|\n",
      "|0.8316154942447471|0.8400898564361123|0.8400366224774287|\n",
      "|   0.8257005255865|0.8365241015521538|0.8363982791715164|\n",
      "|0.6958693022215243|0.7002416890742538|0.7003402446506884|\n",
      "|0.8442037737447807|0.8537742577685418|0.8537137331042295|\n",
      "|0.8392211977078786|0.8445937846404321|0.8446784387756278|\n",
      "+------------------+------------------+------------------+\n",
      "\n"
     ]
    }
   ],
   "source": [
    "# Remove the original subset number 5 and 10\n",
    "# Append the new calculation\n",
    "rmse_validation = rmse_validation.filter(rmse_validation.reg < 6000).union(rmse_validation_2)\n",
    "r2_validation = r2_validation.filter(r2_validation.reg > 0.7).union(r2_validation_2)\n",
    "\n",
    "rmse_validation.show()\n",
    "r2_validation.show()"
   ]
  },
  {
   "cell_type": "code",
   "execution_count": 39,
   "metadata": {},
   "outputs": [
    {
     "name": "stdout",
     "output_type": "stream",
     "text": [
      "+-----------------+------------------+-----------------+------------------+------------------+------------------+\n",
      "|         avg(reg)|  stddev_samp(reg)|       avg(lasso)|stddev_samp(lasso)|        avg(ridge)|stddev_samp(ridge)|\n",
      "+-----------------+------------------+-----------------+------------------+------------------+------------------+\n",
      "|4737.688227077945|143.32798264271725|4861.323181959365|148.88818684530133|4737.1505221065545|143.73872838789856|\n",
      "+-----------------+------------------+-----------------+------------------+------------------+------------------+\n",
      "\n",
      "+------------------+------------------+------------------+-------------------+------------------+-------------------+\n",
      "|          avg(reg)|  stddev_samp(reg)|        avg(lasso)| stddev_samp(lasso)|        avg(ridge)| stddev_samp(ridge)|\n",
      "+------------------+------------------+------------------+-------------------+------------------+-------------------+\n",
      "|0.8291382717706637|0.0434239291602262|0.8211839167902116|0.04217971737952292|0.8291812378414302|0.04340207066403948|\n",
      "+------------------+------------------+------------------+-------------------+------------------+-------------------+\n",
      "\n"
     ]
    }
   ],
   "source": [
    "from pyspark.sql.functions import mean, stddev\n",
    "\n",
    "# Calculate the average and the standard deviation of the metrics\n",
    "rmse_validation.select(mean(rmse_validation.reg), stddev(rmse_validation.reg), \n",
    "                       mean(rmse_validation.lasso), stddev(rmse_validation.lasso),\n",
    "                       mean(rmse_validation.ridge), stddev(rmse_validation.ridge)).show()\n",
    "\n",
    "r2_validation.select(mean(r2_validation.reg), stddev(r2_validation.reg), \n",
    "                       mean(r2_validation.lasso), stddev(r2_validation.lasso),\n",
    "                       mean(r2_validation.ridge), stddev(r2_validation.ridge)).show()"
   ]
  },
  {
   "cell_type": "markdown",
   "metadata": {},
   "source": [
    "From the comparison above, it can be seen that the **Ridge model** has the lowest RMSE and highest R2 value."
   ]
  },
  {
   "cell_type": "markdown",
   "metadata": {},
   "source": [
    "# FEATURE SELECTION\n",
    "\n",
    "One of our goal in this project is also for determining which features have big impact on the price. This can be evaluated by comparing the coefficients in the model. Now, let's see the coefficients from each model"
   ]
  },
  {
   "cell_type": "code",
   "execution_count": 40,
   "metadata": {},
   "outputs": [],
   "source": [
    "reg_coeff = reg_model.stages[-1].coefficients\n",
    "lasso_coeff = lasso_model.stages[-1].coefficients\n",
    "ridge_coeff = ridge_model.stages[-1].coefficients\n",
    "\n",
    "numeric_metadata = reg_pred.select(\"features\").schema[0].metadata.get('ml_attr').get('attrs').get('numeric')\n",
    "binary_metadata = reg_pred.select(\"features\").schema[0].metadata.get('ml_attr').get('attrs').get('binary')\n",
    "\n",
    "feature_names = binary_metadata + numeric_metadata"
   ]
  },
  {
   "cell_type": "code",
   "execution_count": 41,
   "metadata": {},
   "outputs": [
    {
     "name": "stdout",
     "output_type": "stream",
     "text": [
      "('year', 1.0523767513216964)\n",
      "('mileage', -0.6543871075416312)\n",
      "('horsepower', 0.5546259775911406)\n",
      "('city_fuel_economy', 0.5505353899073014)\n",
      "('highway_fuel_economy', -0.42128018313291277)\n",
      "('torque', 0.3413681034508074)\n",
      "('engine_cylinders_ohe_V12', 0.3037879141116258)\n",
      "('franchise_make_ohe_McLaren', 0.2645883305433444)\n",
      "('engine_cylinders_ohe_W12 Flex Fuel Vehicle', 0.2542560034394101)\n",
      "('franchise_make_ohe_Ferrari', 0.21248019806760404)\n",
      "('engine_cylinders_ohe_W12', 0.154975783942023)\n",
      "('engine_cylinders_ohe_V10', -0.15285401417311345)\n",
      "('franchise_make_ohe_Bentley', 0.15264440032913326)\n",
      "('franchise_make_ohe_Rolls-Royce', 0.11441643902514796)\n",
      "('franchise_make_ohe_Pagani', 0.10673275251624237)\n",
      "('franchise_make_ohe_Rover', 0.09806773993340728)\n",
      "('engine_displacement', 0.0900582337724402)\n",
      "('engine_cylinders_ohe_I6 Hybrid', -0.08915681418863702)\n",
      "('franchise_make_ohe_Mercedes-Benz', 0.08633304067768324)\n",
      "('franchise_make_ohe_Land Rover', 0.08553196837465349)\n",
      "('franchise_make_ohe_Jaguar', 0.08543096563139482)\n",
      "('engine_cylinders_ohe_R2', 0.0754014436506009)\n",
      "('engine_cylinders_ohe_V6 Biodiesel', 0.07518234580190433)\n",
      "('fuel_type_ohe_Biodiesel', 0.07518234580190433)\n",
      "('franchise_make_ohe_Lotus', 0.07490962467166727)\n",
      "('franchise_make_ohe_Lexus', 0.0742264057529919)\n",
      "('franchise_make_ohe_Lamborghini', 0.06989104984032599)\n",
      "('franchise_make_ohe_BMW', 0.06019334958235897)\n",
      "('franchise_make_ohe_Maserati', 0.05536068930250719)\n",
      "('is_new', 0.055194365619308405)\n",
      "('franchise_make_ohe_Audi', 0.05207049863686864)\n",
      "('franchise_make_ohe_Aston Martin', 0.05152081657047943)\n",
      "('engine_cylinders_ohe_I4 Hybrid', -0.048210336062378525)\n",
      "('engine_cylinders_ohe_H4 Hybrid', 0.04642421245870076)\n",
      "('franchise_make_ohe_MINI', 0.04454419394019171)\n",
      "('franchise_make_ohe_Dodge', -0.043719734309182474)\n",
      "('franchise_make_ohe_Volvo', 0.041465532028157934)\n",
      "('engine_cylinders_ohe_V6 Flex Fuel Vehicle', -0.040949036654451085)\n",
      "('franchise_make_ohe_RAM', -0.04056575856458877)\n",
      "('engine_cylinders_ohe_V6 Diesel', 0.03994199097334466)\n",
      "('engine_cylinders_ohe_I6', 0.0394444263332518)\n",
      "('isCab', -0.039231877782088836)\n",
      "('franchise_make_ohe_smart', 0.03695578557772241)\n",
      "('engine_cylinders_ohe_I3', -0.03621276868756682)\n",
      "('fuel_type_ohe_Hybrid', -0.03600400258699136)\n",
      "('wheel_system_ohe_4WD', 0.03490627792873983)\n",
      "('back_legroom', -0.033802650166493906)\n",
      "('fuel_tank_volume', 0.03287694473120762)\n",
      "('wheelbase', -0.03283864353579212)\n",
      "('engine_cylinders_ohe_I5', -0.032690614672449304)\n",
      "('wheel_system_ohe_FWD', -0.03255728100181127)\n",
      "('franchise_make_ohe_Porsche', 0.032277154843527854)\n",
      "('is_cpo', 0.03163527913883005)\n",
      "('engine_cylinders_ohe_V8 Flex Fuel Vehicle', 0.03083608279353444)\n",
      "('franchise_make_ohe_Kia', -0.03047878458518935)\n",
      "('franchise_make_ohe_Chrysler', -0.02982581136639117)\n",
      "('body_type_ohe_Van', -0.029427889680582724)\n",
      "('listing_color_ohe_PINK', 0.02873154900792269)\n",
      "('fuel_type_ohe_Diesel', 0.028372981478001918)\n",
      "('body_type_ohe_Hatchback', -0.027871827085101882)\n",
      "('engine_cylinders_ohe_I4 Diesel', 0.027039139818134262)\n",
      "('franchise_make_ohe_Ford', -0.025503556890762034)\n",
      "('franchise_make_ohe_Cadillac', 0.02462825810856561)\n",
      "('daysonmarket', -0.024449043267480403)\n",
      "('franchise_make_ohe_Toyota', 0.023612420610034508)\n",
      "('franchise_make_ohe_Nissan', -0.02344482063312413)\n",
      "('is_oemcpo', -0.022928519534478647)\n",
      "('franchise_make_ohe_INFINITI', 0.021587191311862364)\n",
      "('franchise_make_ohe_Mitsubishi', -0.020486614250367685)\n",
      "('engine_cylinders_ohe_V8', -0.020311260261540214)\n",
      "('engine_cylinders_ohe_I6 Diesel', 0.01969322023750222)\n",
      "('franchise_make_ohe_Acura', 0.01957356814889274)\n",
      "('franchise_make_ohe_Volkswagen', -0.01952108077376226)\n",
      "('length', 0.01951794913548628)\n",
      "('franchise_make_ohe_Hyundai', -0.018094679577028618)\n",
      "('body_type_ohe_Coupe', -0.017525476175135536)\n",
      "('listing_color_ohe_GOLD', -0.017175894903754284)\n",
      "('franchise_make_ohe_Honda', 0.016622005950622288)\n",
      "('engine_cylinders_ohe_H6', -0.016176226663593512)\n",
      "('franchise_make_ohe_SRT', 0.015932438401088378)\n",
      "('front_legroom', -0.01592381317712946)\n",
      "('body_type_ohe_Convertible', 0.01579297377249868)\n",
      "('wheel_system_ohe_AWD', 0.015015138402385214)\n",
      "('fuel_type_ohe_Flex Fuel Vehicle', -0.014759565082092698)\n",
      "('body_type_ohe_Minivan', 0.01318323253216261)\n",
      "('listing_color_ohe_PURPLE', -0.012677157641680998)\n",
      "('engine_cylinders_ohe_H4', 0.01194675182432534)\n",
      "('engine_cylinders_ohe_I4 Compressed Natural Gas', 0.011435919316453677)\n",
      "('listing_color_ohe_TEAL', 0.011397899336271063)\n",
      "('width', -0.011235315116405901)\n",
      "('engine_cylinders_ohe_V6 Compressed Natural Gas', -0.010849455718315576)\n",
      "('body_type_ohe_Wagon', 0.010661038266266016)\n",
      "('body_type_ohe_Sedan', -0.010574631069005332)\n",
      "('engine_cylinders_ohe_I4 Flex Fuel Vehicle', -0.010474668888730526)\n",
      "('franchise_make_ohe_Genesis', -0.010227340067963997)\n",
      "('franchise_make_ohe_Mazda', -0.010192099044033908)\n",
      "('transmission_ohe_Dual Clutch', 0.01004612697924874)\n",
      "('fuel_type_ohe_Gasoline', 0.01001898832105792)\n",
      "('engine_cylinders_ohe_V6', 0.009835693032311996)\n",
      "('franchise_make_ohe_Chevrolet', -0.009339038500916868)\n",
      "('listing_color_ohe_GREEN', 0.009036005172679084)\n",
      "('owner_count', -0.008983330270953483)\n",
      "('body_type_ohe_SUV / Crossover', 0.007880309309104218)\n",
      "('franchise_make_ohe_Alfa Romeo', -0.007330122628861406)\n",
      "('franchise_make_ohe_GMC', -0.007324546380795641)\n",
      "('franchise_make_ohe_Scion', -0.007199137032065999)\n",
      "('franchise_make_ohe_Jeep', -0.006839663138911608)\n",
      "('franchise_make_ohe_Shelby', -0.006375027529093272)\n",
      "('has_accidents', -0.006024338521031546)\n",
      "('fuel_type_ohe_Compressed Natural Gas', 0.005864576823968595)\n",
      "('engine_cylinders_ohe_V6 Hybrid', 0.005511364781189293)\n",
      "('listing_color_ohe_ORANGE', -0.005292605884756459)\n",
      "('listing_color_ohe_YELLOW', 0.005234712248665099)\n",
      "('listing_color_ohe_BLUE', -0.005102613244527138)\n",
      "('height', -0.005024675161289213)\n",
      "('franchise_make_ohe_Subaru', -0.004859180769149359)\n",
      "('listing_color_ohe_UNKNOWN', 0.004402207143496831)\n",
      "('wheel_system_ohe_4X2', 0.004189219807166844)\n",
      "('body_type_ohe_Pickup Truck', 0.004107643102397062)\n",
      "('listing_color_ohe_RED', -0.003895874639578463)\n",
      "('franchise_make_ohe_FIAT', 0.003649943739974416)\n",
      "('wheel_system_ohe_RWD', -0.003472651165820086)\n",
      "('listing_color_ohe_WHITE', 0.0028184958791862484)\n",
      "('franchise_make_ohe_Lincoln', -0.002562767604162011)\n",
      "('listing_color_ohe_SILVER', -0.0024964534676510204)\n",
      "('engine_cylinders_ohe_I4', -0.0023622870526508926)\n",
      "('listing_color_ohe_GRAY', -0.0022058993514370282)\n",
      "('listing_color_ohe_BLACK', 0.0018352241136465016)\n",
      "('transmission_ohe_M', -0.0015279200456888857)\n",
      "('franchise_make_ohe_Buick', -0.0014404165453150632)\n",
      "('listing_color_ohe_BROWN', 0.001040883519148997)\n",
      "('transmission_ohe_CVT', 0.0007017737809998102)\n",
      "('transmission_ohe_A', -0.0006677168426671487)\n"
     ]
    }
   ],
   "source": [
    "reg_feature_importance = []\n",
    "\n",
    "for idx in range(len(feature_names)):\n",
    "    reg_feature_importance.append((feature_names[idx][\"name\"], reg_coeff[idx]))\n",
    "\n",
    "reg_feature_importance =sorted(reg_feature_importance, key=lambda x: abs(x[1]), reverse=True)\n",
    "\n",
    "for each in reg_feature_importance:\n",
    "    print(each)"
   ]
  },
  {
   "cell_type": "code",
   "execution_count": 42,
   "metadata": {},
   "outputs": [
    {
     "name": "stdout",
     "output_type": "stream",
     "text": [
      "('year', 1.0518717779921376)\n",
      "('mileage', -0.6567315970928455)\n",
      "('horsepower', 0.5561637098896989)\n",
      "('torque', 0.3168233380446597)\n",
      "('engine_cylinders_ohe_V12', 0.31668084893133097)\n",
      "('franchise_make_ohe_McLaren', 0.17950970253700496)\n",
      "('engine_cylinders_ohe_W12', 0.15683374820042478)\n",
      "('franchise_make_ohe_Bentley', 0.12011154459496645)\n",
      "('highway_fuel_economy', -0.09996250154356981)\n",
      "('franchise_make_ohe_Mercedes-Benz', 0.0939509050620777)\n",
      "('franchise_make_ohe_Rolls-Royce', 0.08103083476836827)\n",
      "('franchise_make_ohe_Land Rover', 0.0798799417524047)\n",
      "('franchise_make_ohe_Lexus', 0.07391055490445322)\n",
      "('franchise_make_ohe_Jaguar', 0.06916493748823602)\n",
      "('engine_cylinders_ohe_V6 Flex Fuel Vehicle', -0.06504359654262437)\n",
      "('franchise_make_ohe_BMW', 0.06366747219498217)\n",
      "('engine_cylinders_ohe_W12 Flex Fuel Vehicle', 0.05863884234376727)\n",
      "('city_fuel_economy', 0.05817678177739476)\n",
      "('franchise_make_ohe_Audi', 0.05126671616991361)\n",
      "('engine_cylinders_ohe_V6 Biodiesel', 0.04679465469763692)\n",
      "('fuel_type_ohe_Biodiesel', 0.04679465469763692)\n",
      "('wheel_system_ohe_FWD', -0.04506937054912264)\n",
      "('engine_cylinders_ohe_I4 Flex Fuel Vehicle', -0.0404846341243336)\n",
      "('isCab', -0.03804633831163421)\n",
      "('franchise_make_ohe_Dodge', -0.03523617601563499)\n",
      "('franchise_make_ohe_Maserati', 0.03426945872619293)\n",
      "('franchise_make_ohe_Volvo', 0.03289121025965399)\n",
      "('fuel_type_ohe_Diesel', 0.032260768104930455)\n",
      "('wheelbase', -0.03143519340150444)\n",
      "('engine_cylinders_ohe_I6', 0.031076276572451832)\n",
      "('franchise_make_ohe_RAM', -0.02869300867685959)\n",
      "('fuel_tank_volume', 0.027910656864654132)\n",
      "('franchise_make_ohe_Toyota', 0.027854599363252765)\n",
      "('back_legroom', -0.027449938831547546)\n",
      "('body_type_ohe_Hatchback', -0.027237149722485973)\n",
      "('wheel_system_ohe_4WD', 0.026798200910641976)\n",
      "('body_type_ohe_Coupe', -0.0258240944819666)\n",
      "('franchise_make_ohe_MINI', 0.025569804557520184)\n",
      "('is_new', 0.02343379983590517)\n",
      "('franchise_make_ohe_Cadillac', 0.02212956740494192)\n",
      "('body_type_ohe_Sedan', -0.021333522653215618)\n",
      "('franchise_make_ohe_Kia', -0.020203719311400532)\n",
      "('franchise_make_ohe_Ford', -0.020094364680914256)\n",
      "('franchise_make_ohe_Honda', 0.019625253774065796)\n",
      "('franchise_make_ohe_Porsche', 0.01872808608919637)\n",
      "('franchise_make_ohe_Chrysler', -0.018297446356891026)\n",
      "('engine_cylinders_ohe_I3', -0.018204603224737496)\n",
      "('franchise_make_ohe_Lotus', 0.0172430317142006)\n",
      "('length', 0.017047589699311094)\n",
      "('franchise_make_ohe_Acura', 0.016959315271165717)\n",
      "('engine_cylinders_ohe_V8 Flex Fuel Vehicle', 0.016207946013562954)\n",
      "('is_cpo', 0.015876532617032944)\n",
      "('franchise_make_ohe_INFINITI', 0.015791228263960448)\n",
      "('engine_cylinders_ohe_I5', -0.014789636083097385)\n",
      "('franchise_make_ohe_Nissan', -0.014586542341124914)\n",
      "('front_legroom', -0.013106912715181468)\n",
      "('engine_cylinders_ohe_I4', -0.010882102734053609)\n",
      "('wheel_system_ohe_RWD', -0.01010076544901468)\n",
      "('owner_count', -0.010099317292346211)\n",
      "('franchise_make_ohe_Hyundai', -0.008592754366727897)\n",
      "('transmission_ohe_CVT', 0.007413998760604771)\n",
      "('wheel_system_ohe_AWD', 0.005806967440394703)\n",
      "('engine_cylinders_ohe_H4', 0.0055394277222281015)\n",
      "('franchise_make_ohe_Mitsubishi', -0.0052712370612905115)\n",
      "('engine_cylinders_ohe_V6', 0.004766097905913253)\n",
      "('width', -0.004465904343322144)\n",
      "('franchise_make_ohe_Volkswagen', -0.004435499948619643)\n",
      "('has_accidents', -0.004231065593576874)\n",
      "('franchise_make_ohe_Chevrolet', -0.003151107927763551)\n",
      "('body_type_ohe_SUV / Crossover', 0.0029748292037250503)\n",
      "('is_oemcpo', -0.0029573274910218226)\n",
      "('listing_color_ohe_UNKNOWN', 0.0023442421253542993)\n",
      "('listing_color_ohe_BLUE', -0.0015590691537314418)\n",
      "('listing_color_ohe_RED', -0.0013988872607672569)\n",
      "('listing_color_ohe_GOLD', -0.0012382977334643456)\n",
      "('listing_color_ohe_WHITE', 0.0010806167046156917)\n",
      "('body_type_ohe_Van', -0.00025569058217271047)\n",
      "('listing_color_ohe_BLACK', 0.00017666392780738154)\n",
      "('listing_color_ohe_SILVER', -0.00011406119665114988)\n",
      "('body_type_ohe_Pickup Truck', 0.0)\n",
      "('body_type_ohe_Minivan', 0.0)\n",
      "('body_type_ohe_Wagon', 0.0)\n",
      "('body_type_ohe_Convertible', 0.0)\n",
      "('engine_cylinders_ohe_V8', 0.0)\n",
      "('engine_cylinders_ohe_I4 Diesel', 0.0)\n",
      "('engine_cylinders_ohe_H6', 0.0)\n",
      "('engine_cylinders_ohe_V6 Diesel', 0.0)\n",
      "('engine_cylinders_ohe_I4 Hybrid', 0.0)\n",
      "('engine_cylinders_ohe_I6 Diesel', 0.0)\n",
      "('engine_cylinders_ohe_H4 Hybrid', 0.0)\n",
      "('engine_cylinders_ohe_V6 Hybrid', 0.0)\n",
      "('engine_cylinders_ohe_I4 Compressed Natural Gas', 0.0)\n",
      "('engine_cylinders_ohe_R2', 0.0)\n",
      "('engine_cylinders_ohe_I6 Hybrid', 0.0)\n",
      "('engine_cylinders_ohe_V10', 0.0)\n",
      "('engine_cylinders_ohe_V6 Compressed Natural Gas', 0.0)\n",
      "('franchise_make_ohe_Jeep', 0.0)\n",
      "('franchise_make_ohe_Buick', 0.0)\n",
      "('franchise_make_ohe_Subaru', 0.0)\n",
      "('franchise_make_ohe_Mazda', 0.0)\n",
      "('franchise_make_ohe_GMC', 0.0)\n",
      "('franchise_make_ohe_Lincoln', 0.0)\n",
      "('franchise_make_ohe_Scion', 0.0)\n",
      "('franchise_make_ohe_FIAT', 0.0)\n",
      "('franchise_make_ohe_Genesis', 0.0)\n",
      "('franchise_make_ohe_Alfa Romeo', 0.0)\n",
      "('franchise_make_ohe_Aston Martin', 0.0)\n",
      "('franchise_make_ohe_Shelby', 0.0)\n",
      "('franchise_make_ohe_Lamborghini', 0.0)\n",
      "('franchise_make_ohe_Rover', 0.0)\n",
      "('franchise_make_ohe_Ferrari', 0.0)\n",
      "('franchise_make_ohe_SRT', 0.0)\n",
      "('franchise_make_ohe_Pagani', 0.0)\n",
      "('franchise_make_ohe_smart', 0.0)\n",
      "('fuel_type_ohe_Gasoline', 0.0)\n",
      "('fuel_type_ohe_Flex Fuel Vehicle', 0.0)\n",
      "('fuel_type_ohe_Hybrid', 0.0)\n",
      "('fuel_type_ohe_Compressed Natural Gas', 0.0)\n",
      "('listing_color_ohe_GRAY', 0.0)\n",
      "('listing_color_ohe_BROWN', 0.0)\n",
      "('listing_color_ohe_GREEN', 0.0)\n",
      "('listing_color_ohe_ORANGE', 0.0)\n",
      "('listing_color_ohe_TEAL', 0.0)\n",
      "('listing_color_ohe_YELLOW', 0.0)\n",
      "('listing_color_ohe_PURPLE', 0.0)\n",
      "('listing_color_ohe_PINK', 0.0)\n",
      "('transmission_ohe_A', 0.0)\n",
      "('transmission_ohe_M', 0.0)\n",
      "('transmission_ohe_Dual Clutch', 0.0)\n",
      "('wheel_system_ohe_4X2', 0.0)\n",
      "('daysonmarket', 0.0)\n",
      "('engine_displacement', 0.0)\n",
      "('height', 0.0)\n"
     ]
    }
   ],
   "source": [
    "lasso_feature_importance = []\n",
    "\n",
    "for idx in range(len(feature_names)):\n",
    "    lasso_feature_importance.append((feature_names[idx][\"name\"], lasso_coeff[idx]))\n",
    "\n",
    "lasso_feature_importance =sorted(lasso_feature_importance, key=lambda x: abs(x[1]), reverse=True)\n",
    "\n",
    "for each in lasso_feature_importance:\n",
    "    print(each)"
   ]
  },
  {
   "cell_type": "code",
   "execution_count": 43,
   "metadata": {},
   "outputs": [
    {
     "name": "stdout",
     "output_type": "stream",
     "text": [
      "133\n",
      "79\n"
     ]
    }
   ],
   "source": [
    "from numpy import count_nonzero\n",
    "\n",
    "# Print the total number of coefficients\n",
    "print(len(lasso_coeff))\n",
    "\n",
    "# Print the number of non-zero coefficients\n",
    "print(count_nonzero(lasso_coeff))"
   ]
  },
  {
   "cell_type": "code",
   "execution_count": 44,
   "metadata": {},
   "outputs": [
    {
     "name": "stdout",
     "output_type": "stream",
     "text": [
      "('year', 1.0465242574727511)\n",
      "('mileage', -0.6555847550901114)\n",
      "('horsepower', 0.5369401459497758)\n",
      "('city_fuel_economy', 0.46335472064525546)\n",
      "('highway_fuel_economy', -0.3581526713125679)\n",
      "('torque', 0.343681276902793)\n",
      "('engine_cylinders_ohe_V12', 0.3135314228977402)\n",
      "('franchise_make_ohe_McLaren', 0.2649550994739928)\n",
      "('engine_cylinders_ohe_W12 Flex Fuel Vehicle', 0.26142760337515286)\n",
      "('franchise_make_ohe_Ferrari', 0.21283984513646995)\n",
      "('engine_cylinders_ohe_W12', 0.16444269521552896)\n",
      "('franchise_make_ohe_Bentley', 0.15183522312091194)\n",
      "('engine_cylinders_ohe_V10', -0.1436677387762869)\n",
      "('franchise_make_ohe_Rolls-Royce', 0.11477818665202817)\n",
      "('franchise_make_ohe_Pagani', 0.10558410222352867)\n",
      "('franchise_make_ohe_Rover', 0.0980843829503803)\n",
      "('engine_cylinders_ohe_I6 Hybrid', -0.0883693998096315)\n",
      "('franchise_make_ohe_Mercedes-Benz', 0.08712053086153615)\n",
      "('franchise_make_ohe_Jaguar', 0.08612880442495892)\n",
      "('franchise_make_ohe_Land Rover', 0.08577618616662033)\n",
      "('engine_displacement', 0.07673410606046291)\n",
      "('franchise_make_ohe_Lotus', 0.07553763336193886)\n",
      "('franchise_make_ohe_Lexus', 0.07402707279914333)\n",
      "('fuel_type_ohe_Biodiesel', 0.07332975911002372)\n",
      "('engine_cylinders_ohe_V6 Biodiesel', 0.07332975910998168)\n",
      "('engine_cylinders_ohe_R2', 0.07005130392740856)\n",
      "('franchise_make_ohe_Lamborghini', 0.06989707917134626)\n",
      "('franchise_make_ohe_BMW', 0.060196177280205855)\n",
      "('franchise_make_ohe_Maserati', 0.05553749608651971)\n",
      "('is_new', 0.05550793404185299)\n",
      "('franchise_make_ohe_Audi', 0.052195637320122786)\n",
      "('franchise_make_ohe_Aston Martin', 0.05191059785428058)\n",
      "('franchise_make_ohe_MINI', 0.0439616699517125)\n",
      "('franchise_make_ohe_Dodge', -0.04393500703181823)\n",
      "('engine_cylinders_ohe_I4 Hybrid', -0.04284733536636532)\n",
      "('engine_cylinders_ohe_H4 Hybrid', 0.042125731487794825)\n",
      "('franchise_make_ohe_Volvo', 0.04172234021107114)\n",
      "('engine_cylinders_ohe_V6 Flex Fuel Vehicle', -0.04115671158869146)\n",
      "('franchise_make_ohe_RAM', -0.04088397279625357)\n",
      "('engine_cylinders_ohe_I6', 0.039874694110111686)\n",
      "('engine_cylinders_ohe_V6 Diesel', 0.039463679747074876)\n",
      "('isCab', -0.03859221361098088)\n",
      "('franchise_make_ohe_smart', 0.03804563038040395)\n",
      "('engine_cylinders_ohe_I3', -0.03784593904190019)\n",
      "('wheel_system_ohe_4WD', 0.03512030516916998)\n",
      "('engine_cylinders_ohe_V8 Flex Fuel Vehicle', 0.03421115850336418)\n",
      "('engine_cylinders_ohe_I5', -0.034120229502489274)\n",
      "('back_legroom', -0.03383548871554114)\n",
      "('wheelbase', -0.03337049020972248)\n",
      "('fuel_tank_volume', 0.03297463566708315)\n",
      "('wheel_system_ohe_FWD', -0.032886483862218936)\n",
      "('franchise_make_ohe_Porsche', 0.03237907247185829)\n",
      "('fuel_type_ohe_Hybrid', -0.0317839254236073)\n",
      "('is_cpo', 0.030938535643828705)\n",
      "('franchise_make_ohe_Chrysler', -0.030617154773222296)\n",
      "('franchise_make_ohe_Kia', -0.03018302620154681)\n",
      "('body_type_ohe_Hatchback', -0.028337796210397104)\n",
      "('body_type_ohe_Van', -0.028021090575560997)\n",
      "('listing_color_ohe_PINK', 0.02782154515220069)\n",
      "('fuel_type_ohe_Diesel', 0.026726367201787542)\n",
      "('franchise_make_ohe_Ford', -0.02547590873171201)\n",
      "('daysonmarket', -0.024861642466349837)\n",
      "('franchise_make_ohe_Cadillac', 0.024852508979831822)\n",
      "('engine_cylinders_ohe_I4 Diesel', 0.024732856702375988)\n",
      "('franchise_make_ohe_Toyota', 0.02382362985327813)\n",
      "('franchise_make_ohe_Nissan', -0.02367604735579292)\n",
      "('is_oemcpo', -0.02190125105504684)\n",
      "('franchise_make_ohe_INFINITI', 0.021631950420683197)\n",
      "('engine_cylinders_ohe_I6 Diesel', 0.021366694016232018)\n",
      "('franchise_make_ohe_Mitsubishi', -0.020372688639955245)\n",
      "('length', 0.02012116618029573)\n",
      "('franchise_make_ohe_Volkswagen', -0.01969062759054263)\n",
      "('franchise_make_ohe_Acura', 0.019248620913075012)\n",
      "('body_type_ohe_Coupe', -0.01841425331064901)\n",
      "('franchise_make_ohe_Hyundai', -0.017974732269924496)\n",
      "('listing_color_ohe_GOLD', -0.01790680041175943)\n",
      "('franchise_make_ohe_Honda', 0.016660978541019632)\n",
      "('engine_cylinders_ohe_H6', -0.015981086417127362)\n",
      "('front_legroom', -0.015859785907732803)\n",
      "('franchise_make_ohe_SRT', 0.015497044089084757)\n",
      "('wheel_system_ohe_AWD', 0.015214130454813372)\n",
      "('engine_cylinders_ohe_I4 Flex Fuel Vehicle', -0.0151775934971272)\n",
      "('body_type_ohe_Convertible', 0.014914681661437237)\n",
      "('owner_count', -0.014893575937052272)\n",
      "('engine_cylinders_ohe_V8', -0.014636778142192065)\n",
      "('fuel_type_ohe_Flex Fuel Vehicle', -0.014170159336488145)\n",
      "('body_type_ohe_Minivan', 0.012344114305451525)\n",
      "('body_type_ohe_Sedan', -0.011982102048467188)\n",
      "('listing_color_ohe_TEAL', 0.011777635916154335)\n",
      "('listing_color_ohe_PURPLE', -0.011725236968777997)\n",
      "('body_type_ohe_Wagon', 0.010863941660710358)\n",
      "('width', -0.01068425224912029)\n",
      "('engine_cylinders_ohe_V6', 0.010336357476572201)\n",
      "('engine_cylinders_ohe_H4', 0.010026602482677295)\n",
      "('franchise_make_ohe_Genesis', -0.010011564347913171)\n",
      "('transmission_ohe_Dual Clutch', 0.009775573748014924)\n",
      "('fuel_type_ohe_Gasoline', 0.009612917956107596)\n",
      "('franchise_make_ohe_Chevrolet', -0.009601297701957117)\n",
      "('engine_cylinders_ohe_V6 Hybrid', 0.009557705710725232)\n",
      "('franchise_make_ohe_Mazda', -0.00924346435643685)\n",
      "('listing_color_ohe_GREEN', 0.008751041853740555)\n",
      "('body_type_ohe_SUV / Crossover', 0.008527407294941915)\n",
      "('engine_cylinders_ohe_V6 Compressed Natural Gas', -0.008049659084667886)\n",
      "('franchise_make_ohe_Scion', -0.0073484085973426864)\n",
      "('engine_cylinders_ohe_I4 Compressed Natural Gas', 0.007077379506222155)\n",
      "('franchise_make_ohe_Jeep', -0.006962188803814326)\n",
      "('franchise_make_ohe_GMC', -0.006817833119825866)\n",
      "('franchise_make_ohe_Alfa Romeo', -0.00622509239227248)\n",
      "('franchise_make_ohe_Shelby', -0.006222250576180717)\n",
      "('has_accidents', -0.006220000410903515)\n",
      "('body_type_ohe_Pickup Truck', 0.006039896094206155)\n",
      "('listing_color_ohe_YELLOW', 0.005572918495296532)\n",
      "('listing_color_ohe_ORANGE', -0.00544256302845746)\n",
      "('height', -0.005310953805964823)\n",
      "('listing_color_ohe_BLUE', -0.0050890729326893295)\n",
      "('franchise_make_ohe_Subaru', -0.004916103588361339)\n",
      "('engine_cylinders_ohe_I4', -0.004531717399248968)\n",
      "('listing_color_ohe_UNKNOWN', 0.0043870106137849675)\n",
      "('wheel_system_ohe_4X2', 0.0040225098146634925)\n",
      "('listing_color_ohe_RED', -0.003914328748235919)\n",
      "('franchise_make_ohe_FIAT', 0.0036430329712123137)\n",
      "('fuel_type_ohe_Compressed Natural Gas', 0.0032956177592362553)\n",
      "('wheel_system_ohe_RWD', -0.0032044590053475616)\n",
      "('listing_color_ohe_WHITE', 0.002826373267800824)\n",
      "('franchise_make_ohe_Lincoln', -0.002591038649306898)\n",
      "('listing_color_ohe_SILVER', -0.0025309673620066615)\n",
      "('listing_color_ohe_GRAY', -0.0021725608809748482)\n",
      "('transmission_ohe_M', -0.0019016416902454974)\n",
      "('listing_color_ohe_BLACK', 0.001874956941644449)\n",
      "('franchise_make_ohe_Buick', -0.001682635481641663)\n",
      "('transmission_ohe_CVT', 0.0014022407031066102)\n",
      "('transmission_ohe_A', -0.001242687973237315)\n",
      "('listing_color_ohe_BROWN', 0.0006977851950226849)\n"
     ]
    }
   ],
   "source": [
    "ridge_feature_importance = []\n",
    "\n",
    "for idx in range(len(feature_names)):\n",
    "    ridge_feature_importance.append((feature_names[idx][\"name\"], ridge_coeff[idx]))\n",
    "\n",
    "ridge_feature_importance =sorted(ridge_feature_importance, key=lambda x: abs(x[1]), reverse=True)\n",
    "\n",
    "for each in ridge_feature_importance:\n",
    "    print(each)"
   ]
  },
  {
   "cell_type": "markdown",
   "metadata": {},
   "source": [
    "Notice that in the LASSO model, some features have the zero valued coefficient. This is because the LASSO model \"encourage\" the unimportant variables (near zero coefficients) to have zero for their coefficient, whereas for no-regularization and Ridge model, the value never reached zero.\n",
    "\n",
    "Therefore, the LASSO model can be used to help eliminating the unimportant features from the equation to avoid overfitting."
   ]
  },
  {
   "cell_type": "markdown",
   "metadata": {},
   "source": [
    "# Conclusion"
   ]
  },
  {
   "cell_type": "markdown",
   "metadata": {},
   "source": [
    "Even though the Ridge model has the best evaluation metrics (lowest RMSE and highest R2), the LASSO model can help to eliminate the unimportants features by setting their coefficients to zero. Therefore, for our case we decided to choose the LASSO model as the evaluation metrics are not too different but can help with the feature selection. In conclusion, here is our final model."
   ]
  },
  {
   "cell_type": "code",
   "execution_count": 46,
   "metadata": {},
   "outputs": [
    {
     "name": "stdout",
     "output_type": "stream",
     "text": [
      "----- FINAL MODEL -----\n",
      "Intercept: 3.35151\n",
      "year: 1.05187\n",
      "mileage: -0.65673\n",
      "horsepower: 0.55616\n",
      "torque: 0.31682\n",
      "engine_cylinders_ohe_V12: 0.31668\n",
      "franchise_make_ohe_McLaren: 0.17951\n",
      "engine_cylinders_ohe_W12: 0.15683\n",
      "franchise_make_ohe_Bentley: 0.12011\n",
      "highway_fuel_economy: -0.09996\n",
      "franchise_make_ohe_Mercedes-Benz: 0.09395\n",
      "franchise_make_ohe_Rolls-Royce: 0.08103\n",
      "franchise_make_ohe_Land Rover: 0.07988\n",
      "franchise_make_ohe_Lexus: 0.07391\n",
      "franchise_make_ohe_Jaguar: 0.06916\n",
      "engine_cylinders_ohe_V6 Flex Fuel Vehicle: -0.06504\n",
      "franchise_make_ohe_BMW: 0.06367\n",
      "engine_cylinders_ohe_W12 Flex Fuel Vehicle: 0.05864\n",
      "city_fuel_economy: 0.05818\n",
      "franchise_make_ohe_Audi: 0.05127\n",
      "engine_cylinders_ohe_V6 Biodiesel: 0.04679\n",
      "fuel_type_ohe_Biodiesel: 0.04679\n",
      "wheel_system_ohe_FWD: -0.04507\n",
      "engine_cylinders_ohe_I4 Flex Fuel Vehicle: -0.04048\n",
      "isCab: -0.03805\n",
      "franchise_make_ohe_Dodge: -0.03524\n",
      "franchise_make_ohe_Maserati: 0.03427\n",
      "franchise_make_ohe_Volvo: 0.03289\n",
      "fuel_type_ohe_Diesel: 0.03226\n",
      "wheelbase: -0.03144\n",
      "engine_cylinders_ohe_I6: 0.03108\n",
      "franchise_make_ohe_RAM: -0.02869\n",
      "fuel_tank_volume: 0.02791\n",
      "franchise_make_ohe_Toyota: 0.02785\n",
      "back_legroom: -0.02745\n",
      "body_type_ohe_Hatchback: -0.02724\n",
      "wheel_system_ohe_4WD: 0.02680\n",
      "body_type_ohe_Coupe: -0.02582\n",
      "franchise_make_ohe_MINI: 0.02557\n",
      "is_new: 0.02343\n",
      "franchise_make_ohe_Cadillac: 0.02213\n",
      "body_type_ohe_Sedan: -0.02133\n",
      "franchise_make_ohe_Kia: -0.02020\n",
      "franchise_make_ohe_Ford: -0.02009\n",
      "franchise_make_ohe_Honda: 0.01963\n",
      "franchise_make_ohe_Porsche: 0.01873\n",
      "franchise_make_ohe_Chrysler: -0.01830\n",
      "engine_cylinders_ohe_I3: -0.01820\n",
      "franchise_make_ohe_Lotus: 0.01724\n",
      "length: 0.01705\n",
      "franchise_make_ohe_Acura: 0.01696\n",
      "engine_cylinders_ohe_V8 Flex Fuel Vehicle: 0.01621\n",
      "is_cpo: 0.01588\n",
      "franchise_make_ohe_INFINITI: 0.01579\n",
      "engine_cylinders_ohe_I5: -0.01479\n",
      "franchise_make_ohe_Nissan: -0.01459\n",
      "front_legroom: -0.01311\n",
      "engine_cylinders_ohe_I4: -0.01088\n",
      "wheel_system_ohe_RWD: -0.01010\n",
      "owner_count: -0.01010\n",
      "franchise_make_ohe_Hyundai: -0.00859\n",
      "transmission_ohe_CVT: 0.00741\n",
      "wheel_system_ohe_AWD: 0.00581\n",
      "engine_cylinders_ohe_H4: 0.00554\n",
      "franchise_make_ohe_Mitsubishi: -0.00527\n",
      "engine_cylinders_ohe_V6: 0.00477\n",
      "width: -0.00447\n",
      "franchise_make_ohe_Volkswagen: -0.00444\n",
      "has_accidents: -0.00423\n",
      "franchise_make_ohe_Chevrolet: -0.00315\n",
      "body_type_ohe_SUV / Crossover: 0.00297\n",
      "is_oemcpo: -0.00296\n",
      "listing_color_ohe_UNKNOWN: 0.00234\n",
      "listing_color_ohe_BLUE: -0.00156\n",
      "listing_color_ohe_RED: -0.00140\n",
      "listing_color_ohe_GOLD: -0.00124\n",
      "listing_color_ohe_WHITE: 0.00108\n",
      "body_type_ohe_Van: -0.00026\n",
      "listing_color_ohe_BLACK: 0.00018\n",
      "listing_color_ohe_SILVER: -0.00011\n"
     ]
    }
   ],
   "source": [
    "print('----- FINAL MODEL -----')\n",
    "print('Intercept: {0:.5f}'.format(lasso_model.stages[-1].intercept))\n",
    "\n",
    "for each in lasso_feature_importance:\n",
    "    if each[1] != 0:\n",
    "        print('{0}: {1:.5f}'.format(each[0], each[1]))"
   ]
  },
  {
   "cell_type": "code",
   "execution_count": null,
   "metadata": {},
   "outputs": [],
   "source": []
  }
 ],
 "metadata": {
  "kernelspec": {
   "display_name": "Python 3",
   "language": "python",
   "name": "python3"
  },
  "language_info": {
   "codemirror_mode": {
    "name": "ipython",
    "version": 3
   },
   "file_extension": ".py",
   "mimetype": "text/x-python",
   "name": "python",
   "nbconvert_exporter": "python",
   "pygments_lexer": "ipython3",
   "version": "3.8.2"
  }
 },
 "nbformat": 4,
 "nbformat_minor": 4
}
