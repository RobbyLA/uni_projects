{
  "cells": [
    {
      "cell_type": "markdown",
      "metadata": {
        "id": "9QnHbJ5-8S7o"
      },
      "source": [
        "- Created by   : Robby Lysander Aurelio\n",
        "- Date created : August 14, 2024\n",
        "\n",
        "Programming Language: R (v4.2.3) in Jupyter Notebook using Visual Studio Code (v1.92.0)\n",
        "\n",
        "R Libraries used:\n",
        "- MASS\n",
        "- tidyverse\n",
        "- naniar\n",
        "- caret\n",
        "- gridExtra\n",
        "- moments\n",
        "- themis\n",
        "- corrplot\n",
        "- pROC\n",
        "- car"
      ]
    },
    {
      "cell_type": "markdown",
      "metadata": {
        "id": "sX-Lg4UX8S7q"
      },
      "source": [
        "## Table of Contents\n",
        "\n",
        "1. [Introduction](#sec_1)\n",
        "3. [Exploratory Data Analysis](#sec_3)\n",
        "3. [Methodology](#sec_4)\n",
        "3. [Model Development](#sec_5)\n",
        "3. [Results and discussion](#sec_6)\n",
        "3. [Conclusion](#sec_7)\n",
        "3. [References](#sec_8)"
      ]
    },
    {
      "cell_type": "markdown",
      "metadata": {},
      "source": [
        "----"
      ]
    },
    {
      "cell_type": "markdown",
      "metadata": {
        "id": "DsQFHx3N8S7r"
      },
      "source": [
        "## 1. Introduction <a class=\"anchor\" id=\"sec_1\"></a>"
      ]
    },
    {
      "cell_type": "markdown",
      "metadata": {},
      "source": [
        "**Education** is one of the important aspect in life as it may lead to many success and open many oppotunities. A good education can broaden a person's mind and shapes their personality, thoughts, and social skills. Thus, it may also aid them in their career planning by providing better job prospects. In other words, education equips individuals with the knowledge and skills needed for their next stage of life, thus enabling them to overcome various challenges and contribute to many breakthrough, making it a crucial part of success.\n",
        "\n",
        "It is clear that individuals with a good education background, i.e. good grades and track records, have a higher chance to be skillful and knowledgable. That is why most universities, companies, or scholarships prioritize individuals with **good academic criteria (usually grades)** in their early screening process. Therefore, it is also important for students to focus on their studies and obtain good grades in school or university, as this may increase their chances of success when applying for university, work, or scholarship.\n",
        "\n",
        "However, now the question is **what really does affect a student's academic performance**? Does more studying time always result in better grades? Is having a tutor an important factor? Does parental support important? Does doing more activities outside of studying always result in poor grades?\n",
        "\n",
        "This study aim to create a machine learning model that can **predict whether a student will achieve good grades**, based on their study habits, parental involvement level, and the extracurricular activities they are partcipating in. From the resulting model and several statistical analysis, we can infer what **factors significantly affect a student's performance**. Here, we define a student as having a good grade if their **GPA is 3.0 or higher**. This baseline is chosen because most \"standard\" universities and companies typically require a GPA of 3.0 or slightly higher. In contrast, \"elite\" schools or companies, usually prefer a GPA as close to 4.0 as possible."
      ]
    },
    {
      "cell_type": "markdown",
      "metadata": {},
      "source": [
        "### 1.1. Dataset"
      ]
    },
    {
      "cell_type": "markdown",
      "metadata": {},
      "source": [
        "The dataset used in this study is taken from [Kaggle](https://www.kaggle.com/datasets/rabieelkharoua/students-performance-dataset), uploaded by Rabie El Kharoua, and last updated in June 2024. This dataset contains information about **2,392 high school students**, including demographics, study habits, parental involvement, extracurricular activites, and academic performance. The raw dataset contains 15 columns, with `StudentID` serving as the unique identifier, and `GPA` and `GradeClass` as potential target variables for regression and classification tasks. However, for this study, we will not use the given labels, instead we will create our own label called `GoodGrades` that indicate whether the student has good grades (`GPA` $\\geq$ 3.0) or not.\n",
        "\n",
        "The detail about the columns can be seen in the table below:\n",
        "| Column              | Description                                                                                          |\n",
        "|---------------------|------------------------------------------------------------------------------------------------------|\n",
        "| StudentID           | A unique identifier assigned to each student (1001 to 3392)                                         |\n",
        "| Age                 | The age of the students (ranges from 15 to 18 years)                                                |\n",
        "| Gender              | Gender of the students, where 0 represents Male and 1 represents Female                             |\n",
        "| Ethnicity           | The ethnicity of the students, coded as follows: 0: Caucasian; 1: African American; 2: Asian; 3: Other |\n",
        "| ParentalEducation   | The education level of the parents, coded as follows: 0: None; 1: High School; 2: Some College; 3: Bachelor's; 4: Higher |\n",
        "| StudyTimeWeekly     | Weekly study time in hours (ranging from 0 to 20)                                                    |\n",
        "| Absences            | Number of absences during the school year (ranging from 0 to 30)                                    |\n",
        "| Tutoring            | Tutoring status, where 0 indicates No and 1 indicates Yes                                           |\n",
        "| ParentalSupport     | The level of parental support, coded as follows: 0: None; 1: Low; 2: Moderate; 3: High; 4: Very High |\n",
        "| Extracurricular     | Participation in regular school extracurricular activities, where 0 indicates No and 1 indicates Yes |\n",
        "| Sports              | Participation in sports, where 0 indicates No and 1 indicates Yes                                  |\n",
        "| Music               | Participation in music activities, where 0 indicates No and 1 indicates Yes                         |\n",
        "| Volunteering        | Participation in volunteering, where 0 indicates No and 1 indicates Yes                            |\n",
        "| GPA                 | Grade Point Average on a scale from 0 to 4.0                                                          |\n",
        "| GradeClass          | Classification of students' grades based on GPA: 0: 'A' (GPA >= 3.5); 1: 'B' (3.0 <= GPA < 3.5); 2: 'C' (2.5 <= GPA < 3.0); 3: 'D' (2.0 <= GPA < 2.5); 4: 'F' (GPA < 2.0) |\n",
        "\n",
        "\n",
        "Out of these 15 columns, we will only consider using the study habits, parental involvement, and extracurricular activities columns as our predictors. The demographic details are not chosen to **avoid bias** in the model. Therefore, the predictors that will be considered are:\n",
        "- `StudyTimeWeekly`\n",
        "- `Absences`\n",
        "- `Tutoring`\n",
        "- `ParentalSupport`\n",
        "- `Extracurricular`\n",
        "- `Sports`\n",
        "- `Music`\n",
        "- `Volunteering`\n",
        "\n",
        "In addition, the target variable `GradeClass` will also be discarded as we will use our own labels. However, `GPA` will still be used to create the new labels and for Exploratory Data Analysis (EDA) purposes."
      ]
    },
    {
      "cell_type": "markdown",
      "metadata": {},
      "source": [
        "----"
      ]
    },
    {
      "cell_type": "markdown",
      "metadata": {},
      "source": [
        "### Import Libraries"
      ]
    },
    {
      "cell_type": "code",
      "execution_count": 1,
      "metadata": {
        "vscode": {
          "languageId": "r"
        }
      },
      "outputs": [
        {
          "name": "stderr",
          "output_type": "stream",
          "text": [
            "── \u001b[1mAttaching core tidyverse packages\u001b[22m ──────────────────────── tidyverse 2.0.0 ──\n",
            "\u001b[32m✔\u001b[39m \u001b[34mdplyr    \u001b[39m 1.1.1     \u001b[32m✔\u001b[39m \u001b[34mreadr    \u001b[39m 2.1.4\n",
            "\u001b[32m✔\u001b[39m \u001b[34mforcats  \u001b[39m 1.0.0     \u001b[32m✔\u001b[39m \u001b[34mstringr  \u001b[39m 1.5.0\n",
            "\u001b[32m✔\u001b[39m \u001b[34mggplot2  \u001b[39m 3.5.1     \u001b[32m✔\u001b[39m \u001b[34mtibble   \u001b[39m 3.2.1\n",
            "\u001b[32m✔\u001b[39m \u001b[34mlubridate\u001b[39m 1.9.2     \u001b[32m✔\u001b[39m \u001b[34mtidyr    \u001b[39m 1.3.0\n",
            "\u001b[32m✔\u001b[39m \u001b[34mpurrr    \u001b[39m 1.0.1     \n",
            "── \u001b[1mConflicts\u001b[22m ────────────────────────────────────────── tidyverse_conflicts() ──\n",
            "\u001b[31m✖\u001b[39m \u001b[34mdplyr\u001b[39m::\u001b[32mfilter()\u001b[39m masks \u001b[34mstats\u001b[39m::filter()\n",
            "\u001b[31m✖\u001b[39m \u001b[34mdplyr\u001b[39m::\u001b[32mlag()\u001b[39m    masks \u001b[34mstats\u001b[39m::lag()\n",
            "\u001b[31m✖\u001b[39m \u001b[34mdplyr\u001b[39m::\u001b[32mselect()\u001b[39m masks \u001b[34mMASS\u001b[39m::select()\n",
            "\u001b[36mℹ\u001b[39m Use the conflicted package (\u001b[3m\u001b[34m<http://conflicted.r-lib.org/>\u001b[39m\u001b[23m) to force all conflicts to become errors\n",
            "Loading required package: lattice\n",
            "\n",
            "\n",
            "Attaching package: 'caret'\n",
            "\n",
            "\n",
            "The following object is masked from 'package:purrr':\n",
            "\n",
            "    lift\n",
            "\n",
            "\n",
            "\n",
            "Attaching package: 'gridExtra'\n",
            "\n",
            "\n",
            "The following object is masked from 'package:dplyr':\n",
            "\n",
            "    combine\n",
            "\n",
            "\n",
            "Loading required package: recipes\n",
            "\n",
            "\n",
            "Attaching package: 'recipes'\n",
            "\n",
            "\n",
            "The following object is masked from 'package:stringr':\n",
            "\n",
            "    fixed\n",
            "\n",
            "\n",
            "The following object is masked from 'package:stats':\n",
            "\n",
            "    step\n",
            "\n",
            "\n",
            "corrplot 0.92 loaded\n",
            "\n",
            "Type 'citation(\"pROC\")' for a citation.\n",
            "\n",
            "\n",
            "Attaching package: 'pROC'\n",
            "\n",
            "\n",
            "The following objects are masked from 'package:stats':\n",
            "\n",
            "    cov, smooth, var\n",
            "\n",
            "\n",
            "Loading required package: carData\n",
            "\n",
            "\n",
            "Attaching package: 'car'\n",
            "\n",
            "\n",
            "The following object is masked from 'package:dplyr':\n",
            "\n",
            "    recode\n",
            "\n",
            "\n",
            "The following object is masked from 'package:purrr':\n",
            "\n",
            "    some\n",
            "\n",
            "\n"
          ]
        }
      ],
      "source": [
        "library(MASS)          # For creating the LDA and QDA models\n",
        "library(tidyverse)     # Includes all basic R libraries\n",
        "library(naniar)        # Locate missing values\n",
        "library(caret)         # Useful functions for training a model\n",
        "library(gridExtra)     # Creating grid for the plots\n",
        "library(moments)       # To print out the skewness and kurtosis coefficient\n",
        "library(themis)        # To use the SMOTE-NC function\n",
        "library(corrplot)      # To print out a better correlation plot\n",
        "library(pROC)          # To do AUC-ROC evaluation\n",
        "library(car)           # To calculate the VIF"
      ]
    },
    {
      "cell_type": "markdown",
      "metadata": {
        "id": "7aPdeDTa8S7s"
      },
      "source": [
        "## 2. Exploratory Data Analysis<a class=\"anchor\" id=\"sec_3\"></a>"
      ]
    },
    {
      "cell_type": "markdown",
      "metadata": {},
      "source": [
        "This part will explore the dataset using various statistical analysis to identify interesting patterns. The analysis consists of: \n",
        "- **Examining the Structure of the Dataset:** start by reviewing the structure of the dataset to locate any problems (if any) that need to be addressed first.\n",
        "- **Descriptive Statistics:** summarize the central tendencies, dispersion, and shape of the distribution using descriptive statistics. Visualisations such as boxplots, histograms, bar charts, and pie charts will also be used to help with the analysis.\n",
        "- **Correlation analysis:** calculate the Pearson correlation coefficient and use visualisations to reveal the relationships between several variables. This will also help to identify whether there are any co-dependencies between the predictors."
      ]
    },
    {
      "cell_type": "markdown",
      "metadata": {},
      "source": [
        "#### Dataset Loading"
      ]
    },
    {
      "cell_type": "code",
      "execution_count": 2,
      "metadata": {
        "id": "BqYSpChy8S7s",
        "vscode": {
          "languageId": "r"
        }
      },
      "outputs": [
        {
          "name": "stderr",
          "output_type": "stream",
          "text": [
            "\u001b[1mRows: \u001b[22m\u001b[34m2392\u001b[39m \u001b[1mColumns: \u001b[22m\u001b[34m15\u001b[39m\n",
            "\u001b[36m──\u001b[39m \u001b[1mColumn specification\u001b[22m \u001b[36m────────────────────────────────────────────────────────\u001b[39m\n",
            "\u001b[1mDelimiter:\u001b[22m \",\"\n",
            "\u001b[32mdbl\u001b[39m (15): StudentID, Age, Gender, Ethnicity, ParentalEducation, StudyTimeWee...\n",
            "\n",
            "\u001b[36mℹ\u001b[39m Use `spec()` to retrieve the full column specification for this data.\n",
            "\u001b[36mℹ\u001b[39m Specify the column types or set `show_col_types = FALSE` to quiet this message.\n"
          ]
        }
      ],
      "source": [
        "# Load the dataset\n",
        "# Select only the relevant columns\n",
        "df <- read_csv('./data/dataset.csv') %>%\n",
        "    select(-Age, -Gender, -Ethnicity, -ParentalEducation, -GradeClass)"
      ]
    },
    {
      "cell_type": "markdown",
      "metadata": {},
      "source": [
        "### 2.1. Examining the Structure of the Dataset"
      ]
    },
    {
      "cell_type": "markdown",
      "metadata": {},
      "source": [
        "Firstly, let's see what the dataset looks like."
      ]
    },
    {
      "cell_type": "code",
      "execution_count": 3,
      "metadata": {
        "id": "Nx-wyZ3H8S7s",
        "vscode": {
          "languageId": "r"
        }
      },
      "outputs": [
        {
          "data": {
            "text/html": [
              "<table class=\"dataframe\">\n",
              "<caption>A tibble: 6 × 10</caption>\n",
              "<thead>\n",
              "\t<tr><th scope=col>StudentID</th><th scope=col>StudyTimeWeekly</th><th scope=col>Absences</th><th scope=col>Tutoring</th><th scope=col>ParentalSupport</th><th scope=col>Extracurricular</th><th scope=col>Sports</th><th scope=col>Music</th><th scope=col>Volunteering</th><th scope=col>GPA</th></tr>\n",
              "\t<tr><th scope=col>&lt;dbl&gt;</th><th scope=col>&lt;dbl&gt;</th><th scope=col>&lt;dbl&gt;</th><th scope=col>&lt;dbl&gt;</th><th scope=col>&lt;dbl&gt;</th><th scope=col>&lt;dbl&gt;</th><th scope=col>&lt;dbl&gt;</th><th scope=col>&lt;dbl&gt;</th><th scope=col>&lt;dbl&gt;</th><th scope=col>&lt;dbl&gt;</th></tr>\n",
              "</thead>\n",
              "<tbody>\n",
              "\t<tr><td>1001</td><td>19.833723</td><td> 7</td><td>1</td><td>2</td><td>0</td><td>0</td><td>1</td><td>0</td><td>2.9291956</td></tr>\n",
              "\t<tr><td>1002</td><td>15.408756</td><td> 0</td><td>0</td><td>1</td><td>0</td><td>0</td><td>0</td><td>0</td><td>3.0429148</td></tr>\n",
              "\t<tr><td>1003</td><td> 4.210570</td><td>26</td><td>0</td><td>2</td><td>0</td><td>0</td><td>0</td><td>0</td><td>0.1126023</td></tr>\n",
              "\t<tr><td>1004</td><td>10.028829</td><td>14</td><td>0</td><td>3</td><td>1</td><td>0</td><td>0</td><td>0</td><td>2.0542181</td></tr>\n",
              "\t<tr><td>1005</td><td> 4.672495</td><td>17</td><td>1</td><td>3</td><td>0</td><td>0</td><td>0</td><td>0</td><td>1.2880612</td></tr>\n",
              "\t<tr><td>1006</td><td> 8.191219</td><td> 0</td><td>0</td><td>1</td><td>1</td><td>0</td><td>0</td><td>0</td><td>3.0841836</td></tr>\n",
              "</tbody>\n",
              "</table>\n"
            ],
            "text/latex": [
              "A tibble: 6 × 10\n",
              "\\begin{tabular}{llllllllll}\n",
              " StudentID & StudyTimeWeekly & Absences & Tutoring & ParentalSupport & Extracurricular & Sports & Music & Volunteering & GPA\\\\\n",
              " <dbl> & <dbl> & <dbl> & <dbl> & <dbl> & <dbl> & <dbl> & <dbl> & <dbl> & <dbl>\\\\\n",
              "\\hline\n",
              "\t 1001 & 19.833723 &  7 & 1 & 2 & 0 & 0 & 1 & 0 & 2.9291956\\\\\n",
              "\t 1002 & 15.408756 &  0 & 0 & 1 & 0 & 0 & 0 & 0 & 3.0429148\\\\\n",
              "\t 1003 &  4.210570 & 26 & 0 & 2 & 0 & 0 & 0 & 0 & 0.1126023\\\\\n",
              "\t 1004 & 10.028829 & 14 & 0 & 3 & 1 & 0 & 0 & 0 & 2.0542181\\\\\n",
              "\t 1005 &  4.672495 & 17 & 1 & 3 & 0 & 0 & 0 & 0 & 1.2880612\\\\\n",
              "\t 1006 &  8.191219 &  0 & 0 & 1 & 1 & 0 & 0 & 0 & 3.0841836\\\\\n",
              "\\end{tabular}\n"
            ],
            "text/markdown": [
              "\n",
              "A tibble: 6 × 10\n",
              "\n",
              "| StudentID &lt;dbl&gt; | StudyTimeWeekly &lt;dbl&gt; | Absences &lt;dbl&gt; | Tutoring &lt;dbl&gt; | ParentalSupport &lt;dbl&gt; | Extracurricular &lt;dbl&gt; | Sports &lt;dbl&gt; | Music &lt;dbl&gt; | Volunteering &lt;dbl&gt; | GPA &lt;dbl&gt; |\n",
              "|---|---|---|---|---|---|---|---|---|---|\n",
              "| 1001 | 19.833723 |  7 | 1 | 2 | 0 | 0 | 1 | 0 | 2.9291956 |\n",
              "| 1002 | 15.408756 |  0 | 0 | 1 | 0 | 0 | 0 | 0 | 3.0429148 |\n",
              "| 1003 |  4.210570 | 26 | 0 | 2 | 0 | 0 | 0 | 0 | 0.1126023 |\n",
              "| 1004 | 10.028829 | 14 | 0 | 3 | 1 | 0 | 0 | 0 | 2.0542181 |\n",
              "| 1005 |  4.672495 | 17 | 1 | 3 | 0 | 0 | 0 | 0 | 1.2880612 |\n",
              "| 1006 |  8.191219 |  0 | 0 | 1 | 1 | 0 | 0 | 0 | 3.0841836 |\n",
              "\n"
            ],
            "text/plain": [
              "  StudentID StudyTimeWeekly Absences Tutoring ParentalSupport Extracurricular\n",
              "1 1001      19.833723        7       1        2               0              \n",
              "2 1002      15.408756        0       0        1               0              \n",
              "3 1003       4.210570       26       0        2               0              \n",
              "4 1004      10.028829       14       0        3               1              \n",
              "5 1005       4.672495       17       1        3               0              \n",
              "6 1006       8.191219        0       0        1               1              \n",
              "  Sports Music Volunteering GPA      \n",
              "1 0      1     0            2.9291956\n",
              "2 0      0     0            3.0429148\n",
              "3 0      0     0            0.1126023\n",
              "4 0      0     0            2.0542181\n",
              "5 0      0     0            1.2880612\n",
              "6 0      0     0            3.0841836"
            ]
          },
          "metadata": {},
          "output_type": "display_data"
        }
      ],
      "source": [
        "# Check the dataset\n",
        "head(df)"
      ]
    },
    {
      "cell_type": "markdown",
      "metadata": {},
      "source": [
        "Then, let's check the structure of the dataset."
      ]
    },
    {
      "cell_type": "code",
      "execution_count": 4,
      "metadata": {
        "vscode": {
          "languageId": "r"
        }
      },
      "outputs": [
        {
          "name": "stdout",
          "output_type": "stream",
          "text": [
            "tibble [2,392 × 10] (S3: tbl_df/tbl/data.frame)\n",
            " $ StudentID      : num [1:2392] 1001 1002 1003 1004 1005 ...\n",
            " $ StudyTimeWeekly: num [1:2392] 19.83 15.41 4.21 10.03 4.67 ...\n",
            " $ Absences       : num [1:2392] 7 0 26 14 17 0 10 22 1 0 ...\n",
            " $ Tutoring       : num [1:2392] 1 0 0 0 1 0 0 1 0 0 ...\n",
            " $ ParentalSupport: num [1:2392] 2 1 2 3 3 1 3 1 2 3 ...\n",
            " $ Extracurricular: num [1:2392] 0 0 0 1 0 1 0 1 0 1 ...\n",
            " $ Sports         : num [1:2392] 0 0 0 0 0 0 1 0 1 0 ...\n",
            " $ Music          : num [1:2392] 1 0 0 0 0 0 0 0 0 0 ...\n",
            " $ Volunteering   : num [1:2392] 0 0 0 0 0 0 0 0 1 0 ...\n",
            " $ GPA            : num [1:2392] 2.929 3.043 0.113 2.054 1.288 ...\n"
          ]
        }
      ],
      "source": [
        "# Check the structure of the datset\n",
        "str(df)"
      ]
    },
    {
      "cell_type": "markdown",
      "metadata": {},
      "source": [
        "Notice that all columns are listed as **numeric** there, even though `Tutoring`, `ParentalSupport`, `Extracurricular`, `Sports`, `Music`, and `Volunteering` should be **categorical** columns. Thus, we need to fix these incorrect structures first. To do list:\n",
        "- Change the 0 and 1 value in the `Tutoring`, `Extracurricular`, `Sports`, `Music`, and `Volunteering` columns to \"No\" and \"Yes\", then convert them to factors.\n",
        "- Change the values in the `ParentalSupport` column to their corresponding meaning, then convert them to a factor."
      ]
    },
    {
      "cell_type": "code",
      "execution_count": 5,
      "metadata": {
        "vscode": {
          "languageId": "r"
        }
      },
      "outputs": [],
      "source": [
        "# Change the values of the numerical codes in the categorical columns to their actual meaning\n",
        "# Convert the column type to factor\n",
        "df <- df %>%\n",
        "    mutate_at(vars(Tutoring, Extracurricular, Sports, Music, Volunteering), \n",
        "              ~factor(.x, labels = c('No', 'Yes'))) %>%\n",
        "    mutate(ParentalSupport = factor(case_when(ParentalSupport == 0 ~ 'None', ParentalSupport == 1 ~ 'Low',\n",
        "                                              ParentalSupport == 2 ~ 'Moderate', ParentalSupport == 3 ~ 'High',\n",
        "                                              ParentalSupport == 4 ~ 'Very High'),\n",
        "                                    levels = c('None', 'Low', 'Moderate', 'High', 'Very High')))"
      ]
    },
    {
      "cell_type": "markdown",
      "metadata": {},
      "source": [
        "Next, let's check whether there are missing values or not. In R, we can simply use the `miss_var_summary()` function from the `naniar` library."
      ]
    },
    {
      "cell_type": "code",
      "execution_count": 6,
      "metadata": {
        "vscode": {
          "languageId": "r"
        }
      },
      "outputs": [
        {
          "data": {
            "text/html": [
              "<table class=\"dataframe\">\n",
              "<caption>A tibble: 0 × 3</caption>\n",
              "<thead>\n",
              "\t<tr><th scope=col>variable</th><th scope=col>n_miss</th><th scope=col>pct_miss</th></tr>\n",
              "\t<tr><th scope=col>&lt;chr&gt;</th><th scope=col>&lt;int&gt;</th><th scope=col>&lt;dbl&gt;</th></tr>\n",
              "</thead>\n",
              "<tbody>\n",
              "</tbody>\n",
              "</table>\n"
            ],
            "text/latex": [
              "A tibble: 0 × 3\n",
              "\\begin{tabular}{lll}\n",
              " variable & n\\_miss & pct\\_miss\\\\\n",
              " <chr> & <int> & <dbl>\\\\\n",
              "\\hline\n",
              "\\end{tabular}\n"
            ],
            "text/markdown": [
              "\n",
              "A tibble: 0 × 3\n",
              "\n",
              "| variable &lt;chr&gt; | n_miss &lt;int&gt; | pct_miss &lt;dbl&gt; |\n",
              "|---|---|---|\n",
              "\n"
            ],
            "text/plain": [
              "     variable n_miss pct_miss"
            ]
          },
          "metadata": {},
          "output_type": "display_data"
        }
      ],
      "source": [
        "# Check the number of missing values in each column\n",
        "# Filter only the columns that have missing values\n",
        "miss_var_summary(df) %>%\n",
        "    filter(n_miss > 0)"
      ]
    },
    {
      "cell_type": "markdown",
      "metadata": {},
      "source": [
        "Note that there are no missing values in the dataset used.\n",
        "\n",
        "Finally, let's add the target variable called `GoodGrades` to indicate whether the student has a `GPA` $\\geq$ 3.0 or not."
      ]
    },
    {
      "cell_type": "code",
      "execution_count": 7,
      "metadata": {
        "vscode": {
          "languageId": "r"
        }
      },
      "outputs": [],
      "source": [
        "# Add the new target variable\n",
        "# Which is whether the student's GPA is greater than 3 or not\n",
        "df <- df %>%\n",
        "    mutate(GoodGrades = factor(GPA >= 3, labels = c('No','Yes')))"
      ]
    },
    {
      "cell_type": "markdown",
      "metadata": {},
      "source": [
        "Lastly, let's check the final dataset with the corrected structure."
      ]
    },
    {
      "cell_type": "code",
      "execution_count": 8,
      "metadata": {
        "vscode": {
          "languageId": "r"
        }
      },
      "outputs": [
        {
          "name": "stdout",
          "output_type": "stream",
          "text": [
            "tibble [2,392 × 11] (S3: tbl_df/tbl/data.frame)\n",
            " $ StudentID      : num [1:2392] 1001 1002 1003 1004 1005 ...\n",
            " $ StudyTimeWeekly: num [1:2392] 19.83 15.41 4.21 10.03 4.67 ...\n",
            " $ Absences       : num [1:2392] 7 0 26 14 17 0 10 22 1 0 ...\n",
            " $ Tutoring       : Factor w/ 2 levels \"No\",\"Yes\": 2 1 1 1 2 1 1 2 1 1 ...\n",
            " $ ParentalSupport: Factor w/ 5 levels \"None\",\"Low\",\"Moderate\",..: 3 2 3 4 4 2 4 2 3 4 ...\n",
            " $ Extracurricular: Factor w/ 2 levels \"No\",\"Yes\": 1 1 1 2 1 2 1 2 1 2 ...\n",
            " $ Sports         : Factor w/ 2 levels \"No\",\"Yes\": 1 1 1 1 1 1 2 1 2 1 ...\n",
            " $ Music          : Factor w/ 2 levels \"No\",\"Yes\": 2 1 1 1 1 1 1 1 1 1 ...\n",
            " $ Volunteering   : Factor w/ 2 levels \"No\",\"Yes\": 1 1 1 1 1 1 1 1 2 1 ...\n",
            " $ GPA            : num [1:2392] 2.929 3.043 0.113 2.054 1.288 ...\n",
            " $ GoodGrades     : Factor w/ 2 levels \"No\",\"Yes\": 1 2 1 1 1 2 1 1 1 2 ...\n"
          ]
        }
      ],
      "source": [
        "# Re-check the structure of the dataset after some fixing\n",
        "str(df)"
      ]
    },
    {
      "cell_type": "markdown",
      "metadata": {},
      "source": [
        "### 2.2. Descriptive Statistics"
      ]
    },
    {
      "cell_type": "markdown",
      "metadata": {},
      "source": [
        "Firstly, let's check the basic summary statistics of all columns."
      ]
    },
    {
      "cell_type": "code",
      "execution_count": 9,
      "metadata": {
        "vscode": {
          "languageId": "r"
        }
      },
      "outputs": [
        {
          "data": {
            "text/plain": [
              "   StudentID    StudyTimeWeekly        Absences     Tutoring    ParentalSupport\n",
              " Min.   :1001   Min.   : 0.001057   Min.   : 0.00   No :1671   None     :212   \n",
              " 1st Qu.:1599   1st Qu.: 5.043079   1st Qu.: 7.00   Yes: 721   Low      :489   \n",
              " Median :2196   Median : 9.705363   Median :15.00              Moderate :740   \n",
              " Mean   :2196   Mean   : 9.771992   Mean   :14.54              High     :697   \n",
              " 3rd Qu.:2794   3rd Qu.:14.408410   3rd Qu.:22.00              Very High:254   \n",
              " Max.   :3392   Max.   :19.978094   Max.   :29.00                              \n",
              " Extracurricular Sports     Music      Volunteering      GPA        GoodGrades\n",
              " No :1475        No :1666   No :1921   No :2016     Min.   :0.000   No :2071  \n",
              " Yes: 917        Yes: 726   Yes: 471   Yes: 376     1st Qu.:1.175   Yes: 321  \n",
              "                                                    Median :1.893             \n",
              "                                                    Mean   :1.906             \n",
              "                                                    3rd Qu.:2.622             \n",
              "                                                    Max.   :4.000             "
            ]
          },
          "metadata": {},
          "output_type": "display_data"
        }
      ],
      "source": [
        "# Print out the summary of the datset\n",
        "summary(df)"
      ]
    },
    {
      "cell_type": "markdown",
      "metadata": {},
      "source": [
        "**Observations:**\n",
        "- Notice that in the numeric columns `StudyTimeWeekly`, `Absences`, and `GPA`, the minimum, first quartile, median, third quartile, and maximum values sequentially have almost the **same difference**. Thuis pattern suggests that those three columns might follow a **normal distribution**.\n",
        "- Interestingly, the **minimum value for `GPA` is 0**. This is quite suspicious, as a GPA of 0 implies that the student received zeros in all their grade. Other possibilities might include the student being new and not having any grades yet, or it is actually a **missing value**. For this study, we will assume that a GPA of 0 represents a missing value and **will be removed**.\n",
        "- Lastly, notice that there is a **large imbalance in the labels** of the target variables. To address this problem, we will need to apply techniques such as **under-sampling or over-sampling** to the training data to avoid creating a \"lazy model\" that predict everything to the majority class."
      ]
    },
    {
      "cell_type": "code",
      "execution_count": 10,
      "metadata": {
        "vscode": {
          "languageId": "r"
        }
      },
      "outputs": [],
      "source": [
        "# Removing the records with a GPA of 0\n",
        "# (Assumed to be a missing value)\n",
        "df <- df %>%\n",
        "    filter(GPA > 0)"
      ]
    },
    {
      "cell_type": "markdown",
      "metadata": {},
      "source": [
        "#### 2.2.1. Exploring the Numeric Columns"
      ]
    },
    {
      "cell_type": "markdown",
      "metadata": {},
      "source": [
        "First, we need to gather the numeric columns and pivot them to a \"long dataframe\" format. This will make the use of facet_wrap for visualizations easier later on."
      ]
    },
    {
      "cell_type": "code",
      "execution_count": 11,
      "metadata": {
        "vscode": {
          "languageId": "r"
        }
      },
      "outputs": [
        {
          "data": {
            "text/html": [
              "<table class=\"dataframe\">\n",
              "<caption>A tibble: 6 × 10</caption>\n",
              "<thead>\n",
              "\t<tr><th scope=col>StudentID</th><th scope=col>Tutoring</th><th scope=col>ParentalSupport</th><th scope=col>Extracurricular</th><th scope=col>Sports</th><th scope=col>Music</th><th scope=col>Volunteering</th><th scope=col>GoodGrades</th><th scope=col>Variable</th><th scope=col>Value</th></tr>\n",
              "\t<tr><th scope=col>&lt;dbl&gt;</th><th scope=col>&lt;fct&gt;</th><th scope=col>&lt;fct&gt;</th><th scope=col>&lt;fct&gt;</th><th scope=col>&lt;fct&gt;</th><th scope=col>&lt;fct&gt;</th><th scope=col>&lt;fct&gt;</th><th scope=col>&lt;fct&gt;</th><th scope=col>&lt;chr&gt;</th><th scope=col>&lt;dbl&gt;</th></tr>\n",
              "</thead>\n",
              "<tbody>\n",
              "\t<tr><td>1001</td><td>Yes</td><td>Moderate</td><td>No</td><td>No</td><td>Yes</td><td>No</td><td>No </td><td>StudyTimeWeekly</td><td>19.833723</td></tr>\n",
              "\t<tr><td>1001</td><td>Yes</td><td>Moderate</td><td>No</td><td>No</td><td>Yes</td><td>No</td><td>No </td><td>Absences       </td><td> 7.000000</td></tr>\n",
              "\t<tr><td>1001</td><td>Yes</td><td>Moderate</td><td>No</td><td>No</td><td>Yes</td><td>No</td><td>No </td><td>GPA            </td><td> 2.929196</td></tr>\n",
              "\t<tr><td>1002</td><td>No </td><td>Low     </td><td>No</td><td>No</td><td>No </td><td>No</td><td>Yes</td><td>StudyTimeWeekly</td><td>15.408756</td></tr>\n",
              "\t<tr><td>1002</td><td>No </td><td>Low     </td><td>No</td><td>No</td><td>No </td><td>No</td><td>Yes</td><td>Absences       </td><td> 0.000000</td></tr>\n",
              "\t<tr><td>1002</td><td>No </td><td>Low     </td><td>No</td><td>No</td><td>No </td><td>No</td><td>Yes</td><td>GPA            </td><td> 3.042915</td></tr>\n",
              "</tbody>\n",
              "</table>\n"
            ],
            "text/latex": [
              "A tibble: 6 × 10\n",
              "\\begin{tabular}{llllllllll}\n",
              " StudentID & Tutoring & ParentalSupport & Extracurricular & Sports & Music & Volunteering & GoodGrades & Variable & Value\\\\\n",
              " <dbl> & <fct> & <fct> & <fct> & <fct> & <fct> & <fct> & <fct> & <chr> & <dbl>\\\\\n",
              "\\hline\n",
              "\t 1001 & Yes & Moderate & No & No & Yes & No & No  & StudyTimeWeekly & 19.833723\\\\\n",
              "\t 1001 & Yes & Moderate & No & No & Yes & No & No  & Absences        &  7.000000\\\\\n",
              "\t 1001 & Yes & Moderate & No & No & Yes & No & No  & GPA             &  2.929196\\\\\n",
              "\t 1002 & No  & Low      & No & No & No  & No & Yes & StudyTimeWeekly & 15.408756\\\\\n",
              "\t 1002 & No  & Low      & No & No & No  & No & Yes & Absences        &  0.000000\\\\\n",
              "\t 1002 & No  & Low      & No & No & No  & No & Yes & GPA             &  3.042915\\\\\n",
              "\\end{tabular}\n"
            ],
            "text/markdown": [
              "\n",
              "A tibble: 6 × 10\n",
              "\n",
              "| StudentID &lt;dbl&gt; | Tutoring &lt;fct&gt; | ParentalSupport &lt;fct&gt; | Extracurricular &lt;fct&gt; | Sports &lt;fct&gt; | Music &lt;fct&gt; | Volunteering &lt;fct&gt; | GoodGrades &lt;fct&gt; | Variable &lt;chr&gt; | Value &lt;dbl&gt; |\n",
              "|---|---|---|---|---|---|---|---|---|---|\n",
              "| 1001 | Yes | Moderate | No | No | Yes | No | No  | StudyTimeWeekly | 19.833723 |\n",
              "| 1001 | Yes | Moderate | No | No | Yes | No | No  | Absences        |  7.000000 |\n",
              "| 1001 | Yes | Moderate | No | No | Yes | No | No  | GPA             |  2.929196 |\n",
              "| 1002 | No  | Low      | No | No | No  | No | Yes | StudyTimeWeekly | 15.408756 |\n",
              "| 1002 | No  | Low      | No | No | No  | No | Yes | Absences        |  0.000000 |\n",
              "| 1002 | No  | Low      | No | No | No  | No | Yes | GPA             |  3.042915 |\n",
              "\n"
            ],
            "text/plain": [
              "  StudentID Tutoring ParentalSupport Extracurricular Sports Music Volunteering\n",
              "1 1001      Yes      Moderate        No              No     Yes   No          \n",
              "2 1001      Yes      Moderate        No              No     Yes   No          \n",
              "3 1001      Yes      Moderate        No              No     Yes   No          \n",
              "4 1002      No       Low             No              No     No    No          \n",
              "5 1002      No       Low             No              No     No    No          \n",
              "6 1002      No       Low             No              No     No    No          \n",
              "  GoodGrades Variable        Value    \n",
              "1 No         StudyTimeWeekly 19.833723\n",
              "2 No         Absences         7.000000\n",
              "3 No         GPA              2.929196\n",
              "4 Yes        StudyTimeWeekly 15.408756\n",
              "5 Yes        Absences         0.000000\n",
              "6 Yes        GPA              3.042915"
            ]
          },
          "metadata": {},
          "output_type": "display_data"
        }
      ],
      "source": [
        "# Gather the numeric columns and pivot them to a long dataframe format\n",
        "df_long_num <- df %>% \n",
        "    pivot_longer(cols = c('StudyTimeWeekly', 'Absences', 'GPA'),\n",
        "                names_to = 'Variable', values_to = 'Value')\n",
        "\n",
        "# Check the resulting long dataframe\n",
        "head(df_long_num)"
      ]
    },
    {
      "cell_type": "markdown",
      "metadata": {},
      "source": [
        "Then, for the exploration, we can start by creating a boxplot to see the spread of the data."
      ]
    },
    {
      "cell_type": "code",
      "execution_count": 12,
      "metadata": {
        "vscode": {
          "languageId": "r"
        }
      },
      "outputs": [
        {
          "data": {
            "image/png": "[encoded data removed]",
            "text/plain": [
              "plot without title"
            ]
          },
          "metadata": {
            "image/png": {
              "height": 400,
              "width": 800
            }
          },
          "output_type": "display_data"
        }
      ],
      "source": [
        "# Adjust the figure size\n",
        "options(repr.plot.width = 16, repr.plot.height = 8, repr.plot.res = 100)\n",
        "\n",
        "# Print out the boxplot for each numeric columns\n",
        "# Add jitter to see the spread of the datapoints\n",
        "ggplot(df_long_num, aes(x = Variable, y = Value, fill = Variable)) +\n",
        "    geom_boxplot(notch = TRUE) +\n",
        "    geom_jitter() +\n",
        "    facet_wrap(~ Variable, nrow = 1, scales = 'free') +\n",
        "    guides(fill = 'none') +\n",
        "    theme(text = element_text(size = 20),\n",
        "        axis.title.x = element_blank(),\n",
        "        axis.text.x=element_blank(),\n",
        "        axis.ticks.x=element_blank())"
      ]
    },
    {
      "cell_type": "markdown",
      "metadata": {},
      "source": [
        "**Observations:**\n",
        "- There are **no outliers** in all three columns.\n",
        "- In the `Absences` and `StudyTimeWeekly` columns, **the values are evenly spread out** accross their ranges. This indicates that the number of absences and the amount of time students spend studying each week **vary significantly** between students, signifying **a large variance**. (Note that `Absences`is actually an integer column, so the values will have an interval of 1)\n",
        "- Interestingly, in the `GPA` column, the values are almost evenly spread out, with the **values near 0 and 4.0 becoming less dense**. This observation aligns with the common belief that it is difficult to get a perfect grade (GPA of 4.0), and the probability of getting a very poor grade (near 0) is also low. Therefore, it is typical for students to receive grades around the middle range.\n",
        "- Even though the boxplots look **symmetrical**, because the data points are **evenly spread out** and **not gathered around the center**, this means that the columns **might not follow a normal distribution**. This will become clear after we see the histograms and QQ plots."
      ]
    },
    {
      "cell_type": "code",
      "execution_count": 13,
      "metadata": {
        "vscode": {
          "languageId": "r"
        }
      },
      "outputs": [
        {
          "name": "stderr",
          "output_type": "stream",
          "text": [
            "\u001b[1m\u001b[22m`stat_bin()` using `bins = 30`. Pick better value with `binwidth`.\n"
          ]
        },
        {
          "data": {
            "image/png": "[encoded data removed]",
            "text/plain": [
              "plot without title"
            ]
          },
          "metadata": {
            "image/png": {
              "height": 400,
              "width": 800
            }
          },
          "output_type": "display_data"
        }
      ],
      "source": [
        "# Print out the histogram for each numerical column\n",
        "hist <- ggplot(df_long_num, aes(x = Value, fill = Variable)) +\n",
        "    geom_histogram(color = 'white') +\n",
        "    facet_wrap(~ Variable, nrow = 1, scales = 'free') +\n",
        "    guides(fill = 'none') +\n",
        "    theme(text = element_text(size = 20))\n",
        "\n",
        "# Print out the QQ plot for each numerical column\n",
        "qq <- ggplot(df_long_num, aes(sample = Value, color = Variable)) +\n",
        "    geom_qq() +\n",
        "    stat_qq() +\n",
        "    stat_qq_line() +\n",
        "    facet_wrap(~ Variable, nrow = 1, scales = 'free') +\n",
        "    guides(color = 'none') +\n",
        "    theme(text = element_text(size = 20))\n",
        "        \n",
        "# Arrange the resulting plots into a grid\n",
        "grid.arrange(hist, qq)"
      ]
    },
    {
      "cell_type": "markdown",
      "metadata": {},
      "source": [
        "**Observations:**\n",
        "- From the shape of the histograms and the QQ plot, the `Absences` and `StudyTimeWeekly` columns **do not follow a normal distribution**, instead, it might follow **a uniform distribution**.\n",
        "- In contrast, the `GPA` column **might follow a normal distribution** as it is **not skewed** and **the peak is relatively platykurtic**. However, to make sure of this, let's check the skewness and kurtosis coefficient of `GPA`."
      ]
    },
    {
      "cell_type": "code",
      "execution_count": 14,
      "metadata": {
        "vscode": {
          "languageId": "r"
        }
      },
      "outputs": [
        {
          "data": {
            "text/html": [
              "0.0355741375917011"
            ],
            "text/latex": [
              "0.0355741375917011"
            ],
            "text/markdown": [
              "0.0355741375917011"
            ],
            "text/plain": [
              "[1] 0.03557414"
            ]
          },
          "metadata": {},
          "output_type": "display_data"
        },
        {
          "data": {
            "text/html": [
              "2.11537115195402"
            ],
            "text/latex": [
              "2.11537115195402"
            ],
            "text/markdown": [
              "2.11537115195402"
            ],
            "text/plain": [
              "[1] 2.115371"
            ]
          },
          "metadata": {},
          "output_type": "display_data"
        }
      ],
      "source": [
        "skewness(df$GPA)\n",
        "kurtosis(df$GPA)"
      ]
    },
    {
      "cell_type": "markdown",
      "metadata": {},
      "source": [
        "**Observations:**\n",
        "- From the above calculation it be seen that the **skewness coefficient is near zero** and the **kurtosis coefficient is near 3**. Therefore, it can concluded that the `GPA` column **follows a normal distribution**.\n",
        "- This aligns with the common belief mentioned previously that **typically students will get grades around the middle range**, and it is difficult to obtain grades near perfect (4.0) or zero."
      ]
    },
    {
      "cell_type": "markdown",
      "metadata": {},
      "source": [
        "#### 2.2.2. Exploring the Categorical Columns"
      ]
    },
    {
      "cell_type": "markdown",
      "metadata": {},
      "source": [
        "To explore the categorical columns, first we can simply just make a **bar chart** to see the distribution of our labels, which is the `GoodGrades` column."
      ]
    },
    {
      "cell_type": "code",
      "execution_count": 15,
      "metadata": {
        "vscode": {
          "languageId": "r"
        }
      },
      "outputs": [
        {
          "data": {
            "image/png": "[encoded data removed]",
            "text/plain": [
              "plot without title"
            ]
          },
          "metadata": {
            "image/png": {
              "height": 400,
              "width": 800
            }
          },
          "output_type": "display_data"
        }
      ],
      "source": [
        "# Print out a bar chart to compare the number of labels\n",
        "ggplot(df, aes(x = GoodGrades, fill = GoodGrades)) +\n",
        "    geom_bar() +\n",
        "    guides(fill = 'none') +\n",
        "    theme(text = element_text(size = 20))"
      ]
    },
    {
      "cell_type": "markdown",
      "metadata": {},
      "source": [
        "From the bar chart above, it is evident that **there is a class imbalance problem in the labels**. Therefore, it is important to apply proper techniques, such as **under-sampling or over-sampling**, when creating the model to **avoid creating a \"lazy model\"** that predict everything to the majority class."
      ]
    },
    {
      "cell_type": "markdown",
      "metadata": {},
      "source": [
        "Next, to explore more on the categorical columns, let's collect all the categorical columns using `pivot_longer()` to change the dataframe into a long format."
      ]
    },
    {
      "cell_type": "code",
      "execution_count": 16,
      "metadata": {
        "vscode": {
          "languageId": "r"
        }
      },
      "outputs": [
        {
          "data": {
            "text/html": [
              "<table class=\"dataframe\">\n",
              "<caption>A tibble: 6 × 7</caption>\n",
              "<thead>\n",
              "\t<tr><th scope=col>StudentID</th><th scope=col>StudyTimeWeekly</th><th scope=col>Absences</th><th scope=col>GPA</th><th scope=col>GoodGrades</th><th scope=col>Category</th><th scope=col>Value</th></tr>\n",
              "\t<tr><th scope=col>&lt;dbl&gt;</th><th scope=col>&lt;dbl&gt;</th><th scope=col>&lt;dbl&gt;</th><th scope=col>&lt;dbl&gt;</th><th scope=col>&lt;fct&gt;</th><th scope=col>&lt;chr&gt;</th><th scope=col>&lt;fct&gt;</th></tr>\n",
              "</thead>\n",
              "<tbody>\n",
              "\t<tr><td>1001</td><td>19.83372</td><td>7</td><td>2.929196</td><td>No</td><td>Tutoring       </td><td>Yes     </td></tr>\n",
              "\t<tr><td>1001</td><td>19.83372</td><td>7</td><td>2.929196</td><td>No</td><td>ParentalSupport</td><td>Moderate</td></tr>\n",
              "\t<tr><td>1001</td><td>19.83372</td><td>7</td><td>2.929196</td><td>No</td><td>Extracurricular</td><td>No      </td></tr>\n",
              "\t<tr><td>1001</td><td>19.83372</td><td>7</td><td>2.929196</td><td>No</td><td>Sports         </td><td>No      </td></tr>\n",
              "\t<tr><td>1001</td><td>19.83372</td><td>7</td><td>2.929196</td><td>No</td><td>Music          </td><td>Yes     </td></tr>\n",
              "\t<tr><td>1001</td><td>19.83372</td><td>7</td><td>2.929196</td><td>No</td><td>Volunteering   </td><td>No      </td></tr>\n",
              "</tbody>\n",
              "</table>\n"
            ],
            "text/latex": [
              "A tibble: 6 × 7\n",
              "\\begin{tabular}{lllllll}\n",
              " StudentID & StudyTimeWeekly & Absences & GPA & GoodGrades & Category & Value\\\\\n",
              " <dbl> & <dbl> & <dbl> & <dbl> & <fct> & <chr> & <fct>\\\\\n",
              "\\hline\n",
              "\t 1001 & 19.83372 & 7 & 2.929196 & No & Tutoring        & Yes     \\\\\n",
              "\t 1001 & 19.83372 & 7 & 2.929196 & No & ParentalSupport & Moderate\\\\\n",
              "\t 1001 & 19.83372 & 7 & 2.929196 & No & Extracurricular & No      \\\\\n",
              "\t 1001 & 19.83372 & 7 & 2.929196 & No & Sports          & No      \\\\\n",
              "\t 1001 & 19.83372 & 7 & 2.929196 & No & Music           & Yes     \\\\\n",
              "\t 1001 & 19.83372 & 7 & 2.929196 & No & Volunteering    & No      \\\\\n",
              "\\end{tabular}\n"
            ],
            "text/markdown": [
              "\n",
              "A tibble: 6 × 7\n",
              "\n",
              "| StudentID &lt;dbl&gt; | StudyTimeWeekly &lt;dbl&gt; | Absences &lt;dbl&gt; | GPA &lt;dbl&gt; | GoodGrades &lt;fct&gt; | Category &lt;chr&gt; | Value &lt;fct&gt; |\n",
              "|---|---|---|---|---|---|---|\n",
              "| 1001 | 19.83372 | 7 | 2.929196 | No | Tutoring        | Yes      |\n",
              "| 1001 | 19.83372 | 7 | 2.929196 | No | ParentalSupport | Moderate |\n",
              "| 1001 | 19.83372 | 7 | 2.929196 | No | Extracurricular | No       |\n",
              "| 1001 | 19.83372 | 7 | 2.929196 | No | Sports          | No       |\n",
              "| 1001 | 19.83372 | 7 | 2.929196 | No | Music           | Yes      |\n",
              "| 1001 | 19.83372 | 7 | 2.929196 | No | Volunteering    | No       |\n",
              "\n"
            ],
            "text/plain": [
              "  StudentID StudyTimeWeekly Absences GPA      GoodGrades Category       \n",
              "1 1001      19.83372        7        2.929196 No         Tutoring       \n",
              "2 1001      19.83372        7        2.929196 No         ParentalSupport\n",
              "3 1001      19.83372        7        2.929196 No         Extracurricular\n",
              "4 1001      19.83372        7        2.929196 No         Sports         \n",
              "5 1001      19.83372        7        2.929196 No         Music          \n",
              "6 1001      19.83372        7        2.929196 No         Volunteering   \n",
              "  Value   \n",
              "1 Yes     \n",
              "2 Moderate\n",
              "3 No      \n",
              "4 No      \n",
              "5 Yes     \n",
              "6 No      "
            ]
          },
          "metadata": {},
          "output_type": "display_data"
        }
      ],
      "source": [
        "# Gather the categorical columns into a long dataframe format\n",
        "df_long_cat <- df %>% \n",
        "    pivot_longer(cols = c('Tutoring', 'ParentalSupport', 'Extracurricular', 'Sports', 'Music', 'Volunteering'),\n",
        "                names_to = 'Category', values_to = 'Value')\n",
        "\n",
        "# Check the resulting long dataframe\n",
        "head(df_long_cat)"
      ]
    },
    {
      "cell_type": "markdown",
      "metadata": {},
      "source": [
        "To explore the categorical data, we can do these following steps:\n",
        "- **`Tutoring`:** create a **pie chart** to compare the number of students who have a tutor and those who do not. This will provide a clear visualisation of the **distribution** between those two groups.\n",
        "- **`ParentalSupport`:** use a **bar chart** to display the count of students that fall in each category of parental involvement level, which will also show the distribution.\n",
        "- **Extracurricular activites:** For the **`Extracurricular`**, **`Sports`**, **`Music`**, and **`Volunteering`** columns, make **individual pie charts** for each category. These charts can be used to compare the number of students participating in each activity against those who do not. This can provide an insight on the **level of student engagement in various extracurricular activities**, such as which activity is popular and which is not."
      ]
    },
    {
      "cell_type": "code",
      "execution_count": 17,
      "metadata": {
        "vscode": {
          "languageId": "r"
        }
      },
      "outputs": [
        {
          "data": {
            "image/png": "[encoded data removed]",
            "text/plain": [
              "plot without title"
            ]
          },
          "metadata": {
            "image/png": {
              "height": 400,
              "width": 800
            }
          },
          "output_type": "display_data"
        }
      ],
      "source": [
        "# Create a pie chart for the `Tutoring` column to compare the categories\n",
        "tutoring <- df_long_cat %>%\n",
        "    filter(Category == 'Tutoring') %>%\n",
        "    ggplot(aes(x = factor(1), fill = Value)) +\n",
        "        geom_bar() +\n",
        "        coord_polar(theta = 'y') +\n",
        "        scale_fill_manual(values = c('#d80000', '#00cd00')) +\n",
        "        labs(title = 'Tutoring') +\n",
        "        theme(text = element_text(size = 20),\n",
        "              axis.title.x = element_blank(),\n",
        "              axis.title.y = element_blank(),\n",
        "              axis.text.x=element_blank(),\n",
        "              axis.text.y=element_blank(),\n",
        "              axis.ticks.y=element_blank())\n",
        "\n",
        "# Create a pie chart for the `ParentalSuppor` column to compare the categories\n",
        "parents <- df_long_cat %>%\n",
        "    filter(Category == 'ParentalSupport') %>%\n",
        "    ggplot(aes(x = Value, fill = Value)) +\n",
        "        geom_bar() +\n",
        "        labs(title = 'ParentalSupport') +\n",
        "        guides(fill = 'none') +\n",
        "        theme(text = element_text(size = 20),\n",
        "              axis.title.x = element_blank())\n",
        "\n",
        "# Create several pie charts for the activities columns to compare the categories in each activity\n",
        "activities <- df_long_cat %>%\n",
        "    filter(Category %in% c('Extracurricular', 'Sports', 'Music', 'Volunteering')) %>%\n",
        "    ggplot(aes(x = factor(1), fill = Value)) +\n",
        "        geom_bar() +\n",
        "        coord_polar(theta = 'y') +\n",
        "        scale_fill_manual(values = c('#d80000', '#00cd00')) +\n",
        "        facet_wrap(~ Category, nrow = 1) +\n",
        "        theme(text = element_text(size = 20),\n",
        "              axis.title.x = element_blank(),\n",
        "              axis.title.y = element_blank(),\n",
        "              axis.text.x=element_blank(),\n",
        "              axis.text.y=element_blank(),\n",
        "              axis.ticks.y=element_blank())\n",
        "\n",
        "# Arrange the created charts into a grid\n",
        "grid.arrange(tutoring, parents, activities, ncol = 2, layout_matrix= rbind(c(1,2), 3))"
      ]
    },
    {
      "cell_type": "markdown",
      "metadata": {},
      "source": [
        "**Observations:**\n",
        "- From the first pie chart, it is apparent that most students **do not have a tutor**. This might related to the fact that **hiring a tutor is costly**, thus they prefer to study alone.\n",
        "- Regarding the parental involvement, it appears that most parents have **a moderate to high level of engagement** in their children's studies, while both the \"no involvement\" and \"very high involvement\" levels are less common. This suggests that the majority of parents are somewhat actually involved, with the **extreme levels of involvement are relatively rare**.\n",
        "- For the extracurricular activites, most students **do not participate in them**. However, it is important to note that a student might **only engage in only one or two type** of activity, such as sports but not music. Therefore, **further exploration is needed** to understand the amount of students involvent in extracurricular activities.\n",
        "- In addition, it is clear that **regular school extracurricular activity is the most popular** among the students, followed by sports, then music, and lastly volunteering."
      ]
    },
    {
      "cell_type": "code",
      "execution_count": 18,
      "metadata": {
        "vscode": {
          "languageId": "r"
        }
      },
      "outputs": [
        {
          "data": {
            "image/png": "[encoded data removed]",
            "text/plain": [
              "plot without title"
            ]
          },
          "metadata": {
            "image/png": {
              "height": 400,
              "width": 800
            }
          },
          "output_type": "display_data"
        }
      ],
      "source": [
        "# Count the number of activities a particular student is participating\n",
        "# Then, create a bar chart to compare the counts for each possible number of activities\n",
        "df_long_cat %>% \n",
        "    filter(Category != 'Tutoring') %>%\n",
        "    group_by(StudentID) %>%\n",
        "    summarize(NoOfActivities = sum(Value == 'Yes')) %>%\n",
        "    ggplot(aes(x = NoOfActivities, fill = factor(NoOfActivities))) +\n",
        "        geom_bar() +\n",
        "        guides(fill = 'none') +\n",
        "        theme(text = element_text(size = 20))"
      ]
    },
    {
      "cell_type": "markdown",
      "metadata": {},
      "source": [
        "**Observations:**\n",
        "- From the above bar chart, it is clear that students typically **only take part in no more than two activities**, with **most of them participating in only one activity**.\n",
        "- It is also apparent that students engaging in **more than 2 activities are very rare**. This might be because **managing multiple activities** without compromising other responsibilities is **difficult** due to **their limited time**."
      ]
    },
    {
      "cell_type": "markdown",
      "metadata": {},
      "source": [
        "The variable `NoOfActivities` looks promising, as it could provide valuable insights for the model. Therefore, it would be good to add this as an additional feature to our original dataframe."
      ]
    },
    {
      "cell_type": "code",
      "execution_count": 19,
      "metadata": {
        "vscode": {
          "languageId": "r"
        }
      },
      "outputs": [
        {
          "data": {
            "text/html": [
              "<table class=\"dataframe\">\n",
              "<caption>A tibble: 6 × 12</caption>\n",
              "<thead>\n",
              "\t<tr><th scope=col>StudentID</th><th scope=col>StudyTimeWeekly</th><th scope=col>Absences</th><th scope=col>Tutoring</th><th scope=col>ParentalSupport</th><th scope=col>Extracurricular</th><th scope=col>Sports</th><th scope=col>Music</th><th scope=col>Volunteering</th><th scope=col>NoOfActivities</th><th scope=col>GPA</th><th scope=col>GoodGrades</th></tr>\n",
              "\t<tr><th scope=col>&lt;dbl&gt;</th><th scope=col>&lt;dbl&gt;</th><th scope=col>&lt;dbl&gt;</th><th scope=col>&lt;fct&gt;</th><th scope=col>&lt;fct&gt;</th><th scope=col>&lt;fct&gt;</th><th scope=col>&lt;fct&gt;</th><th scope=col>&lt;fct&gt;</th><th scope=col>&lt;fct&gt;</th><th scope=col>&lt;dbl&gt;</th><th scope=col>&lt;dbl&gt;</th><th scope=col>&lt;fct&gt;</th></tr>\n",
              "</thead>\n",
              "<tbody>\n",
              "\t<tr><td>1001</td><td>19.833723</td><td> 7</td><td>Yes</td><td>Moderate</td><td>No </td><td>No</td><td>Yes</td><td>No</td><td>1</td><td>2.9291956</td><td>No </td></tr>\n",
              "\t<tr><td>1002</td><td>15.408756</td><td> 0</td><td>No </td><td>Low     </td><td>No </td><td>No</td><td>No </td><td>No</td><td>0</td><td>3.0429148</td><td>Yes</td></tr>\n",
              "\t<tr><td>1003</td><td> 4.210570</td><td>26</td><td>No </td><td>Moderate</td><td>No </td><td>No</td><td>No </td><td>No</td><td>0</td><td>0.1126023</td><td>No </td></tr>\n",
              "\t<tr><td>1004</td><td>10.028829</td><td>14</td><td>No </td><td>High    </td><td>Yes</td><td>No</td><td>No </td><td>No</td><td>1</td><td>2.0542181</td><td>No </td></tr>\n",
              "\t<tr><td>1005</td><td> 4.672495</td><td>17</td><td>Yes</td><td>High    </td><td>No </td><td>No</td><td>No </td><td>No</td><td>0</td><td>1.2880612</td><td>No </td></tr>\n",
              "\t<tr><td>1006</td><td> 8.191219</td><td> 0</td><td>No </td><td>Low     </td><td>Yes</td><td>No</td><td>No </td><td>No</td><td>1</td><td>3.0841836</td><td>Yes</td></tr>\n",
              "</tbody>\n",
              "</table>\n"
            ],
            "text/latex": [
              "A tibble: 6 × 12\n",
              "\\begin{tabular}{llllllllllll}\n",
              " StudentID & StudyTimeWeekly & Absences & Tutoring & ParentalSupport & Extracurricular & Sports & Music & Volunteering & NoOfActivities & GPA & GoodGrades\\\\\n",
              " <dbl> & <dbl> & <dbl> & <fct> & <fct> & <fct> & <fct> & <fct> & <fct> & <dbl> & <dbl> & <fct>\\\\\n",
              "\\hline\n",
              "\t 1001 & 19.833723 &  7 & Yes & Moderate & No  & No & Yes & No & 1 & 2.9291956 & No \\\\\n",
              "\t 1002 & 15.408756 &  0 & No  & Low      & No  & No & No  & No & 0 & 3.0429148 & Yes\\\\\n",
              "\t 1003 &  4.210570 & 26 & No  & Moderate & No  & No & No  & No & 0 & 0.1126023 & No \\\\\n",
              "\t 1004 & 10.028829 & 14 & No  & High     & Yes & No & No  & No & 1 & 2.0542181 & No \\\\\n",
              "\t 1005 &  4.672495 & 17 & Yes & High     & No  & No & No  & No & 0 & 1.2880612 & No \\\\\n",
              "\t 1006 &  8.191219 &  0 & No  & Low      & Yes & No & No  & No & 1 & 3.0841836 & Yes\\\\\n",
              "\\end{tabular}\n"
            ],
            "text/markdown": [
              "\n",
              "A tibble: 6 × 12\n",
              "\n",
              "| StudentID &lt;dbl&gt; | StudyTimeWeekly &lt;dbl&gt; | Absences &lt;dbl&gt; | Tutoring &lt;fct&gt; | ParentalSupport &lt;fct&gt; | Extracurricular &lt;fct&gt; | Sports &lt;fct&gt; | Music &lt;fct&gt; | Volunteering &lt;fct&gt; | NoOfActivities &lt;dbl&gt; | GPA &lt;dbl&gt; | GoodGrades &lt;fct&gt; |\n",
              "|---|---|---|---|---|---|---|---|---|---|---|---|\n",
              "| 1001 | 19.833723 |  7 | Yes | Moderate | No  | No | Yes | No | 1 | 2.9291956 | No  |\n",
              "| 1002 | 15.408756 |  0 | No  | Low      | No  | No | No  | No | 0 | 3.0429148 | Yes |\n",
              "| 1003 |  4.210570 | 26 | No  | Moderate | No  | No | No  | No | 0 | 0.1126023 | No  |\n",
              "| 1004 | 10.028829 | 14 | No  | High     | Yes | No | No  | No | 1 | 2.0542181 | No  |\n",
              "| 1005 |  4.672495 | 17 | Yes | High     | No  | No | No  | No | 0 | 1.2880612 | No  |\n",
              "| 1006 |  8.191219 |  0 | No  | Low      | Yes | No | No  | No | 1 | 3.0841836 | Yes |\n",
              "\n"
            ],
            "text/plain": [
              "  StudentID StudyTimeWeekly Absences Tutoring ParentalSupport Extracurricular\n",
              "1 1001      19.833723        7       Yes      Moderate        No             \n",
              "2 1002      15.408756        0       No       Low             No             \n",
              "3 1003       4.210570       26       No       Moderate        No             \n",
              "4 1004      10.028829       14       No       High            Yes            \n",
              "5 1005       4.672495       17       Yes      High            No             \n",
              "6 1006       8.191219        0       No       Low             Yes            \n",
              "  Sports Music Volunteering NoOfActivities GPA       GoodGrades\n",
              "1 No     Yes   No           1              2.9291956 No        \n",
              "2 No     No    No           0              3.0429148 Yes       \n",
              "3 No     No    No           0              0.1126023 No        \n",
              "4 No     No    No           1              2.0542181 No        \n",
              "5 No     No    No           0              1.2880612 No        \n",
              "6 No     No    No           1              3.0841836 Yes       "
            ]
          },
          "metadata": {},
          "output_type": "display_data"
        }
      ],
      "source": [
        "# Count the number of activities a student is participating\n",
        "# And add them to the original dataset\n",
        "df <- df %>%\n",
        "    mutate(NoOfActivities = rowSums(.[c('Extracurricular', 'Sports', 'Music', 'Volunteering')] == 'Yes')) %>%\n",
        "    select(-GPA, -GoodGrades, GPA, GoodGrades)\n",
        "\n",
        "# Re-check the dataset\n",
        "head(df)"
      ]
    },
    {
      "cell_type": "markdown",
      "metadata": {},
      "source": [
        "### 2.3. Correlation Analysis"
      ]
    },
    {
      "cell_type": "markdown",
      "metadata": {},
      "source": [
        "After exploring the distribution of the data, now, let's start to investigate the relationship between the variables. To start this analysis, we can simply employ the `pairs()` function to print out **all possible scatter plot between every columns** in the dataset."
      ]
    },
    {
      "cell_type": "code",
      "execution_count": 20,
      "metadata": {
        "vscode": {
          "languageId": "r"
        }
      },
      "outputs": [
        {
          "data": {
            "image/png": "[encoded data removed]",
            "text/plain": [
              "plot without title"
            ]
          },
          "metadata": {
            "image/png": {
              "height": 400,
              "width": 800
            }
          },
          "output_type": "display_data"
        }
      ],
      "source": [
        "# Print out all scatter plots between every columns, except `StudentID` and `GoodGrades`\n",
        "# `StudentID` because it is just a unique identifier, thus does not have any meaning for the analysis\n",
        "# `GoodGrades` is already represented by the `GPA` column\n",
        "df %>%\n",
        "    select(-StudentID, -GoodGrades) %>%\n",
        "    pairs(upper.panel = NULL, cex.labels = 1.5)"
      ]
    },
    {
      "cell_type": "markdown",
      "metadata": {},
      "source": [
        "**Observations:**\n",
        "- From the scatter plots above, at a glance, it is apparent that `Absences` and `GPA` have **a strong negative linear relationship**. This suggests that as the number of absences increases, their GPA tends to decrease significantly. This could indicate that **attendance is a crucial factor in a student's performance**.\n",
        "- In contrast, `StudyTimeWeekly` and `GPA` have **a very weak positive linear relationship**. This suggests that the amount of time they spend studying in each week does not have a significant effect on their GPA. It could indicate that simply **increase their study time does not necessarily lead to a better academic performance**.\n",
        "- It is also clear that `StudyTimeWeekly` and `Absences` **do not have any relationship**. This means that those two variables are **independent of each other**. In other words, students who are diligent in their studies do not necessarily have high attendance levels, and vice versa.\n",
        "- However, for the relationships with the categorical variables and `NoOfActivities`, it is not clear from the scatter plots above, thus it is better to do further exploration."
      ]
    },
    {
      "cell_type": "markdown",
      "metadata": {},
      "source": [
        "Next, let's check the Pearson's correlation coefficient. To make it possible to use the `cor()` function, convert the categorical variables to a numerical codes first. Then, we can input the resulting correlation matrix into the `corrplot()` function from the `corrplot` library to help with the visualisation."
      ]
    },
    {
      "cell_type": "code",
      "execution_count": 21,
      "metadata": {
        "vscode": {
          "languageId": "r"
        }
      },
      "outputs": [
        {
          "data": {
            "image/png": "[encoded data removed]",
            "text/plain": [
              "Plot with title \"\""
            ]
          },
          "metadata": {
            "image/png": {
              "height": 400,
              "width": 800
            }
          },
          "output_type": "display_data"
        }
      ],
      "source": [
        "# Convert the categorical columns into numerical columns using encodings\n",
        "# Calculate the Pearson's correlation coefficient\n",
        "# Visualise the result to help identifying the important relationships\n",
        "df %>%\n",
        "    select(-StudentID, -GoodGrades) %>%\n",
        "    mutate_at(c('Tutoring', 'Extracurricular', 'Sports', 'Music', 'Volunteering'), \n",
        "              function(x) case_when(x == 'Yes' ~ 1, .default = 0)) %>%\n",
        "    mutate(ParentalSupport = case_when(ParentalSupport == 'None' ~ 0, ParentalSupport == 'Low' ~ 1,\n",
        "                                              ParentalSupport == 'Moderate' ~ 2, ParentalSupport == 'High' ~ 3,\n",
        "                                              ParentalSupport == 'Very High' ~ 4)) %>%\n",
        "    cor() %>%\n",
        "    corrplot(method = 'number')"
      ]
    },
    {
      "cell_type": "markdown",
      "metadata": {},
      "source": [
        "**Observations:**\n",
        "- As mentioned previously, **`GPA`** has **a very strong negative relationship with `Absencences`**, but **the relationship with `StudyTimeWeekly` is actually very weak**, only 0.17.\n",
        "- Other than that, the only noticeable relationship are `Extracurricular`, `Sports`, `Music`, and `Volunteering` with `NoOfActivities`. Please note that **`NoOfActivities` column is actually dependent on those four columns**. Therefore, for the model, we need to only pick one between `NoOfActivities` or the other four columns (we can try both options later)."
      ]
    },
    {
      "cell_type": "markdown",
      "metadata": {},
      "source": [
        "To conduct a more in-depth analysis on the relationship between the categorical columns and the target columns (both `GPA` and `GoodGrades`), we can use these following methods:\n",
        "- Create **boxplots** to show the distribution of `GPA` accross different categories for each column. This will help us to see whether there are any significant differences in GPA based on several categorical avriables, such as extracurricular activities participation or parental involvement level.\n",
        "- Make **proportional bar charts** to compare the number of students achieving good grades with those who do not accross each catergory in each column. This can help us to see how categorical variables influence the likelihood of obtaining a good grade."
      ]
    },
    {
      "cell_type": "code",
      "execution_count": 22,
      "metadata": {
        "vscode": {
          "languageId": "r"
        }
      },
      "outputs": [
        {
          "data": {
            "image/png": "[encoded data removed]",
            "text/plain": [
              "plot without title"
            ]
          },
          "metadata": {
            "image/png": {
              "height": 400,
              "width": 800
            }
          },
          "output_type": "display_data"
        }
      ],
      "source": [
        "# Print out boxplots to see the spread of the GPA in each category of the categorical columns\n",
        "ggplot(df_long_cat, aes(x = Value, y = GPA)) +\n",
        "    geom_boxplot() +\n",
        "    facet_wrap(~ Category, scales = 'free') +\n",
        "    theme(text = element_text(size = 20))"
      ]
    },
    {
      "cell_type": "markdown",
      "metadata": {},
      "source": [
        "**Observations:**\n",
        "- For the `ParentalSupport` column, it is apparent that **`GPA` increases as the parent's involvement level rises**. This indicates that parental support may boost a child's motivation to study, leading to a better academic performance. Interestingly, **the gap between the `None` and `Low` categories is larger** than the difference between the other categories. This might suggest that when parents **show no interest in their child's education**, the student may also **lack any motivation** to achieve better grades.\n",
        "- Additionally, it is also clear that a student's academic performance tends to be **higher if they have a tutor** to help them with their studies. This suggests that **tutoring provides valuable support** to assist students to understand the lesson better, thus obtaining better grades.\n",
        "- Lastly, for the extracurricular activities, except `Volunteering`, it is evident that **participating in those activities may increase their grades slightly**. This suggests that students who engage in extracurricular activities, may experience a slight increase in their academic performance. This is **contrary to the common belief** that more activities means reduced time to study and may negatively impact their grades.\n",
        "- In contrast, it is interesting that in the `Volunteering` column, **the `GPA` distributions are nearly identical, regardless of whether they are volunteering or not**. This suggests that while most extracurricular activities may have a positive impact on a student's academic performance, volunteering does not appear to have any influence."
      ]
    },
    {
      "cell_type": "code",
      "execution_count": 23,
      "metadata": {
        "vscode": {
          "languageId": "r"
        }
      },
      "outputs": [
        {
          "data": {
            "image/png": "[encoded data removed]",
            "text/plain": [
              "plot without title"
            ]
          },
          "metadata": {
            "image/png": {
              "height": 400,
              "width": 800
            }
          },
          "output_type": "display_data"
        }
      ],
      "source": [
        "# Print put the proportional bar charts to see \n",
        "# the percentage of students that have good grades in each category\n",
        "ggplot(df_long_cat, aes(x = Value, fill = GoodGrades)) +\n",
        "    geom_bar(position = position_fill(reverse = TRUE)) +\n",
        "    scale_fill_manual(values = c('#d80000', '#00cd00')) +\n",
        "    facet_wrap(~ Category, scales = 'free') +\n",
        "    theme(text = element_text(size = 20))"
      ]
    },
    {
      "cell_type": "markdown",
      "metadata": {},
      "source": [
        "**Observations:**\n",
        "- From the proportional barcharts above, the insights that we get are the align with those gained in the previous section.\n",
        "- Notably, **nearly 25% of the students who have a tutor achieve good grades**, compared to the students who do not, only less than 10% that have good grades.\n",
        "- For the extracurricular activities columns, the percentage differences of students having good grades are **not significant, regardless of their participation**, with the `Volunteering` column also have the nearly the same percentage.\n",
        "- Lastly, from the `ParentalSupport` column, the percentage of students achieving good grades **increases as the involvement level of the parents rises**, with for the `Very High` category approaching a 25%."
      ]
    },
    {
      "cell_type": "markdown",
      "metadata": {},
      "source": [
        "From the above investigations, it is clear that regarding the students' participation in **volunteering is not significant** enough to affect whether the students will have good grades or not. Therefore, we can **remove the `Volunteering` column** from our dataframe. In addition, we also need to substracte the `NoOfActivities` column by one if the student is volunteering."
      ]
    },
    {
      "cell_type": "code",
      "execution_count": 24,
      "metadata": {
        "vscode": {
          "languageId": "r"
        }
      },
      "outputs": [
        {
          "data": {
            "text/html": [
              "<table class=\"dataframe\">\n",
              "<caption>A tibble: 6 × 11</caption>\n",
              "<thead>\n",
              "\t<tr><th scope=col>StudentID</th><th scope=col>StudyTimeWeekly</th><th scope=col>Absences</th><th scope=col>Tutoring</th><th scope=col>ParentalSupport</th><th scope=col>Extracurricular</th><th scope=col>Sports</th><th scope=col>Music</th><th scope=col>NoOfActivities</th><th scope=col>GPA</th><th scope=col>GoodGrades</th></tr>\n",
              "\t<tr><th scope=col>&lt;dbl&gt;</th><th scope=col>&lt;dbl&gt;</th><th scope=col>&lt;dbl&gt;</th><th scope=col>&lt;fct&gt;</th><th scope=col>&lt;fct&gt;</th><th scope=col>&lt;fct&gt;</th><th scope=col>&lt;fct&gt;</th><th scope=col>&lt;fct&gt;</th><th scope=col>&lt;dbl&gt;</th><th scope=col>&lt;dbl&gt;</th><th scope=col>&lt;fct&gt;</th></tr>\n",
              "</thead>\n",
              "<tbody>\n",
              "\t<tr><td>1001</td><td>19.833723</td><td> 7</td><td>Yes</td><td>Moderate</td><td>No </td><td>No</td><td>Yes</td><td>1</td><td>2.9291956</td><td>No </td></tr>\n",
              "\t<tr><td>1002</td><td>15.408756</td><td> 0</td><td>No </td><td>Low     </td><td>No </td><td>No</td><td>No </td><td>0</td><td>3.0429148</td><td>Yes</td></tr>\n",
              "\t<tr><td>1003</td><td> 4.210570</td><td>26</td><td>No </td><td>Moderate</td><td>No </td><td>No</td><td>No </td><td>0</td><td>0.1126023</td><td>No </td></tr>\n",
              "\t<tr><td>1004</td><td>10.028829</td><td>14</td><td>No </td><td>High    </td><td>Yes</td><td>No</td><td>No </td><td>1</td><td>2.0542181</td><td>No </td></tr>\n",
              "\t<tr><td>1005</td><td> 4.672495</td><td>17</td><td>Yes</td><td>High    </td><td>No </td><td>No</td><td>No </td><td>0</td><td>1.2880612</td><td>No </td></tr>\n",
              "\t<tr><td>1006</td><td> 8.191219</td><td> 0</td><td>No </td><td>Low     </td><td>Yes</td><td>No</td><td>No </td><td>1</td><td>3.0841836</td><td>Yes</td></tr>\n",
              "</tbody>\n",
              "</table>\n"
            ],
            "text/latex": [
              "A tibble: 6 × 11\n",
              "\\begin{tabular}{lllllllllll}\n",
              " StudentID & StudyTimeWeekly & Absences & Tutoring & ParentalSupport & Extracurricular & Sports & Music & NoOfActivities & GPA & GoodGrades\\\\\n",
              " <dbl> & <dbl> & <dbl> & <fct> & <fct> & <fct> & <fct> & <fct> & <dbl> & <dbl> & <fct>\\\\\n",
              "\\hline\n",
              "\t 1001 & 19.833723 &  7 & Yes & Moderate & No  & No & Yes & 1 & 2.9291956 & No \\\\\n",
              "\t 1002 & 15.408756 &  0 & No  & Low      & No  & No & No  & 0 & 3.0429148 & Yes\\\\\n",
              "\t 1003 &  4.210570 & 26 & No  & Moderate & No  & No & No  & 0 & 0.1126023 & No \\\\\n",
              "\t 1004 & 10.028829 & 14 & No  & High     & Yes & No & No  & 1 & 2.0542181 & No \\\\\n",
              "\t 1005 &  4.672495 & 17 & Yes & High     & No  & No & No  & 0 & 1.2880612 & No \\\\\n",
              "\t 1006 &  8.191219 &  0 & No  & Low      & Yes & No & No  & 1 & 3.0841836 & Yes\\\\\n",
              "\\end{tabular}\n"
            ],
            "text/markdown": [
              "\n",
              "A tibble: 6 × 11\n",
              "\n",
              "| StudentID &lt;dbl&gt; | StudyTimeWeekly &lt;dbl&gt; | Absences &lt;dbl&gt; | Tutoring &lt;fct&gt; | ParentalSupport &lt;fct&gt; | Extracurricular &lt;fct&gt; | Sports &lt;fct&gt; | Music &lt;fct&gt; | NoOfActivities &lt;dbl&gt; | GPA &lt;dbl&gt; | GoodGrades &lt;fct&gt; |\n",
              "|---|---|---|---|---|---|---|---|---|---|---|\n",
              "| 1001 | 19.833723 |  7 | Yes | Moderate | No  | No | Yes | 1 | 2.9291956 | No  |\n",
              "| 1002 | 15.408756 |  0 | No  | Low      | No  | No | No  | 0 | 3.0429148 | Yes |\n",
              "| 1003 |  4.210570 | 26 | No  | Moderate | No  | No | No  | 0 | 0.1126023 | No  |\n",
              "| 1004 | 10.028829 | 14 | No  | High     | Yes | No | No  | 1 | 2.0542181 | No  |\n",
              "| 1005 |  4.672495 | 17 | Yes | High     | No  | No | No  | 0 | 1.2880612 | No  |\n",
              "| 1006 |  8.191219 |  0 | No  | Low      | Yes | No | No  | 1 | 3.0841836 | Yes |\n",
              "\n"
            ],
            "text/plain": [
              "  StudentID StudyTimeWeekly Absences Tutoring ParentalSupport Extracurricular\n",
              "1 1001      19.833723        7       Yes      Moderate        No             \n",
              "2 1002      15.408756        0       No       Low             No             \n",
              "3 1003       4.210570       26       No       Moderate        No             \n",
              "4 1004      10.028829       14       No       High            Yes            \n",
              "5 1005       4.672495       17       Yes      High            No             \n",
              "6 1006       8.191219        0       No       Low             Yes            \n",
              "  Sports Music NoOfActivities GPA       GoodGrades\n",
              "1 No     Yes   1              2.9291956 No        \n",
              "2 No     No    0              3.0429148 Yes       \n",
              "3 No     No    0              0.1126023 No        \n",
              "4 No     No    1              2.0542181 No        \n",
              "5 No     No    0              1.2880612 No        \n",
              "6 No     No    1              3.0841836 Yes       "
            ]
          },
          "metadata": {},
          "output_type": "display_data"
        }
      ],
      "source": [
        "# Substract the number of activities by one if the student is volunteering\n",
        "# Then, remove the `Volunteering` column\n",
        "df <- df %>%\n",
        "    mutate(NoOfActivities = ifelse(Volunteering == 'Yes', NoOfActivities - 1, NoOfActivities)) %>%\n",
        "    select(-Volunteering)\n",
        "\n",
        "# Re-check the dataset\n",
        "head(df)"
      ]
    },
    {
      "cell_type": "markdown",
      "metadata": {},
      "source": [
        "For the `NoOfActivities` column, we can also implement what we have done on the categorical columns."
      ]
    },
    {
      "cell_type": "code",
      "execution_count": 25,
      "metadata": {
        "vscode": {
          "languageId": "r"
        }
      },
      "outputs": [
        {
          "data": {
            "image/png": "[encoded data removed]",
            "text/plain": [
              "plot without title"
            ]
          },
          "metadata": {
            "image/png": {
              "height": 400,
              "width": 800
            }
          },
          "output_type": "display_data"
        }
      ],
      "source": [
        "# Print out boxplots to see the GPA spread for each number of activities\n",
        "boxplot <- ggplot(df, aes(x = factor(NoOfActivities), y = GPA)) +\n",
        "    geom_boxplot() +\n",
        "    labs(x = 'Number of Activities') +\n",
        "    theme(text = element_text(size = 20))\n",
        "\n",
        "# Print out proportional bar charts to see\n",
        "# the percentage of students having good grades for each number of activties\n",
        "bar <- ggplot(df, aes(x = factor(NoOfActivities), fill = GoodGrades)) +\n",
        "    geom_bar(position = position_fill(reverse = TRUE)) +\n",
        "    scale_fill_manual(values = c('#d80000', '#00cd00')) +\n",
        "    labs(x = 'Number of Activities') +\n",
        "    theme(text = element_text(size = 20))\n",
        "\n",
        "# Arrange the resulting plots using a grid\n",
        "grid.arrange(boxplot, bar)"
      ]
    },
    {
      "cell_type": "markdown",
      "metadata": {},
      "source": [
        "**Observations:**\n",
        "- From the charts above, it can be seen that students academic performance **improves as their number of activities increase**, with the **peak at two activities**.\n",
        "- However, when students participate in **three activties**, their **performance drops**. This decline might happen because **managing three activities becomes overwhelming**, leaving them less time to focus on their studies.\n",
        "- Therefore, it can be concluded that the **optimal number of extracurricular activities** students can join is **two**, which can balance the benefits of participation without neglecting their studies."
      ]
    },
    {
      "cell_type": "markdown",
      "metadata": {},
      "source": [
        "----"
      ]
    },
    {
      "cell_type": "markdown",
      "metadata": {
        "id": "jWFDPnfn8S7t"
      },
      "source": [
        "## 3. Methodology<a class=\"anchor\" id=\"sec_4\"></a>"
      ]
    },
    {
      "cell_type": "markdown",
      "metadata": {},
      "source": [
        "After exploring the data in the previous section, we can start to design the model. In this section, we will outline the approach for building the models. The primary objective of this study is to create a machine learning model than **can predict whether a student will achieve good grades (GPA $\\geq$ 3.0)** using the available predictors. The taget label for this prediction is represented by the `GoodGrades` column. The predictors that we plan to use include:\n",
        "- **Students' study habit:** `StudyTimeWeekly`, `Absences`, and `Tutoring`.\n",
        "- **Parental involvement:** `ParentalSupport`.\n",
        "- **Extracurricular activities:** `Extracurricular`, `Sports`, `Music`, and `NoOfActivities`.\n",
        "\n",
        "In addition, for the **extracurricular activities** predictors, we will explore **three different approaches**:\n",
        "1. Using `Extracurricular`, `Sports`, and `Music`columns **as individual independent predictors**.\n",
        "2. **Add interactions terms** between these three columns to capture any combined effects.\n",
        "3. Using the **`NofOfActivties` column** as a single predictor, instead of dividing it by the type of activities.\n",
        "\n",
        "For the machine learning model type, we will consider **three linear classification models:**\n",
        "- **Logistic Regression**\n",
        "- **Linear Discriminant Analysis (LDA)**\n",
        "- **Quadratic Discriminant Analysis (QDA)**\n",
        "\n",
        "Given we have three approaches for handling the extracurricular activties predictors and the three types of models, we will **create a total of nine models** (3 approaches for 3 model types).\n",
        "\n",
        "For evaluating the performance of the models created, we will use **five key classification metrics:**\n",
        "- **Accuracy:** measures how often the model correctly predicts the labels.\n",
        "- **Precision:** the proportion of the predicted positive labels (\"Yes\") that are actually correct.\n",
        "- **Recall:** the proportion of actual positive labels that the model successfully identifies.\n",
        "- **F1 Score:** the harmonic mean of precision an recall, balancing both metrics.\n",
        "- **AUC-ROC curve:** evaluates the model's ability to distinguish between the two classes.\n",
        "\n",
        "Finally, for the **inference task**, we will use the best-performing model to **identify which predictors have the most significant impact on the target variable**. This can provide insights into identifying the key factors that influence students' academic performance."
      ]
    },
    {
      "cell_type": "markdown",
      "metadata": {},
      "source": [
        "----"
      ]
    },
    {
      "cell_type": "markdown",
      "metadata": {
        "id": "fvEVmwR98S7t"
      },
      "source": [
        "## 4. Model Development <a class=\"anchor\" id=\"sec_5\"></a>"
      ]
    },
    {
      "cell_type": "markdown",
      "metadata": {},
      "source": [
        "In this section, we will start to develop the classification models. Here, we will start with preparring the dataset first before using it for the training. Then, after the preparation we can begin building the models. After that, we will also create a custom function to calculate and print out the evaluation metrics for testing the performance of the created models."
      ]
    },
    {
      "cell_type": "markdown",
      "metadata": {},
      "source": [
        "### 4.1. Data Preparation"
      ]
    },
    {
      "cell_type": "markdown",
      "metadata": {},
      "source": [
        "Before building the models, it is important to address a key issue identified in the EDA section, which is **the class imbalance problem**. Specifically, the dataset has **significantly fewer positive labels compared to the negative labels**. This imbalance may lead to the problem of creating a \"lazy model\" that predict everything to the majority class, in this class the negative label. To prevent this, we need to do proper data manipulation tehcniques to solve this class imbalance problem.\n",
        "\n",
        "Common techniques include **under-sampling** (randomly sample the majority class) or **over-sampling** (randomly duplicate observations of the minority class). However, both methods also come with drawbacks. Under-sampling can result in losing valuable training data, potentially reducing model accuracy. On the other hand, over-sampling can lead to overfitting due to repeatedly learning from the same examples. \n",
        "\n",
        "To address these shortcomings, we can instead use **SMOTE (Synthetic Minority Over-sampling Technique)**. The SMOTE algorithm generates a new synthetic example in the feature space by taking the difference between a sample with its nearest neighbour, multiplying the difference by a random number between 0 and 1, then adding the difference to the sample.\n",
        "\n",
        "However, the standard SMOTE algorith can only work with continuous variables as the inputs. Given that our dataset includes several categorical variables, we need to use a modified version called **SMOTE-NC (SMOTE for Nominal and Continuous data)**. SMOTE-NC can handle categorical variables by using the most common category along neighbors.\n",
        "\n",
        "In R, we can use simply use the `smotenc()` function from the `themis` library to implement this technique.\n",
        "\n",
        "However, in common practice, the dataset is typically **split into a training and a test sets first** before applying SMOTE **to prevent data leakage**. If it is applied before splitting, there is a risk that **a synthetic observation or its original counterpart appear in both the training and test sets**. This would **defeat the purpose of splitting** the dataset as the test set would not accurately represent the unseen data, potentially leading to an overestimated model performance. Therefore, to prevent this problem, SMOTE should be **applied only to the training set** after the data has been split.\n",
        "\n",
        "In R, we can simply use the `createDataPartition()` function from the `caret` library to implement the splitting technique. In this study, we will use **a split ratio 7:3**.\n",
        "\n",
        "In addition, as we will also not going to use the `StudentID` and `GPA` columns for the model development, we can also delete those two columns."
      ]
    },
    {
      "cell_type": "code",
      "execution_count": 26,
      "metadata": {
        "vscode": {
          "languageId": "r"
        }
      },
      "outputs": [
        {
          "name": "stdout",
          "output_type": "stream",
          "text": [
            "tibble [1,664 × 9] (S3: tbl_df/tbl/data.frame)\n",
            " $ StudyTimeWeekly: num [1:1664] 19.83 15.41 4.67 18.44 11.85 ...\n",
            " $ Absences       : num [1:1664] 7 0 17 0 11 15 21 21 17 9 ...\n",
            " $ Tutoring       : Factor w/ 2 levels \"No\",\"Yes\": 2 1 2 1 1 1 1 1 2 1 ...\n",
            " $ ParentalSupport: Factor w/ 5 levels \"None\",\"Low\",\"Moderate\",..: 3 2 4 4 2 3 4 5 1 3 ...\n",
            " $ Extracurricular: Factor w/ 2 levels \"No\",\"Yes\": 1 1 1 2 1 1 2 1 1 1 ...\n",
            " $ Sports         : Factor w/ 2 levels \"No\",\"Yes\": 1 1 1 1 1 1 1 2 2 1 ...\n",
            " $ Music          : Factor w/ 2 levels \"No\",\"Yes\": 2 1 1 1 1 1 1 1 1 2 ...\n",
            " $ NoOfActivities : num [1:1664] 1 0 0 1 0 0 1 1 1 1 ...\n",
            " $ GoodGrades     : Factor w/ 2 levels \"No\",\"Yes\": 1 2 1 2 1 1 1 1 1 1 ...\n",
            "tibble [712 × 9] (S3: tbl_df/tbl/data.frame)\n",
            " $ StudyTimeWeekly: num [1:712] 4.21 10.03 8.19 15.6 15.42 ...\n",
            " $ Absences       : num [1:712] 26 14 0 10 22 1 9 14 16 29 ...\n",
            " $ Tutoring       : Factor w/ 2 levels \"No\",\"Yes\": 1 1 1 1 2 1 2 1 2 1 ...\n",
            " $ ParentalSupport: Factor w/ 5 levels \"None\",\"Low\",\"Moderate\",..: 3 4 2 4 2 3 3 3 3 3 ...\n",
            " $ Extracurricular: Factor w/ 2 levels \"No\",\"Yes\": 1 2 2 1 2 1 1 2 1 2 ...\n",
            " $ Sports         : Factor w/ 2 levels \"No\",\"Yes\": 1 1 1 2 1 2 1 2 1 1 ...\n",
            " $ Music          : Factor w/ 2 levels \"No\",\"Yes\": 1 1 1 1 1 1 1 1 1 1 ...\n",
            " $ NoOfActivities : num [1:712] 0 1 1 1 1 1 0 2 0 1 ...\n",
            " $ GoodGrades     : Factor w/ 2 levels \"No\",\"Yes\": 1 1 2 1 1 1 1 1 1 1 ...\n"
          ]
        }
      ],
      "source": [
        "# Remove the `StudentID` and `GPA` columns as they will not be used to create the model\n",
        "df <- df %>%\n",
        "    select(-StudentID, -GPA)\n",
        "\n",
        "# Set seed for the random number generator (RNG)\n",
        "set.seed(79)\n",
        "\n",
        "# Split the datset into a training and test sets\n",
        "# Use stratified sampling on the target variables\n",
        "# Use splitting ration 0f 70% training and 30% test\n",
        "sample <- createDataPartition(df$GoodGrades, p = 0.7, list = FALSE)\n",
        "train  <- df[sample, ]\n",
        "test   <- df[-sample, ]\n",
        "\n",
        "# Check the train and test set\n",
        "str(train)\n",
        "str(test)"
      ]
    },
    {
      "cell_type": "code",
      "execution_count": 27,
      "metadata": {
        "vscode": {
          "languageId": "r"
        }
      },
      "outputs": [
        {
          "data": {
            "text/html": [
              "<table class=\"dataframe\">\n",
              "<caption>A tibble: 6 × 9</caption>\n",
              "<thead>\n",
              "\t<tr><th scope=col>StudyTimeWeekly</th><th scope=col>Absences</th><th scope=col>Tutoring</th><th scope=col>ParentalSupport</th><th scope=col>Extracurricular</th><th scope=col>Sports</th><th scope=col>Music</th><th scope=col>NoOfActivities</th><th scope=col>GoodGrades</th></tr>\n",
              "\t<tr><th scope=col>&lt;dbl&gt;</th><th scope=col>&lt;dbl&gt;</th><th scope=col>&lt;fct&gt;</th><th scope=col>&lt;fct&gt;</th><th scope=col>&lt;fct&gt;</th><th scope=col>&lt;fct&gt;</th><th scope=col>&lt;fct&gt;</th><th scope=col>&lt;dbl&gt;</th><th scope=col>&lt;fct&gt;</th></tr>\n",
              "</thead>\n",
              "<tbody>\n",
              "\t<tr><td>19.833723</td><td> 7</td><td>Yes</td><td>Moderate</td><td>No </td><td>No</td><td>Yes</td><td>1</td><td>No </td></tr>\n",
              "\t<tr><td>15.408756</td><td> 0</td><td>No </td><td>Low     </td><td>No </td><td>No</td><td>No </td><td>0</td><td>Yes</td></tr>\n",
              "\t<tr><td> 4.672495</td><td>17</td><td>Yes</td><td>High    </td><td>No </td><td>No</td><td>No </td><td>0</td><td>No </td></tr>\n",
              "\t<tr><td>18.444466</td><td> 0</td><td>No </td><td>High    </td><td>Yes</td><td>No</td><td>No </td><td>1</td><td>Yes</td></tr>\n",
              "\t<tr><td>11.851364</td><td>11</td><td>No </td><td>Low     </td><td>No </td><td>No</td><td>No </td><td>0</td><td>No </td></tr>\n",
              "\t<tr><td> 7.598486</td><td>15</td><td>No </td><td>Moderate</td><td>No </td><td>No</td><td>No </td><td>0</td><td>No </td></tr>\n",
              "</tbody>\n",
              "</table>\n"
            ],
            "text/latex": [
              "A tibble: 6 × 9\n",
              "\\begin{tabular}{lllllllll}\n",
              " StudyTimeWeekly & Absences & Tutoring & ParentalSupport & Extracurricular & Sports & Music & NoOfActivities & GoodGrades\\\\\n",
              " <dbl> & <dbl> & <fct> & <fct> & <fct> & <fct> & <fct> & <dbl> & <fct>\\\\\n",
              "\\hline\n",
              "\t 19.833723 &  7 & Yes & Moderate & No  & No & Yes & 1 & No \\\\\n",
              "\t 15.408756 &  0 & No  & Low      & No  & No & No  & 0 & Yes\\\\\n",
              "\t  4.672495 & 17 & Yes & High     & No  & No & No  & 0 & No \\\\\n",
              "\t 18.444466 &  0 & No  & High     & Yes & No & No  & 1 & Yes\\\\\n",
              "\t 11.851364 & 11 & No  & Low      & No  & No & No  & 0 & No \\\\\n",
              "\t  7.598486 & 15 & No  & Moderate & No  & No & No  & 0 & No \\\\\n",
              "\\end{tabular}\n"
            ],
            "text/markdown": [
              "\n",
              "A tibble: 6 × 9\n",
              "\n",
              "| StudyTimeWeekly &lt;dbl&gt; | Absences &lt;dbl&gt; | Tutoring &lt;fct&gt; | ParentalSupport &lt;fct&gt; | Extracurricular &lt;fct&gt; | Sports &lt;fct&gt; | Music &lt;fct&gt; | NoOfActivities &lt;dbl&gt; | GoodGrades &lt;fct&gt; |\n",
              "|---|---|---|---|---|---|---|---|---|\n",
              "| 19.833723 |  7 | Yes | Moderate | No  | No | Yes | 1 | No  |\n",
              "| 15.408756 |  0 | No  | Low      | No  | No | No  | 0 | Yes |\n",
              "|  4.672495 | 17 | Yes | High     | No  | No | No  | 0 | No  |\n",
              "| 18.444466 |  0 | No  | High     | Yes | No | No  | 1 | Yes |\n",
              "| 11.851364 | 11 | No  | Low      | No  | No | No  | 0 | No  |\n",
              "|  7.598486 | 15 | No  | Moderate | No  | No | No  | 0 | No  |\n",
              "\n"
            ],
            "text/plain": [
              "  StudyTimeWeekly Absences Tutoring ParentalSupport Extracurricular Sports\n",
              "1 19.833723        7       Yes      Moderate        No              No    \n",
              "2 15.408756        0       No       Low             No              No    \n",
              "3  4.672495       17       Yes      High            No              No    \n",
              "4 18.444466        0       No       High            Yes             No    \n",
              "5 11.851364       11       No       Low             No              No    \n",
              "6  7.598486       15       No       Moderate        No              No    \n",
              "  Music NoOfActivities GoodGrades\n",
              "1 Yes   1              No        \n",
              "2 No    0              Yes       \n",
              "3 No    0              No        \n",
              "4 No    1              Yes       \n",
              "5 No    0              No        \n",
              "6 No    0              No        "
            ]
          },
          "metadata": {},
          "output_type": "display_data"
        },
        {
          "data": {
            "text/html": [
              "<style>\n",
              ".dl-inline {width: auto; margin:0; padding: 0}\n",
              ".dl-inline>dt, .dl-inline>dd {float: none; width: auto; display: inline-block}\n",
              ".dl-inline>dt::after {content: \":\\0020\"; padding-right: .5ex}\n",
              ".dl-inline>dt:not(:first-of-type) {padding-left: .5ex}\n",
              "</style><dl class=dl-inline><dt>No</dt><dd>1439</dd><dt>Yes</dt><dd>1439</dd></dl>\n"
            ],
            "text/latex": [
              "\\begin{description*}\n",
              "\\item[No] 1439\n",
              "\\item[Yes] 1439\n",
              "\\end{description*}\n"
            ],
            "text/markdown": [
              "No\n",
              ":   1439Yes\n",
              ":   1439\n",
              "\n"
            ],
            "text/plain": [
              "  No  Yes \n",
              "1439 1439 "
            ]
          },
          "metadata": {},
          "output_type": "display_data"
        }
      ],
      "source": [
        "# Appy the SMOTE-NC on the training set\n",
        "train <- train %>%\n",
        "    select(-NoOfActivities) %>%\n",
        "    smotenc(var = 'GoodGrades', k = 5) %>%\n",
        "    mutate(NoOfActivities = rowSums(.[c('Extracurricular', 'Sports', 'Music')] == 'Yes')) %>%\n",
        "    select(-GoodGrades, GoodGrades)\n",
        "\n",
        "# Re-check on the training set\n",
        "head(train)\n",
        "\n",
        "# Check the labels in the target varible of the training set\n",
        "summary(train$GoodGrades)"
      ]
    },
    {
      "cell_type": "markdown",
      "metadata": {},
      "source": [
        "### 4.2. Training the Models"
      ]
    },
    {
      "cell_type": "markdown",
      "metadata": {},
      "source": [
        "After the data has been prepared, we can start to train the models now to estimate the parameters."
      ]
    },
    {
      "cell_type": "markdown",
      "metadata": {},
      "source": [
        "#### 4.2.1. Logistic Regression"
      ]
    },
    {
      "cell_type": "markdown",
      "metadata": {},
      "source": [
        "Logistic Regression is **similar to Linear Regression** but instead of modeling the response directly, it **models the probability** that an observation belongs to a particular class, typically the positive label. Unlike Linear Regression that can ouputs predictions that fall outside 0 to 1, Logistic Regression ensures that the ouputs are constrained within 0 and 1 through the useage of **logistic function**. \n",
        "\n",
        "The logistic function is defined as:\n",
        "$$\n",
        "p(X)=\\frac{e^{\\beta_0+\\beta_1X}}{1+e^{\\beta_0+\\beta_1X}}\n",
        "$$\n",
        "\n",
        "Here, $p(X)$ represents the probability of the observation belongs to the positive class given the predictor $X$ and parameters $\\beta_0,\\beta1$, which are estimated to best fit the data. To fit the model, we can employ the **maximum likelihood** estimation method, which will find the parameters that can maximize the likelihood of the observed outcomes. \n",
        "\n",
        "In R, the Logistic Regression model can be fitetd using the `glm()` function, with specifying `family = binomial` to indicate that the model is for a binary classification case."
      ]
    },
    {
      "cell_type": "code",
      "execution_count": 28,
      "metadata": {
        "vscode": {
          "languageId": "r"
        }
      },
      "outputs": [
        {
          "name": "stderr",
          "output_type": "stream",
          "text": [
            "Warning message:\n",
            "\"glm.fit: fitted probabilities numerically 0 or 1 occurred\"\n",
            "Warning message:\n",
            "\"glm.fit: fitted probabilities numerically 0 or 1 occurred\"\n",
            "Warning message:\n",
            "\"glm.fit: fitted probabilities numerically 0 or 1 occurred\"\n"
          ]
        }
      ],
      "source": [
        "# Train the first Logistic Regression model\n",
        "# (use the activities as individual predictors)\n",
        "log1 <- glm(GoodGrades ~ . -NoOfActivities, data = train, family = binomial(link = 'logit'))\n",
        "\n",
        "# Train the second Logistic Regression model\n",
        "# (add interaction terms)\n",
        "log2 <- glm(GoodGrades ~ . -NoOfActivities + Extracurricular*Sports*Music, data = train, family = binomial(link = 'logit'))\n",
        "\n",
        "# Train the third Logistic Regression model\n",
        "# (use the number of activities instead)\n",
        "log3 <- glm(GoodGrades ~ . -Extracurricular -Sports -Music, data = train, family = binomial(link = 'logit'))"
      ]
    },
    {
      "cell_type": "markdown",
      "metadata": {},
      "source": [
        "#### 4.2.2. Linear Discriminant Analysis (LDA)"
      ]
    },
    {
      "cell_type": "markdown",
      "metadata": {},
      "source": [
        "In Logistic Regression, we directly model the conditional distribution of the response variable $Y$ given the predictor(s) $X$, which is represented as $P(Y=k|X=x)$. This approach is called a **discriminative model**. In contrast, in a **generative model**, such as Discriminant Analysis, we model the distribution of the predictors $X$ separately within each class and then apply the Bayes' theorem to estimate the $Pr(Y=k|X=x)$.\n",
        "\n",
        "The posterior probability can be expressed as:\n",
        "$$\n",
        "P(Y=k|X=x)=\\frac{\\pi_k\\,f_k(x)}{\\sum^K_{l=1}\\pi_l\\,f_l(x)}\n",
        "$$\n",
        "where $f_k(x)$ is the density for $X$ in class $k$ and $\\pi_k$ is the prior probability for class $k$.\n",
        "\n",
        "In Linear Discriminant Analysis (LDA), it is assumed that the distribution of the predictors within each class follows a **Gaussian distribution** (normal distribution), and that different classes share the a **common covariance matrix**. Given our models have more than one predictors, then the **discriminant function** can be formulated as:\n",
        "$$\n",
        "\\delta_k(x)=x^T\\Sigma^{-1}\\mu_k-\\frac{1}{2}\\mu_k^T\\Sigma^{-1}\\mu_k+log\\,\\pi_k\n",
        "$$\n",
        "where $x$ is the vector of predictors, $\\Sigma$ is the shared covariance matric, $\\mu_k$ is the mean evctor for class $k$, and $log\\,\\pi_k$ is the log of the prior probability for class $k$.\n",
        "\n",
        "In R, to implement the LDA model, we can use the `lda` function from the `MASS` library."
      ]
    },
    {
      "cell_type": "code",
      "execution_count": 29,
      "metadata": {
        "vscode": {
          "languageId": "r"
        }
      },
      "outputs": [],
      "source": [
        "# Train the first LDA model (use the activities as individual predictors)\n",
        "lda1 <- lda(GoodGrades ~ . -NoOfActivities, data = train)\n",
        "\n",
        "# Train the second LDA model (add interaction terms)\n",
        "lda2 <- lda(GoodGrades ~ . -NoOfActivities + Extracurricular*Sports*Music, data = train)\n",
        "\n",
        "# Train the third LDA model (use the number of activities instead)\n",
        "lda3 <- lda(GoodGrades ~ . -Extracurricular -Sports -Music, data = train)"
      ]
    },
    {
      "cell_type": "markdown",
      "metadata": {},
      "source": [
        "#### 4.2.3. Quadratic Discriminant Analysis (QDA)"
      ]
    },
    {
      "cell_type": "markdown",
      "metadata": {},
      "source": [
        "**Quadratic Discriminant Analysis (QDA)** is similar to LDA in that both are generative models. However, unlike LDA that assumes all predictors share the same covariance matrix, QDA does not impose such constraint. Instead, QDA allows **each class to have its own covariance matrix**, which leads to a **more flexible model**. \n",
        "\n",
        "Therefore, the **discriminant function** for QDA can be formulated as:\n",
        "$$\n",
        "\\delta_k(x)=-\\frac{1}{2}(x-\\mu_k)^T\\Sigma_k^{-1}(x-mu_k)-\\frac{1}{2}log\\,|\\Sigma_k|+log\\,\\pi_k\n",
        "$$\n",
        "where $\\Sigma_k$ is the covariance matrix of class $k$ instead of the shared covariance matrix and $|\\Sigma_k|$ is the determinant of the covariance matrix for class $k$.\n",
        "\n",
        "In R, to implement a QDA model, we can simply use the `qda` function from the `MASS` library."
      ]
    },
    {
      "cell_type": "code",
      "execution_count": 30,
      "metadata": {
        "vscode": {
          "languageId": "r"
        }
      },
      "outputs": [],
      "source": [
        "# Train the first QDA model (use the activities as individual predictors)\n",
        "qda1 <- qda(GoodGrades ~ . -NoOfActivities, data = train)\n",
        "\n",
        "# Train the second QDA model (add interaction terms)\n",
        "qda2 <- qda(GoodGrades ~ . -NoOfActivities + Extracurricular*Sports*Music, data = train)\n",
        "\n",
        "# Train the third QDA model (use the number of activities instead)\n",
        "qda3 <- qda(GoodGrades ~ . -Extracurricular -Sports -Music, data = train)"
      ]
    },
    {
      "cell_type": "markdown",
      "metadata": {},
      "source": [
        "### 4.3. Creating a Custom Function to Evaluate the Models"
      ]
    },
    {
      "cell_type": "markdown",
      "metadata": {},
      "source": [
        "After creating the models, we need evaluate these models' performance. As mentioned in the previous section, we will conside five metrics in the evaluation process.\n",
        "\n",
        "**Notations:**\n",
        "- TP (True Positive) = correctly predicted as positive when the actual label is also positive.\n",
        "- FP (False Positive) = predicted as positive when the actual label is actually negative.\n",
        "- TN (True Negative) = correctly predicted as negative when the actual label is also negative.\n",
        "- FN (False Negative) = predicted as negative when the actual label is actually positive.\n",
        "\n",
        "**Accuracy**\n",
        "<br>\n",
        "Accuracy is one of the **most basic evaluation metrics** for classification as it just simply measures how many predictions are actually correct out of all the predictions. \n",
        "\n",
        "The formula for Accuracy is:\n",
        "$$\n",
        "Accuracy=\\frac{TP+TN}{TP+FP+TN+FN}\n",
        "$$\n",
        "\n",
        "**Precision**\n",
        "<br>\n",
        "Precision measures the correctly identified positive labels out of the predicted positive labels. This is **useful when the cost for False Positives is high**.\n",
        "\n",
        "The formula for Precision is:\n",
        "$$\n",
        "Precision=\\frac{TP}{TP+FP}\n",
        "$$\n",
        "\n",
        "**Recall**\n",
        "<br>\n",
        "In contrast with Precision, Recall measures the correctly identified positive labels out of the actual positive labels. Thus, this is **useful when the cost for False Negatives is high instead**.\n",
        "\n",
        "The formula for Recall is:\n",
        "$$\n",
        "Recall = \\frac{TP}{TP + FN}\n",
        "$$\n",
        "\n",
        "**F1 Score**\n",
        "<br>\n",
        "F1 Score is the **harmonic mean between Precision and Recall**. This is used when we want to balance both metrics, while also giving a better measurement on the incorrectly labeled data than the Accuracy metric.\n",
        "\n",
        "The formula for F1 Score is:\n",
        "$$\n",
        "F1\\,Score=\\frac{2}{\\frac{1}{Precision}+\\frac{1}{Recall}}\n",
        "=2\\times\\frac{Precision\\,\\times\\,Recall}{Precision+Recall}\n",
        "$$\n",
        "\n",
        "**AUC-ROC**\n",
        "<br>\n",
        "To visualise the performance of a classification problem, we can use the **AUC (Area Under the Curve) ROC (Receiver Operating Characteristics)**. ROC itself is a probability curve that is created by plotting the true positive rate (TPR) against the false positive rate (FPR), whereas AUC is the area under the ROC curve that represents the degreee of separability. The higher the AUC is, the better the model can distinguish between the positive and the negative labels.\n",
        "\n",
        "The formulas for TPR and FPR are:\n",
        "$$\n",
        "TPR/Recall/Sensitivity=\\frac{TP}{TP+FN}\\\\\n",
        "Specifity=\\frac{TN}{TN+FP}\\\\\n",
        "FPR=1-Specifity=\\frac{FP}{TN+FP}\n",
        "$$"
      ]
    },
    {
      "cell_type": "code",
      "execution_count": 31,
      "metadata": {
        "vscode": {
          "languageId": "r"
        }
      },
      "outputs": [],
      "source": [
        "# Create a custom function to evaluate the models\n",
        "# The inputs are the actual labels of the test set \n",
        "# and the probability of belonging to the positive class\n",
        "# The outputs are the evaluation metrics\n",
        "evaluation <- function(actual, probs, threshold = 0.5){\n",
        "  cat('------------------------------------------------------------\\n')\n",
        "  cat('Performance statistics:\\n')\n",
        "  cat('\\n')\n",
        "\n",
        "  # Determine the prediction result based on the probability\n",
        "  # If the probability is greater than 0.5, then the label is positive (\"Yes\")\n",
        "  predicted <- factor(probs >= threshold, \n",
        "               levels = c(FALSE, TRUE),\n",
        "               labels = c('No', 'Yes'))\n",
        "  \n",
        "  # Print out the confusion matrix\n",
        "  cat('Confusion matrix:\\n\\n')\n",
        "  cm <- table(predicted, actual)\n",
        "  print(cm)\n",
        "  cat('\\n')\n",
        "\n",
        "  # Print out the classification metrics\n",
        "  cat('Accuracy  =', (cm[1,1] + cm[2,2])/(cm[1,1] + cm[1,2] + cm[2,1] + cm[2,2]), '\\n')\n",
        "  cat('Precision =', cm[2,2]/(cm[2,2] + cm[2,1]), '\\n')\n",
        "  cat('Recall    =', cm[2,2]/(cm[2,2] + cm[1,2]), '\\n')\n",
        "  cat('F1-score  =', cm[2,2]/(cm[2,2] + 0.5*(cm[2,1] + cm[1,2])), '\\n')\n",
        "  cat('\\n')\n",
        "\n",
        "  # Adjust the size of the plots\n",
        "  options(repr.plot.width = 8, repr.plot.height = 8, repr.plot.res = 100)\n",
        "\n",
        "  # Print out the ROC curve and the AUC score\n",
        "  roc_curve <- roc(actual, probs)\n",
        "  plot(roc_curve, main = 'ROC Curve')\n",
        "  cat('AUC =', auc(roc_curve), '\\n')\n",
        "  cat(\"------------------------------------------------------------\")\n",
        "}"
      ]
    },
    {
      "cell_type": "markdown",
      "metadata": {},
      "source": [
        "----"
      ]
    },
    {
      "cell_type": "markdown",
      "metadata": {
        "id": "V4fVhN7C8S7u"
      },
      "source": [
        "## 5. Results and Discussion <a class=\"anchor\" id=\"sec_6\"></a>"
      ]
    },
    {
      "cell_type": "markdown",
      "metadata": {},
      "source": [
        "This section is divide into two parts:\n",
        "- **Prediction Task**: analyse the performance of the resulting model using evaluation metrics on the test set. Then, compare the results to determine which model shows the best performance.\n",
        "- **Inference Task**: examine the best model to identify which predictors have the most significant effect on the model's outcomes."
      ]
    },
    {
      "cell_type": "markdown",
      "metadata": {},
      "source": [
        "### 5.1. Prediction Task"
      ]
    },
    {
      "cell_type": "markdown",
      "metadata": {},
      "source": [
        "Now, let's print out the resulting models summaries and the evaluation results one-by-one. Then, we can start the analysis and comparison at the end."
      ]
    },
    {
      "cell_type": "markdown",
      "metadata": {},
      "source": [
        "#### 5.1.1. Logistic Regression"
      ]
    },
    {
      "cell_type": "markdown",
      "metadata": {},
      "source": [
        "##### 5.1.1.1. Model Summary"
      ]
    },
    {
      "cell_type": "code",
      "execution_count": 32,
      "metadata": {
        "vscode": {
          "languageId": "r"
        }
      },
      "outputs": [
        {
          "data": {
            "text/plain": [
              "\n",
              "Call:\n",
              "glm(formula = GoodGrades ~ . - NoOfActivities, family = binomial(link = \"logit\"), \n",
              "    data = train)\n",
              "\n",
              "Deviance Residuals: \n",
              "    Min       1Q   Median       3Q      Max  \n",
              "-3.8873  -0.0012   0.0004   0.1100   2.5852  \n",
              "\n",
              "Coefficients:\n",
              "                         Estimate Std. Error z value Pr(>|z|)    \n",
              "(Intercept)              -5.26639    0.70788  -7.440 1.01e-13 ***\n",
              "StudyTimeWeekly           0.35483    0.02851  12.444  < 2e-16 ***\n",
              "Absences                 -1.23416    0.07587 -16.266  < 2e-16 ***\n",
              "TutoringYes               3.48961    0.30866  11.306  < 2e-16 ***\n",
              "ParentalSupportLow        3.92751    0.63888   6.148 7.87e-10 ***\n",
              "ParentalSupportModerate   5.17281    0.63464   8.151 3.62e-16 ***\n",
              "ParentalSupportHigh       6.72567    0.67100  10.023  < 2e-16 ***\n",
              "ParentalSupportVery High  8.09762    0.82385   9.829  < 2e-16 ***\n",
              "ExtracurricularYes        1.74521    0.25880   6.744 1.55e-11 ***\n",
              "SportsYes                 2.71709    0.31039   8.754  < 2e-16 ***\n",
              "MusicYes                  1.66133    0.28037   5.926 3.11e-09 ***\n",
              "---\n",
              "Signif. codes:  0 '***' 0.001 '**' 0.01 '*' 0.05 '.' 0.1 ' ' 1\n",
              "\n",
              "(Dispersion parameter for binomial family taken to be 1)\n",
              "\n",
              "    Null deviance: 3989.76  on 2877  degrees of freedom\n",
              "Residual deviance:  557.72  on 2867  degrees of freedom\n",
              "AIC: 579.72\n",
              "\n",
              "Number of Fisher Scoring iterations: 9\n"
            ]
          },
          "metadata": {},
          "output_type": "display_data"
        }
      ],
      "source": [
        "# Print out the summary of the first Logistic Regression model\n",
        "summary(log1)"
      ]
    },
    {
      "cell_type": "markdown",
      "metadata": {},
      "source": [
        "**Observations:**\n",
        "- All predictors exhibit a **significant effect** on the output (seen from their p-value), indicating their relevance in prediciting the target variable.\n",
        "- Among the predictors, only `Absences` shows a **negative relationship** with the output. This aligns with the earlier analysis where higher absences number associated with lower academic performance.\n",
        "- The median of the deviance residuals is close to zero, suggesting the model is **generally well-calibrated** and fits the data well.\n",
        "- The **residual deviance is considerably smaller than the null deviance**. This suggests that the model perform ** significantly better than the null model** (a model with no predictors). This shows that using predictors can improve the model's performance."
      ]
    },
    {
      "cell_type": "code",
      "execution_count": 33,
      "metadata": {
        "vscode": {
          "languageId": "r"
        }
      },
      "outputs": [
        {
          "data": {
            "text/plain": [
              "\n",
              "Call:\n",
              "glm(formula = GoodGrades ~ . - NoOfActivities + Extracurricular * \n",
              "    Sports * Music, family = binomial(link = \"logit\"), data = train)\n",
              "\n",
              "Deviance Residuals: \n",
              "    Min       1Q   Median       3Q      Max  \n",
              "-3.9420  -0.0012   0.0004   0.1103   2.5929  \n",
              "\n",
              "Coefficients:\n",
              "                                      Estimate Std. Error z value Pr(>|z|)    \n",
              "(Intercept)                           -5.40107    0.74955  -7.206 5.77e-13 ***\n",
              "StudyTimeWeekly                        0.35643    0.02912  12.242  < 2e-16 ***\n",
              "Absences                              -1.24068    0.07663 -16.191  < 2e-16 ***\n",
              "TutoringYes                            3.54318    0.31554  11.229  < 2e-16 ***\n",
              "ParentalSupportLow                     3.95421    0.67147   5.889 3.89e-09 ***\n",
              "ParentalSupportModerate                5.28305    0.65633   8.049 8.32e-16 ***\n",
              "ParentalSupportHigh                    6.86200    0.69533   9.869  < 2e-16 ***\n",
              "ParentalSupportVery High               8.39063    0.85058   9.865  < 2e-16 ***\n",
              "ExtracurricularYes                     1.86295    0.31484   5.917 3.28e-09 ***\n",
              "SportsYes                              2.87764    0.42062   6.841 7.84e-12 ***\n",
              "MusicYes                               1.26468    0.39852   3.173  0.00151 ** \n",
              "ExtracurricularYes:SportsYes          -1.15782    0.69988  -1.654  0.09807 .  \n",
              "ExtracurricularYes:MusicYes            0.97866    0.76249   1.284  0.19932    \n",
              "SportsYes:MusicYes                     1.11833    0.81895   1.366  0.17208    \n",
              "ExtracurricularYes:SportsYes:MusicYes -1.77589    1.41694  -1.253  0.21009    \n",
              "---\n",
              "Signif. codes:  0 '***' 0.001 '**' 0.01 '*' 0.05 '.' 0.1 ' ' 1\n",
              "\n",
              "(Dispersion parameter for binomial family taken to be 1)\n",
              "\n",
              "    Null deviance: 3989.76  on 2877  degrees of freedom\n",
              "Residual deviance:  548.07  on 2863  degrees of freedom\n",
              "AIC: 578.07\n",
              "\n",
              "Number of Fisher Scoring iterations: 9\n"
            ]
          },
          "metadata": {},
          "output_type": "display_data"
        }
      ],
      "source": [
        "# Print out the summary of the second Logistic Regression model\n",
        "summary(log2)"
      ]
    },
    {
      "cell_type": "markdown",
      "metadata": {},
      "source": [
        "**Observations:**\n",
        "- Interestingly, none of the interaction between extracurricular activties show a significant effect, as their p-values are greater than 0.05, our designated threshold. This means that **the combination of activities does not significantly influence the outcome**.\n",
        "- Among the predictors, other than `Absences`, only the interaction term `ExtracurricularYes:SportsYes` exhibits a **negative relationship** with the output. This suggests that participating in both regular extracurricular activities and sports could take up too much of the students' time, leading them to potentially neglect their studies.\n",
        "- The median of the deviance residuals is also close to zero and the residual deviance is considerably smaller than the null deviance similar to the first model.\n",
        "- Interestingly, the residual deviance is slightly lower than the first model. This might imply that the second model offers a **marginally better fit** than the first model."
      ]
    },
    {
      "cell_type": "code",
      "execution_count": 34,
      "metadata": {
        "vscode": {
          "languageId": "r"
        }
      },
      "outputs": [
        {
          "data": {
            "text/plain": [
              "\n",
              "Call:\n",
              "glm(formula = GoodGrades ~ . - Extracurricular - Sports - Music, \n",
              "    family = binomial(link = \"logit\"), data = train)\n",
              "\n",
              "Deviance Residuals: \n",
              "    Min       1Q   Median       3Q      Max  \n",
              "-3.6480  -0.0015   0.0005   0.1194   2.4898  \n",
              "\n",
              "Coefficients:\n",
              "                         Estimate Std. Error z value Pr(>|z|)    \n",
              "(Intercept)              -5.33902    0.70256  -7.599 2.98e-14 ***\n",
              "StudyTimeWeekly           0.34972    0.02780  12.581  < 2e-16 ***\n",
              "Absences                 -1.20333    0.07275 -16.541  < 2e-16 ***\n",
              "TutoringYes               3.38646    0.30008  11.285  < 2e-16 ***\n",
              "ParentalSupportLow        4.01244    0.64089   6.261 3.83e-10 ***\n",
              "ParentalSupportModerate   5.23961    0.63542   8.246  < 2e-16 ***\n",
              "ParentalSupportHigh       6.69357    0.67134   9.970  < 2e-16 ***\n",
              "ParentalSupportVery High  7.97953    0.81039   9.847  < 2e-16 ***\n",
              "NoOfActivities            2.00787    0.18736  10.717  < 2e-16 ***\n",
              "---\n",
              "Signif. codes:  0 '***' 0.001 '**' 0.01 '*' 0.05 '.' 0.1 ' ' 1\n",
              "\n",
              "(Dispersion parameter for binomial family taken to be 1)\n",
              "\n",
              "    Null deviance: 3989.8  on 2877  degrees of freedom\n",
              "Residual deviance:  568.1  on 2869  degrees of freedom\n",
              "AIC: 586.1\n",
              "\n",
              "Number of Fisher Scoring iterations: 9\n"
            ]
          },
          "metadata": {},
          "output_type": "display_data"
        }
      ],
      "source": [
        "# Print out the summary of the third Logistic Regression model\n",
        "summary(log3)"
      ]
    },
    {
      "cell_type": "markdown",
      "metadata": {},
      "source": [
        "**Observations:**\n",
        "- All predictors, including the aggregate `NoOfActivities`, demonstrate a **significant effect** on the output, indicating that the number of activities a student participates in can also significantly influence the academic performance. This suggest that whether we choose to include the activities as individual predictors or as an aggregate number of activities, **both approaches have meaningful impact** on the prediction.\n",
        "- Among the predictors, other than `Absences`, there is no other predictors that have a negative relationship with the output.\n",
        "- The median of the deviance residuals is also close to zero and the residual deviance is considerably smaller than the null deviance similar to the first model.\n",
        "- Interestingly, the residual deviance is also slightly lower than both the first and second models. This suggests that the third model offers a **marginally better fit** than both the first and second ones."
      ]
    },
    {
      "cell_type": "markdown",
      "metadata": {},
      "source": [
        "##### 5.1.1.2. Evaluation Results"
      ]
    },
    {
      "cell_type": "code",
      "execution_count": 35,
      "metadata": {
        "vscode": {
          "languageId": "r"
        }
      },
      "outputs": [
        {
          "name": "stdout",
          "output_type": "stream",
          "text": [
            "[1] \"First Logistic Regression Model\"\n",
            "------------------------------------------------------------\n",
            "Performance statistics:\n",
            "\n",
            "Confusion matrix:\n",
            "\n",
            "         actual\n",
            "predicted  No Yes\n",
            "      No  575   5\n",
            "      Yes  41  91\n",
            "\n",
            "Accuracy  = 0.9353933 \n",
            "Precision = 0.6893939 \n",
            "Recall    = 0.9479167 \n",
            "F1-score  = 0.7982456 \n",
            "\n"
          ]
        },
        {
          "name": "stderr",
          "output_type": "stream",
          "text": [
            "Setting levels: control = No, case = Yes\n",
            "\n",
            "Setting direction: controls < cases\n",
            "\n"
          ]
        },
        {
          "name": "stdout",
          "output_type": "stream",
          "text": [
            "AUC = 0.9837324 \n",
            "------------------------------------------------------------"
          ]
        },
        {
          "data": {
            "image/png": "[encoded data removed]",
            "text/plain": [
              "Plot with title \"ROC Curve\""
            ]
          },
          "metadata": {
            "image/png": {
              "height": 400,
              "width": 400
            }
          },
          "output_type": "display_data"
        }
      ],
      "source": [
        "# Evaluate the first Logistic Regression model\n",
        "# and print out the results\n",
        "print('First Logistic Regression Model')\n",
        "evaluation(test$GoodGrades, predict(log1, test, type = 'response'))"
      ]
    },
    {
      "cell_type": "code",
      "execution_count": 36,
      "metadata": {
        "vscode": {
          "languageId": "r"
        }
      },
      "outputs": [
        {
          "name": "stdout",
          "output_type": "stream",
          "text": [
            "[1] \"Second Logistic Regression Model\"\n",
            "------------------------------------------------------------\n",
            "Performance statistics:\n",
            "\n",
            "Confusion matrix:\n",
            "\n",
            "         actual\n",
            "predicted  No Yes\n",
            "      No  575   6\n",
            "      Yes  41  90\n",
            "\n",
            "Accuracy  = 0.9339888 \n",
            "Precision = 0.6870229 \n",
            "Recall    = 0.9375 \n",
            "F1-score  = 0.7929515 \n",
            "\n"
          ]
        },
        {
          "name": "stderr",
          "output_type": "stream",
          "text": [
            "Setting levels: control = No, case = Yes\n",
            "\n",
            "Setting direction: controls < cases\n",
            "\n"
          ]
        },
        {
          "name": "stdout",
          "output_type": "stream",
          "text": [
            "AUC = 0.981737 \n",
            "------------------------------------------------------------"
          ]
        },
        {
          "data": {
            "image/png": "[encoded data removed]",
            "text/plain": [
              "Plot with title \"ROC Curve\""
            ]
          },
          "metadata": {
            "image/png": {
              "height": 400,
              "width": 400
            }
          },
          "output_type": "display_data"
        }
      ],
      "source": [
        "# Evaluate the second Logistic Regression model\n",
        "# and print out the results\n",
        "print('Second Logistic Regression Model')\n",
        "evaluation(test$GoodGrades, predict(log2, test, type = 'response'))"
      ]
    },
    {
      "cell_type": "code",
      "execution_count": 37,
      "metadata": {
        "vscode": {
          "languageId": "r"
        }
      },
      "outputs": [
        {
          "name": "stdout",
          "output_type": "stream",
          "text": [
            "[1] \"Third Logistic Regression Model\"\n",
            "------------------------------------------------------------\n",
            "Performance statistics:\n",
            "\n",
            "Confusion matrix:\n",
            "\n",
            "         actual\n",
            "predicted  No Yes\n",
            "      No  573   6\n",
            "      Yes  43  90\n",
            "\n",
            "Accuracy  = 0.9311798 \n",
            "Precision = 0.6766917 \n",
            "Recall    = 0.9375 \n",
            "F1-score  = 0.7860262 \n",
            "\n"
          ]
        },
        {
          "name": "stderr",
          "output_type": "stream",
          "text": [
            "Setting levels: control = No, case = Yes\n",
            "\n",
            "Setting direction: controls < cases\n",
            "\n"
          ]
        },
        {
          "name": "stdout",
          "output_type": "stream",
          "text": [
            "AUC = 0.9828193 \n",
            "------------------------------------------------------------"
          ]
        },
        {
          "data": {
            "image/png": "[encoded data removed]",
            "text/plain": [
              "Plot with title \"ROC Curve\""
            ]
          },
          "metadata": {
            "image/png": {
              "height": 400,
              "width": 400
            }
          },
          "output_type": "display_data"
        }
      ],
      "source": [
        "# Evaluate the third Logistic Regression model\n",
        "# and print out the results\n",
        "print('Third Logistic Regression Model')\n",
        "evaluation(test$GoodGrades, predict(log3, test, type = 'response'))"
      ]
    },
    {
      "cell_type": "markdown",
      "metadata": {},
      "source": [
        "**Summary of Evaluation Metrics from Logistic Regression Models**\n",
        "\n",
        "|          |  log1  |  log2  |  log3  |\n",
        "|--------- | ------ | ------ | ------ |\n",
        "|Accuracy  | 0.9354 | 0.9340 | 0.9311 |\n",
        "|Precision | 0.6894 | 0.6870 | 0.6767 |\n",
        "|Recall    | 0.9479 | 0.9375 | 0.9375 |\n",
        "|F1 Score  | 0.7982 | 0.7929 | 0.7860 |\n",
        "|AUC-ROC   | 0.9837 | 0.9817 | 0.9828 |"
      ]
    },
    {
      "cell_type": "markdown",
      "metadata": {},
      "source": [
        "**Observations:**\n",
        "- From the summary, it can be concluded that the **first Logistic Regression model** (use each extracurricular activity as an individual predictor) has the overall best performance. Thus, this suggests that using the actitivies as individual predictor is slightly better than using the number of activities joined, and the interaction between those activities are not significant enough to affect the output. However, the differences between the three models are not substansial.\n",
        "- Notably, the Precision is significantly lower than the Recall, which results in a moderate F1 Score despite the high Accuracy. This suggests that while the model is **better at identifying the negative labels**, it **struggles with positive predictors** as many of the predicted positive labels are incorrect.\n",
        "- In addition, even though the F1 score is not particularly high, the AUC-ROC score is notably high (approaching 1), indicating the model actually has a **strong ability to distinguish between the classes** overall. This suggests that while the model is effective, the selected threshold value may not be optimal. Therefore, we need to try different threshold values to improve the model."
      ]
    },
    {
      "cell_type": "code",
      "execution_count": 38,
      "metadata": {
        "vscode": {
          "languageId": "r"
        }
      },
      "outputs": [
        {
          "data": {
            "image/png": "[encoded data removed]",
            "text/plain": [
              "plot without title"
            ]
          },
          "metadata": {
            "image/png": {
              "height": 400,
              "width": 800
            }
          },
          "output_type": "display_data"
        }
      ],
      "source": [
        "# Create an empty dataframe to save the results\n",
        "threshold_eval <- data.frame(Threshold = double(),\n",
        "                             Accuracy = double(),\n",
        "                             Precision = double(),\n",
        "                             Recall = double(),\n",
        "                             F1Score = double())\n",
        "\n",
        "# Here we will use the first Logistic Regression model for the experiment\n",
        "# Therefore, we need to collect the probability results from the model\n",
        "probs <- predict(log1, test, type = 'response')\n",
        "\n",
        "# Try different threshold values\n",
        "for (x in seq(0.5, 0.95, 0.01)) {\n",
        "    # Predict the label based on the probability\n",
        "    preds <- factor(probs >= x, \n",
        "                    levels = c(FALSE, TRUE),\n",
        "                    labels = c('No', 'Yes'))\n",
        "\n",
        "    # Create the confusion matrix\n",
        "    cm <- table(preds, test$GoodGrades)\n",
        "\n",
        "    # Calculate the evaluation metrics\n",
        "    accuracy <- (cm[1,1] + cm[2,2])/(cm[1,1] + cm[1,2] + cm[2,1] + cm[2,2])\n",
        "    precision <- cm[2,2]/(cm[2,2] + cm[2,1])\n",
        "    recall <- cm[2,2]/(cm[2,2] + cm[1,2])\n",
        "    f1 <- cm[2,2]/(cm[2,2] + 0.5*(cm[2,1] + cm[1,2]))\n",
        "\n",
        "    # Save the results\n",
        "    threshold_eval[nrow(threshold_eval)+1, ] <- c(x, accuracy, precision, recall, f1)\n",
        "}\n",
        "\n",
        "# Adjust the size for the plot\n",
        "options(repr.plot.width = 16, repr.plot.height = 8, repr.plot.res = 100)\n",
        "\n",
        "# Visualise the experiment results\n",
        "threshold_eval %>%\n",
        "    pivot_longer(-Threshold, names_to = 'Metric', values_to = 'Value') %>%\n",
        "    ggplot(aes(x = Threshold, y = Value, color = Metric)) +\n",
        "        geom_line(lwd = 1.5) +\n",
        "        theme(text = element_text(size = 20))"
      ]
    },
    {
      "cell_type": "markdown",
      "metadata": {},
      "source": [
        "**Observations:**\n",
        "- From the chart above, overall, with larger threshold value, the Accuracy and the F1 Score tend to increase also. This means that the model is actually **more selective in predicting the positive class** (\"Yes\").\n",
        "- Interstingly, while the Precision score also rises, the Recall score declines instead. This happen because of the **Precision-Recall trade-off**. Therefore, we need to choose an optimal value so that Precision is relatively high, but Recall is not too low.\n",
        "- The **chosen optimal threshold value** is **0.9**, and this value will be used for further analysis."
      ]
    },
    {
      "cell_type": "markdown",
      "metadata": {},
      "source": [
        "##### 5.1.1.3. Model Re-Evaluation Results"
      ]
    },
    {
      "cell_type": "markdown",
      "metadata": {},
      "source": [
        "After choosing a new optimal threshold value, we need to re-evaluate the models again."
      ]
    },
    {
      "cell_type": "code",
      "execution_count": 39,
      "metadata": {
        "vscode": {
          "languageId": "r"
        }
      },
      "outputs": [
        {
          "name": "stdout",
          "output_type": "stream",
          "text": [
            "[1] \"First Logistic Regression Model\"\n",
            "------------------------------------------------------------\n",
            "Performance statistics:\n",
            "\n",
            "Confusion matrix:\n",
            "\n",
            "         actual\n",
            "predicted  No Yes\n",
            "      No  599  16\n",
            "      Yes  17  80\n",
            "\n",
            "Accuracy  = 0.9536517 \n",
            "Precision = 0.8247423 \n",
            "Recall    = 0.8333333 \n",
            "F1-score  = 0.8290155 \n",
            "\n"
          ]
        },
        {
          "name": "stderr",
          "output_type": "stream",
          "text": [
            "Setting levels: control = No, case = Yes\n",
            "\n",
            "Setting direction: controls < cases\n",
            "\n"
          ]
        },
        {
          "name": "stdout",
          "output_type": "stream",
          "text": [
            "AUC = 0.9837324 \n",
            "------------------------------------------------------------"
          ]
        },
        {
          "data": {
            "image/png": "[encoded data removed]",
            "text/plain": [
              "Plot with title \"ROC Curve\""
            ]
          },
          "metadata": {
            "image/png": {
              "height": 400,
              "width": 400
            }
          },
          "output_type": "display_data"
        }
      ],
      "source": [
        "# Re-valuate the first Logistic Regression model\n",
        "# and print out the results\n",
        "print('First Logistic Regression Model')\n",
        "evaluation(test$GoodGrades, predict(log1, test, type = 'response'), 0.90)"
      ]
    },
    {
      "cell_type": "code",
      "execution_count": 40,
      "metadata": {
        "vscode": {
          "languageId": "r"
        }
      },
      "outputs": [
        {
          "name": "stdout",
          "output_type": "stream",
          "text": [
            "[1] \"Second Logistic Regression Model\"\n",
            "------------------------------------------------------------\n",
            "Performance statistics:\n",
            "\n",
            "Confusion matrix:\n",
            "\n",
            "         actual\n",
            "predicted  No Yes\n",
            "      No  597  18\n",
            "      Yes  19  78\n",
            "\n",
            "Accuracy  = 0.9480337 \n",
            "Precision = 0.8041237 \n",
            "Recall    = 0.8125 \n",
            "F1-score  = 0.8082902 \n",
            "\n"
          ]
        },
        {
          "name": "stderr",
          "output_type": "stream",
          "text": [
            "Setting levels: control = No, case = Yes\n",
            "\n",
            "Setting direction: controls < cases\n",
            "\n"
          ]
        },
        {
          "name": "stdout",
          "output_type": "stream",
          "text": [
            "AUC = 0.981737 \n",
            "------------------------------------------------------------"
          ]
        },
        {
          "data": {
            "image/png": "[encoded data removed]",
            "text/plain": [
              "Plot with title \"ROC Curve\""
            ]
          },
          "metadata": {
            "image/png": {
              "height": 400,
              "width": 400
            }
          },
          "output_type": "display_data"
        }
      ],
      "source": [
        "# Re-valuate the second Logistic Regression model\n",
        "# and print out the results\n",
        "print('Second Logistic Regression Model')\n",
        "evaluation(test$GoodGrades, predict(log2, test, type = 'response'), 0.90)"
      ]
    },
    {
      "cell_type": "code",
      "execution_count": 41,
      "metadata": {
        "vscode": {
          "languageId": "r"
        }
      },
      "outputs": [
        {
          "name": "stdout",
          "output_type": "stream",
          "text": [
            "[1] \"Third Logistic Regression Model\"\n",
            "------------------------------------------------------------\n",
            "Performance statistics:\n",
            "\n",
            "Confusion matrix:\n",
            "\n",
            "         actual\n",
            "predicted  No Yes\n",
            "      No  598  20\n",
            "      Yes  18  76\n",
            "\n",
            "Accuracy  = 0.9466292 \n",
            "Precision = 0.8085106 \n",
            "Recall    = 0.7916667 \n",
            "F1-score  = 0.8 \n",
            "\n"
          ]
        },
        {
          "name": "stderr",
          "output_type": "stream",
          "text": [
            "Setting levels: control = No, case = Yes\n",
            "\n",
            "Setting direction: controls < cases\n",
            "\n"
          ]
        },
        {
          "name": "stdout",
          "output_type": "stream",
          "text": [
            "AUC = 0.9828193 \n",
            "------------------------------------------------------------"
          ]
        },
        {
          "data": {
            "image/png": "[encoded data removed]",
            "text/plain": [
              "Plot with title \"ROC Curve\""
            ]
          },
          "metadata": {
            "image/png": {
              "height": 400,
              "width": 400
            }
          },
          "output_type": "display_data"
        }
      ],
      "source": [
        "# Re-valuate the third Logistic Regression model\n",
        "# and print out the results\n",
        "print('Third Logistic Regression Model')\n",
        "evaluation(test$GoodGrades, predict(log3, test, type = 'response'), 0.90)"
      ]
    },
    {
      "cell_type": "markdown",
      "metadata": {},
      "source": [
        "**Summary of Re-Evaluation Metrics from Logistic Regression Models**\n",
        "\n",
        "|          |  log1  |  log2  |  log3  |\n",
        "|--------- | ------ | ------ | ------ |\n",
        "|Accuracy  | 0.9536 | 0.9480 | 0.9466 |\n",
        "|Precision | 0.8247 | 0.8041 | 0.8085 |\n",
        "|Recall    | 0.8333 | 0.8125 | 0.7917 |\n",
        "|F1 Score  | 0.8290 | 0.8083 | 0.8000 |\n",
        "|AUC-ROC   | 0.9837 | 0.9817 | 0.9828 |"
      ]
    },
    {
      "cell_type": "markdown",
      "metadata": {},
      "source": [
        "**Observations:**\n",
        "- From the summary, it can be seen that there are **some improvements in the Accuracy, Precision, and F1 Score** of the models after changing the threshold value. Note that the Recall score decreases due to the Precision-Recall trade-off.\n",
        "- Overall, the comparison is still the same as the **first Logistic Regression model** has the best performance."
      ]
    },
    {
      "cell_type": "markdown",
      "metadata": {},
      "source": [
        "#### 5.1.2. Linear Discriminant Analysis (LDA)"
      ]
    },
    {
      "cell_type": "markdown",
      "metadata": {},
      "source": [
        "##### 5.1.2.1. Model Summary"
      ]
    },
    {
      "cell_type": "code",
      "execution_count": 42,
      "metadata": {
        "vscode": {
          "languageId": "r"
        }
      },
      "outputs": [
        {
          "data": {
            "text/plain": [
              "Call:\n",
              "lda(GoodGrades ~ . - NoOfActivities, data = train)\n",
              "\n",
              "Prior probabilities of groups:\n",
              " No Yes \n",
              "0.5 0.5 \n",
              "\n",
              "Group means:\n",
              "    StudyTimeWeekly  Absences TutoringYes ParentalSupportLow\n",
              "No         9.473919 16.370396   0.2772759          0.2230716\n",
              "Yes       11.810039  2.773818   0.4656011          0.1139680\n",
              "    ParentalSupportModerate ParentalSupportHigh ParentalSupportVery High\n",
              "No                0.3175817           0.2772759               0.09034051\n",
              "Yes               0.3537179           0.3898541               0.13203614\n",
              "    ExtracurricularYes SportsYes  MusicYes\n",
              "No           0.3662265 0.2988186 0.1869354\n",
              "Yes          0.4016678 0.3523280 0.2682418\n",
              "\n",
              "Coefficients of linear discriminants:\n",
              "                                 LD1\n",
              "StudyTimeWeekly           0.06199651\n",
              "Absences                 -0.17786078\n",
              "TutoringYes               0.57822404\n",
              "ParentalSupportLow        0.54382147\n",
              "ParentalSupportModerate   0.95502357\n",
              "ParentalSupportHigh       1.16559964\n",
              "ParentalSupportVery High  1.14244213\n",
              "ExtracurricularYes        0.24188203\n",
              "SportsYes                 0.36652156\n",
              "MusicYes                  0.33456098"
            ]
          },
          "metadata": {},
          "output_type": "display_data"
        },
        {
          "data": {
            "image/png": "[encoded data removed]",
            "text/plain": [
              "plot without title"
            ]
          },
          "metadata": {
            "image/png": {
              "height": 400,
              "width": 400
            }
          },
          "output_type": "display_data"
        }
      ],
      "source": [
        "# Print out the summary of the first LDA model\n",
        "lda1\n",
        "\n",
        "# Plot each class' distribution\n",
        "plot(lda1)"
      ]
    },
    {
      "cell_type": "markdown",
      "metadata": {},
      "source": [
        "**Observation:**\n",
        "- The coefficients show that out of all the predictors, **only `Absences` has a negative relationship** with the output. This also aligns with the previous analysis.\n",
        "- From the distribution, it can be seen that there is **a little overlap** between the tail end of the \"No\" class with the \"Yes\" class. This may indicate that the model **cannot fully distinguishing the labels**, potentially leading to not a flawless result."
      ]
    },
    {
      "cell_type": "code",
      "execution_count": 43,
      "metadata": {
        "vscode": {
          "languageId": "r"
        }
      },
      "outputs": [
        {
          "data": {
            "text/plain": [
              "Call:\n",
              "lda(GoodGrades ~ . - NoOfActivities + Extracurricular * Sports * \n",
              "    Music, data = train)\n",
              "\n",
              "Prior probabilities of groups:\n",
              " No Yes \n",
              "0.5 0.5 \n",
              "\n",
              "Group means:\n",
              "    StudyTimeWeekly  Absences TutoringYes ParentalSupportLow\n",
              "No         9.473919 16.370396   0.2772759          0.2230716\n",
              "Yes       11.810039  2.773818   0.4656011          0.1139680\n",
              "    ParentalSupportModerate ParentalSupportHigh ParentalSupportVery High\n",
              "No                0.3175817           0.2772759               0.09034051\n",
              "Yes               0.3537179           0.3898541               0.13203614\n",
              "    ExtracurricularYes SportsYes  MusicYes ExtracurricularYes:SportsYes\n",
              "No           0.3662265 0.2988186 0.1869354                    0.1063238\n",
              "Yes          0.4016678 0.3523280 0.2682418                    0.1000695\n",
              "    ExtracurricularYes:MusicYes SportsYes:MusicYes\n",
              "No                   0.07435719         0.05628909\n",
              "Yes                  0.07644197         0.09451008\n",
              "    ExtracurricularYes:SportsYes:MusicYes\n",
              "No                             0.02223767\n",
              "Yes                            0.01111883\n",
              "\n",
              "Coefficients of linear discriminants:\n",
              "                                              LD1\n",
              "StudyTimeWeekly                        0.06212962\n",
              "Absences                              -0.17726690\n",
              "TutoringYes                            0.58000168\n",
              "ParentalSupportLow                     0.54201055\n",
              "ParentalSupportModerate                0.94754849\n",
              "ParentalSupportHigh                    1.16596903\n",
              "ParentalSupportVery High               1.15125835\n",
              "ExtracurricularYes                     0.31717901\n",
              "SportsYes                              0.37550077\n",
              "MusicYes                               0.30138290\n",
              "ExtracurricularYes:SportsYes          -0.13269032\n",
              "ExtracurricularYes:MusicYes           -0.06159906\n",
              "SportsYes:MusicYes                     0.24591166\n",
              "ExtracurricularYes:SportsYes:MusicYes -0.35561403"
            ]
          },
          "metadata": {},
          "output_type": "display_data"
        },
        {
          "data": {
            "image/png": "[encoded data removed]",
            "text/plain": [
              "plot without title"
            ]
          },
          "metadata": {
            "image/png": {
              "height": 400,
              "width": 400
            }
          },
          "output_type": "display_data"
        }
      ],
      "source": [
        "# Print out the summary of the first LDA model\n",
        "lda2\n",
        "\n",
        "# Plot each class' distribution\n",
        "plot(lda2)"
      ]
    },
    {
      "cell_type": "markdown",
      "metadata": {},
      "source": [
        "**Observation:**\n",
        "- Other than `Absences`, **all interaction predictors exhibit a negative relationship** with the output. This indicates that engaging in two or more activities may negatively impact on a student's academic performance.\n",
        "- From the distribution, it is apparent that **there is also a little overlap**, thus potentially reducing the performance score."
      ]
    },
    {
      "cell_type": "code",
      "execution_count": 44,
      "metadata": {
        "vscode": {
          "languageId": "r"
        }
      },
      "outputs": [
        {
          "data": {
            "text/plain": [
              "Call:\n",
              "lda(GoodGrades ~ . - Extracurricular - Sports - Music, data = train)\n",
              "\n",
              "Prior probabilities of groups:\n",
              " No Yes \n",
              "0.5 0.5 \n",
              "\n",
              "Group means:\n",
              "    StudyTimeWeekly  Absences TutoringYes ParentalSupportLow\n",
              "No         9.473919 16.370396   0.2772759          0.2230716\n",
              "Yes       11.810039  2.773818   0.4656011          0.1139680\n",
              "    ParentalSupportModerate ParentalSupportHigh ParentalSupportVery High\n",
              "No                0.3175817           0.2772759               0.09034051\n",
              "Yes               0.3537179           0.3898541               0.13203614\n",
              "    NoOfActivities\n",
              "No       0.8519805\n",
              "Yes      1.0222377\n",
              "\n",
              "Coefficients of linear discriminants:\n",
              "                                 LD1\n",
              "StudyTimeWeekly           0.06175986\n",
              "Absences                 -0.17783238\n",
              "TutoringYes               0.57550761\n",
              "ParentalSupportLow        0.54592792\n",
              "ParentalSupportModerate   0.96215848\n",
              "ParentalSupportHigh       1.16678274\n",
              "ParentalSupportVery High  1.15287853\n",
              "NoOfActivities            0.31257632"
            ]
          },
          "metadata": {},
          "output_type": "display_data"
        },
        {
          "data": {
            "image/png": "[encoded data removed]",
            "text/plain": [
              "plot without title"
            ]
          },
          "metadata": {
            "image/png": {
              "height": 400,
              "width": 400
            }
          },
          "output_type": "display_data"
        }
      ],
      "source": [
        "# Print out the summary of the third LDA model\n",
        "lda3\n",
        "\n",
        "# Plot each class' distribution\n",
        "plot(lda3)"
      ]
    },
    {
      "cell_type": "markdown",
      "metadata": {},
      "source": [
        "**Observation:**\n",
        "- There are no other predictors aside from `Absences` that has a negative relationship with the output.\n",
        "- From the distribution, it is apparent that **there is also a little overlap**, thus potentially reducing the performance score."
      ]
    },
    {
      "cell_type": "markdown",
      "metadata": {},
      "source": [
        "##### 5.1.2.2. Evaluation Results"
      ]
    },
    {
      "cell_type": "code",
      "execution_count": 45,
      "metadata": {
        "vscode": {
          "languageId": "r"
        }
      },
      "outputs": [
        {
          "name": "stdout",
          "output_type": "stream",
          "text": [
            "[1] \"The First LDA Model\"\n",
            "------------------------------------------------------------\n",
            "Performance statistics:\n",
            "\n",
            "Confusion matrix:\n",
            "\n",
            "         actual\n",
            "predicted  No Yes\n",
            "      No  583   8\n",
            "      Yes  33  88\n",
            "\n",
            "Accuracy  = 0.9424157 \n",
            "Precision = 0.7272727 \n",
            "Recall    = 0.9166667 \n",
            "F1-score  = 0.8110599 \n",
            "\n"
          ]
        },
        {
          "name": "stderr",
          "output_type": "stream",
          "text": [
            "Setting levels: control = No, case = Yes\n",
            "\n",
            "Setting direction: controls < cases\n",
            "\n"
          ]
        },
        {
          "name": "stdout",
          "output_type": "stream",
          "text": [
            "AUC = 0.9802658 \n",
            "------------------------------------------------------------"
          ]
        },
        {
          "data": {
            "image/png": "[encoded data removed]",
            "text/plain": [
              "Plot with title \"ROC Curve\""
            ]
          },
          "metadata": {
            "image/png": {
              "height": 400,
              "width": 400
            }
          },
          "output_type": "display_data"
        }
      ],
      "source": [
        "# Evaluate the first LDA model and print out the results\n",
        "print('The First LDA Model')\n",
        "evaluation(test$GoodGrades, predict(lda1, test)$posterior[, 'Yes'], 0.9)"
      ]
    },
    {
      "cell_type": "code",
      "execution_count": 46,
      "metadata": {
        "vscode": {
          "languageId": "r"
        }
      },
      "outputs": [
        {
          "name": "stdout",
          "output_type": "stream",
          "text": [
            "[1] \"The Second LDA Model\"\n",
            "------------------------------------------------------------\n",
            "Performance statistics:\n",
            "\n",
            "Confusion matrix:\n",
            "\n",
            "         actual\n",
            "predicted  No Yes\n",
            "      No  583  11\n",
            "      Yes  33  85\n",
            "\n",
            "Accuracy  = 0.9382022 \n",
            "Precision = 0.720339 \n",
            "Recall    = 0.8854167 \n",
            "F1-score  = 0.7943925 \n",
            "\n"
          ]
        },
        {
          "name": "stderr",
          "output_type": "stream",
          "text": [
            "Setting levels: control = No, case = Yes\n",
            "\n",
            "Setting direction: controls < cases\n",
            "\n"
          ]
        },
        {
          "name": "stdout",
          "output_type": "stream",
          "text": [
            "AUC = 0.978913 \n",
            "------------------------------------------------------------"
          ]
        },
        {
          "data": {
            "image/png": "[encoded data removed]",
            "text/plain": [
              "Plot with title \"ROC Curve\""
            ]
          },
          "metadata": {
            "image/png": {
              "height": 400,
              "width": 400
            }
          },
          "output_type": "display_data"
        }
      ],
      "source": [
        "# Evaluate the second LDA model and print out the results\n",
        "print('The Second LDA Model')\n",
        "evaluation(test$GoodGrades, predict(lda2, test)$posterior[, 'Yes'], 0.9)"
      ]
    },
    {
      "cell_type": "code",
      "execution_count": 47,
      "metadata": {
        "vscode": {
          "languageId": "r"
        }
      },
      "outputs": [
        {
          "name": "stdout",
          "output_type": "stream",
          "text": [
            "[1] \"The Third LDA Model\"\n",
            "------------------------------------------------------------\n",
            "Performance statistics:\n",
            "\n",
            "Confusion matrix:\n",
            "\n",
            "         actual\n",
            "predicted  No Yes\n",
            "      No  582   8\n",
            "      Yes  34  88\n",
            "\n",
            "Accuracy  = 0.9410112 \n",
            "Precision = 0.7213115 \n",
            "Recall    = 0.9166667 \n",
            "F1-score  = 0.8073394 \n",
            "\n"
          ]
        },
        {
          "name": "stderr",
          "output_type": "stream",
          "text": [
            "Setting levels: control = No, case = Yes\n",
            "\n",
            "Setting direction: controls < cases\n",
            "\n"
          ]
        },
        {
          "name": "stdout",
          "output_type": "stream",
          "text": [
            "AUC = 0.9809084 \n",
            "------------------------------------------------------------"
          ]
        },
        {
          "data": {
            "image/png": "[encoded data removed]",
            "text/plain": [
              "Plot with title \"ROC Curve\""
            ]
          },
          "metadata": {
            "image/png": {
              "height": 400,
              "width": 400
            }
          },
          "output_type": "display_data"
        }
      ],
      "source": [
        "# Evaluate the third LDA model and print out the results\n",
        "print('The Third LDA Model')\n",
        "evaluation(test$GoodGrades, predict(lda3, test)$posterior[, 'Yes'], 0.9)"
      ]
    },
    {
      "cell_type": "markdown",
      "metadata": {},
      "source": [
        "**Summary of Evaluation Metrics from Linear Discriminant Analysis (LDA) Models**\n",
        "\n",
        "|          |  lda1  |  lda2  |  lda3  |\n",
        "|--------- | ------ | ------ | ------ |\n",
        "|Accuracy  | 0.9424 | 0.9382 | 0.9410 |\n",
        "|Precision | 0.7272 | 0.7203 | 0.7213 |\n",
        "|Recall    | 0.9167 | 0.8854 | 0.9167 |\n",
        "|F1 Score  | 0.8110 | 0.7944 | 0.8073 |\n",
        "|AUC-ROC   | 0.9803 | 0.9789 | 0.9809 |"
      ]
    },
    {
      "cell_type": "markdown",
      "metadata": {},
      "source": [
        "**Observations:**\n",
        "- From the summary above, overall, it is evident that **both the first models show the best performance**. Therefore, for the LDA model, it is also best to use the extracurricular activities as individual predictors, while adding interaction terms or using an aggregate of number of activities do not improve the model's performance.\n",
        "- Note that the overall performance is slighly lower than the Logistic Regression. This might happen because overlap between the positive class distribution and the tail end of the negative class distribution may leads to the models **struggling to correctly distinguish the positive class** when the data is located **around the overlap**."
      ]
    },
    {
      "cell_type": "markdown",
      "metadata": {},
      "source": [
        "#### 5.1.3. Quadratic Discriminant Analysis (QDA)"
      ]
    },
    {
      "cell_type": "markdown",
      "metadata": {},
      "source": [
        "##### 5.1.3.1. Model Summary"
      ]
    },
    {
      "cell_type": "code",
      "execution_count": 48,
      "metadata": {
        "id": "eorMq09E8S7u",
        "vscode": {
          "languageId": "r"
        }
      },
      "outputs": [
        {
          "data": {
            "text/plain": [
              "Call:\n",
              "qda(GoodGrades ~ . - NoOfActivities, data = train)\n",
              "\n",
              "Prior probabilities of groups:\n",
              " No Yes \n",
              "0.5 0.5 \n",
              "\n",
              "Group means:\n",
              "    StudyTimeWeekly  Absences TutoringYes ParentalSupportLow\n",
              "No         9.473919 16.370396   0.2772759          0.2230716\n",
              "Yes       11.810039  2.773818   0.4656011          0.1139680\n",
              "    ParentalSupportModerate ParentalSupportHigh ParentalSupportVery High\n",
              "No                0.3175817           0.2772759               0.09034051\n",
              "Yes               0.3537179           0.3898541               0.13203614\n",
              "    ExtracurricularYes SportsYes  MusicYes\n",
              "No           0.3662265 0.2988186 0.1869354\n",
              "Yes          0.4016678 0.3523280 0.2682418"
            ]
          },
          "metadata": {},
          "output_type": "display_data"
        }
      ],
      "source": [
        "# Print out the first QDA model summary\n",
        "qda1"
      ]
    },
    {
      "cell_type": "code",
      "execution_count": 49,
      "metadata": {
        "vscode": {
          "languageId": "r"
        }
      },
      "outputs": [
        {
          "data": {
            "text/plain": [
              "Call:\n",
              "qda(GoodGrades ~ . - NoOfActivities + Extracurricular * Sports * \n",
              "    Music, data = train)\n",
              "\n",
              "Prior probabilities of groups:\n",
              " No Yes \n",
              "0.5 0.5 \n",
              "\n",
              "Group means:\n",
              "    StudyTimeWeekly  Absences TutoringYes ParentalSupportLow\n",
              "No         9.473919 16.370396   0.2772759          0.2230716\n",
              "Yes       11.810039  2.773818   0.4656011          0.1139680\n",
              "    ParentalSupportModerate ParentalSupportHigh ParentalSupportVery High\n",
              "No                0.3175817           0.2772759               0.09034051\n",
              "Yes               0.3537179           0.3898541               0.13203614\n",
              "    ExtracurricularYes SportsYes  MusicYes ExtracurricularYes:SportsYes\n",
              "No           0.3662265 0.2988186 0.1869354                    0.1063238\n",
              "Yes          0.4016678 0.3523280 0.2682418                    0.1000695\n",
              "    ExtracurricularYes:MusicYes SportsYes:MusicYes\n",
              "No                   0.07435719         0.05628909\n",
              "Yes                  0.07644197         0.09451008\n",
              "    ExtracurricularYes:SportsYes:MusicYes\n",
              "No                             0.02223767\n",
              "Yes                            0.01111883"
            ]
          },
          "metadata": {},
          "output_type": "display_data"
        }
      ],
      "source": [
        "# Print out the second QDA model summary\n",
        "qda2"
      ]
    },
    {
      "cell_type": "code",
      "execution_count": 50,
      "metadata": {
        "vscode": {
          "languageId": "r"
        }
      },
      "outputs": [
        {
          "data": {
            "text/plain": [
              "Call:\n",
              "qda(GoodGrades ~ . - Extracurricular - Sports - Music, data = train)\n",
              "\n",
              "Prior probabilities of groups:\n",
              " No Yes \n",
              "0.5 0.5 \n",
              "\n",
              "Group means:\n",
              "    StudyTimeWeekly  Absences TutoringYes ParentalSupportLow\n",
              "No         9.473919 16.370396   0.2772759          0.2230716\n",
              "Yes       11.810039  2.773818   0.4656011          0.1139680\n",
              "    ParentalSupportModerate ParentalSupportHigh ParentalSupportVery High\n",
              "No                0.3175817           0.2772759               0.09034051\n",
              "Yes               0.3537179           0.3898541               0.13203614\n",
              "    NoOfActivities\n",
              "No       0.8519805\n",
              "Yes      1.0222377"
            ]
          },
          "metadata": {},
          "output_type": "display_data"
        }
      ],
      "source": [
        "# Print out the third QDA model summary\n",
        "qda3"
      ]
    },
    {
      "cell_type": "markdown",
      "metadata": {},
      "source": [
        "##### 5.1.3.2. Evaluation Results"
      ]
    },
    {
      "cell_type": "code",
      "execution_count": 51,
      "metadata": {
        "vscode": {
          "languageId": "r"
        }
      },
      "outputs": [
        {
          "name": "stdout",
          "output_type": "stream",
          "text": [
            "[1] \"The First QDA Model\"\n",
            "------------------------------------------------------------\n",
            "Performance statistics:\n",
            "\n",
            "Confusion matrix:\n",
            "\n",
            "         actual\n",
            "predicted  No Yes\n",
            "      No  591  16\n",
            "      Yes  25  80\n",
            "\n",
            "Accuracy  = 0.9424157 \n",
            "Precision = 0.7619048 \n",
            "Recall    = 0.8333333 \n",
            "F1-score  = 0.7960199 \n",
            "\n"
          ]
        },
        {
          "name": "stderr",
          "output_type": "stream",
          "text": [
            "Setting levels: control = No, case = Yes\n",
            "\n",
            "Setting direction: controls < cases\n",
            "\n"
          ]
        },
        {
          "name": "stdout",
          "output_type": "stream",
          "text": [
            "AUC = 0.9550358 \n",
            "------------------------------------------------------------"
          ]
        },
        {
          "data": {
            "image/png": "[encoded data removed]",
            "text/plain": [
              "Plot with title \"ROC Curve\""
            ]
          },
          "metadata": {
            "image/png": {
              "height": 400,
              "width": 400
            }
          },
          "output_type": "display_data"
        }
      ],
      "source": [
        "# Evaluate the first QDA model and print out the results\n",
        "print('The First QDA Model')\n",
        "evaluation(test$GoodGrades, predict(qda1, test)$posterior[, 'Yes'], 0.9)"
      ]
    },
    {
      "cell_type": "code",
      "execution_count": 52,
      "metadata": {
        "vscode": {
          "languageId": "r"
        }
      },
      "outputs": [
        {
          "name": "stdout",
          "output_type": "stream",
          "text": [
            "[1] \"The Second QDA Model\"\n",
            "------------------------------------------------------------\n",
            "Performance statistics:\n",
            "\n",
            "Confusion matrix:\n",
            "\n",
            "         actual\n",
            "predicted  No Yes\n",
            "      No  586  21\n",
            "      Yes  30  75\n",
            "\n",
            "Accuracy  = 0.9283708 \n",
            "Precision = 0.7142857 \n",
            "Recall    = 0.78125 \n",
            "F1-score  = 0.7462687 \n",
            "\n"
          ]
        },
        {
          "name": "stderr",
          "output_type": "stream",
          "text": [
            "Setting levels: control = No, case = Yes\n",
            "\n",
            "Setting direction: controls < cases\n",
            "\n"
          ]
        },
        {
          "name": "stdout",
          "output_type": "stream",
          "text": [
            "AUC = 0.9391741 \n",
            "------------------------------------------------------------"
          ]
        },
        {
          "data": {
            "image/png": "[encoded data removed]",
            "text/plain": [
              "Plot with title \"ROC Curve\""
            ]
          },
          "metadata": {
            "image/png": {
              "height": 400,
              "width": 400
            }
          },
          "output_type": "display_data"
        }
      ],
      "source": [
        "# Evaluate the second QDA model and print out the results\n",
        "print('The Second QDA Model')\n",
        "evaluation(test$GoodGrades, predict(qda2, test)$posterior[, 'Yes'], 0.9)"
      ]
    },
    {
      "cell_type": "code",
      "execution_count": 53,
      "metadata": {
        "vscode": {
          "languageId": "r"
        }
      },
      "outputs": [
        {
          "name": "stdout",
          "output_type": "stream",
          "text": [
            "[1] \"The Third QDA Model\"\n",
            "------------------------------------------------------------\n",
            "Performance statistics:\n",
            "\n",
            "Confusion matrix:\n",
            "\n",
            "         actual\n",
            "predicted  No Yes\n",
            "      No  590  18\n",
            "      Yes  26  78\n",
            "\n",
            "Accuracy  = 0.9382022 \n",
            "Precision = 0.75 \n",
            "Recall    = 0.8125 \n",
            "F1-score  = 0.78 \n",
            "\n"
          ]
        },
        {
          "name": "stderr",
          "output_type": "stream",
          "text": [
            "Setting levels: control = No, case = Yes\n",
            "\n",
            "Setting direction: controls < cases\n",
            "\n"
          ]
        },
        {
          "name": "stdout",
          "output_type": "stream",
          "text": [
            "AUC = 0.9567269 \n",
            "------------------------------------------------------------"
          ]
        },
        {
          "data": {
            "image/png": "[encoded data removed]",
            "text/plain": [
              "Plot with title \"ROC Curve\""
            ]
          },
          "metadata": {
            "image/png": {
              "height": 400,
              "width": 400
            }
          },
          "output_type": "display_data"
        }
      ],
      "source": [
        "# Evaluate the third QDA model and print out the results\n",
        "print('The Third QDA Model')\n",
        "evaluation(test$GoodGrades, predict(qda3, test)$posterior[, 'Yes'], 0.9)"
      ]
    },
    {
      "cell_type": "markdown",
      "metadata": {},
      "source": [
        "**Summary of All Evaluation Metrics from Quadratic Discriminant Analysis (QDA) Models**\n",
        "\n",
        "|          |  qda1  |  qda2  |  qda3  |\n",
        "|--------- | ------ | ------ | ------ |\n",
        "|Accuracy  | 0.9424 | 0.9284 | 0.9382 |\n",
        "|Precision | 0.7619 | 0.7143 | 0.7500 |\n",
        "|Recall    | 0.8333 | 0.7812 | 0.8125 |\n",
        "|F1 Score  | 0.7960 | 0.7463 | 0.7800 |\n",
        "|AUC-ROC   | 0.9550 | 0.9392 | 0.9567 |"
      ]
    },
    {
      "cell_type": "markdown",
      "metadata": {},
      "source": [
        "**Observations:**\n",
        "- From the summary above, overall, **the first model exhibit the best performance**. This suggests that, for the QDA model, using the extracurricular activities as individual predictors gives a slightly better results.\n",
        "- Interestingly, the overall performance of the QDA models is also slightly lower than the LDA models. This might happen because the QDA models are **more complex** than the LDA models, potentially leading to an **overfitting** case."
      ]
    },
    {
      "cell_type": "markdown",
      "metadata": {},
      "source": [
        "### 5.1.4. Choosing the Best Model"
      ]
    },
    {
      "cell_type": "markdown",
      "metadata": {},
      "source": [
        "**Summary of Evaluation Metrics from All Models**\n",
        "\n",
        "|          |  log1  |  log2  |  log3  |  lda1  |  lda2  |  lda3  |  qda1  |  qda2  |  qda3  |\n",
        "|--------- | ------ | ------ | ------ | ------ | ------ | ------ | ------ | ------ | ------ |\n",
        "|Accuracy  | 0.9536 | 0.9480 | 0.9466 | 0.9424 | 0.9382 | 0.9410 | 0.9424 | 0.9284 | 0.9382 |\n",
        "|Precision | 0.8247 | 0.8041 | 0.8085 | 0.7272 | 0.7203 | 0.7213 | 0.7619 | 0.7143 | 0.7500 |\n",
        "|Recall    | 0.8333 | 0.8125 | 0.7917 | 0.9896 | 0.9167 | 0.8854 | 0.9167 | 0.7812 | 0.8125 |\n",
        "|F1 Score  | 0.8290 | 0.8083 | 0.8000 | 0.8110 | 0.7944 | 0.8073 | 0.7960 | 0.7463 | 0.7800 |\n",
        "|AUC-ROC   | 0.9837 | 0.9817 | 0.9828 | 0.9803 | 0.9789 | 0.9809 | 0.9550 | 0.9392 | 0.9567 |"
      ]
    },
    {
      "cell_type": "markdown",
      "metadata": {},
      "source": [
        "From the above comparison, it is clear that the best model is **the first Logistric Regression model**, in which we use the extracurricural activities as individual predictors. In this case, it can also be observed that overall, **Logistic Regression gives a slightly better results than LDA and QDA models**. This might happen because in LDA and QDA case, the distribution of the two classes of the target variable are **not completely separable**, thus making the model cannot distinguish between those two classes well."
      ]
    },
    {
      "cell_type": "markdown",
      "metadata": {},
      "source": [
        "## 5.2. Inference Task"
      ]
    },
    {
      "cell_type": "markdown",
      "metadata": {},
      "source": [
        "### 5.2.1. Variance Inflation Factors (VIF)"
      ]
    },
    {
      "cell_type": "markdown",
      "metadata": {},
      "source": [
        "Variance Inflation Factors (VIF) measures the **ratio of the variance** of the predictor's coefficient when **fitting the full model with if fit on its own**. The smallest possible value is 1, which indicates that there is no colinearity between the predictor with the remaining predictors. To calculate this, we can use the `vif()` function from the `car` library."
      ]
    },
    {
      "cell_type": "code",
      "execution_count": 54,
      "metadata": {
        "vscode": {
          "languageId": "r"
        }
      },
      "outputs": [
        {
          "data": {
            "text/html": [
              "<table class=\"dataframe\">\n",
              "<caption>A matrix: 7 × 3 of type dbl</caption>\n",
              "<thead>\n",
              "\t<tr><th></th><th scope=col>GVIF</th><th scope=col>Df</th><th scope=col>GVIF^(1/(2*Df))</th></tr>\n",
              "</thead>\n",
              "<tbody>\n",
              "\t<tr><th scope=row>StudyTimeWeekly</th><td>1.860423</td><td>1</td><td>1.363973</td></tr>\n",
              "\t<tr><th scope=row>Absences</th><td>2.955224</td><td>1</td><td>1.719076</td></tr>\n",
              "\t<tr><th scope=row>Tutoring</th><td>1.755282</td><td>1</td><td>1.324871</td></tr>\n",
              "\t<tr><th scope=row>ParentalSupport</th><td>1.859430</td><td>4</td><td>1.080619</td></tr>\n",
              "\t<tr><th scope=row>Extracurricular</th><td>1.298444</td><td>1</td><td>1.139493</td></tr>\n",
              "\t<tr><th scope=row>Sports</th><td>1.442456</td><td>1</td><td>1.201023</td></tr>\n",
              "\t<tr><th scope=row>Music</th><td>1.095617</td><td>1</td><td>1.046717</td></tr>\n",
              "</tbody>\n",
              "</table>\n"
            ],
            "text/latex": [
              "A matrix: 7 × 3 of type dbl\n",
              "\\begin{tabular}{r|lll}\n",
              "  & GVIF & Df & GVIF\\textasciicircum{}(1/(2*Df))\\\\\n",
              "\\hline\n",
              "\tStudyTimeWeekly & 1.860423 & 1 & 1.363973\\\\\n",
              "\tAbsences & 2.955224 & 1 & 1.719076\\\\\n",
              "\tTutoring & 1.755282 & 1 & 1.324871\\\\\n",
              "\tParentalSupport & 1.859430 & 4 & 1.080619\\\\\n",
              "\tExtracurricular & 1.298444 & 1 & 1.139493\\\\\n",
              "\tSports & 1.442456 & 1 & 1.201023\\\\\n",
              "\tMusic & 1.095617 & 1 & 1.046717\\\\\n",
              "\\end{tabular}\n"
            ],
            "text/markdown": [
              "\n",
              "A matrix: 7 × 3 of type dbl\n",
              "\n",
              "| <!--/--> | GVIF | Df | GVIF^(1/(2*Df)) |\n",
              "|---|---|---|---|\n",
              "| StudyTimeWeekly | 1.860423 | 1 | 1.363973 |\n",
              "| Absences | 2.955224 | 1 | 1.719076 |\n",
              "| Tutoring | 1.755282 | 1 | 1.324871 |\n",
              "| ParentalSupport | 1.859430 | 4 | 1.080619 |\n",
              "| Extracurricular | 1.298444 | 1 | 1.139493 |\n",
              "| Sports | 1.442456 | 1 | 1.201023 |\n",
              "| Music | 1.095617 | 1 | 1.046717 |\n",
              "\n"
            ],
            "text/plain": [
              "                GVIF     Df GVIF^(1/(2*Df))\n",
              "StudyTimeWeekly 1.860423 1  1.363973       \n",
              "Absences        2.955224 1  1.719076       \n",
              "Tutoring        1.755282 1  1.324871       \n",
              "ParentalSupport 1.859430 4  1.080619       \n",
              "Extracurricular 1.298444 1  1.139493       \n",
              "Sports          1.442456 1  1.201023       \n",
              "Music           1.095617 1  1.046717       "
            ]
          },
          "metadata": {},
          "output_type": "display_data"
        }
      ],
      "source": [
        "# Print out the VIF score for the best model\n",
        "vif(log1)"
      ]
    },
    {
      "cell_type": "markdown",
      "metadata": {},
      "source": [
        "From the above results, it is apparent that the VIF for all predictors are **near 1**, thus there is **no evidence of colinearity** between the predictors."
      ]
    },
    {
      "cell_type": "markdown",
      "metadata": {},
      "source": [
        "### 5.2.2. Variable Importance"
      ]
    },
    {
      "cell_type": "markdown",
      "metadata": {},
      "source": [
        "The next step in the inference task is to find out which predictor has the **greatest influence on the prediction outcome** from the best model.\n",
        "\n",
        "In R, we can just simply print out the variable importance using `varImp()` function from the `caret` library."
      ]
    },
    {
      "cell_type": "code",
      "execution_count": 55,
      "metadata": {
        "vscode": {
          "languageId": "r"
        }
      },
      "outputs": [
        {
          "data": {
            "image/png": "[encoded data removed]",
            "text/plain": [
              "plot without title"
            ]
          },
          "metadata": {
            "image/png": {
              "height": 400,
              "width": 800
            }
          },
          "output_type": "display_data"
        }
      ],
      "source": [
        "# Adjust the size of the figure\n",
        "options(repr.plot.width = 16, repr.plot.height = 8, repr.plot.res = 100)\n",
        "\n",
        "# Check the variable importance in the best model\n",
        "# Then, use visualisation (in this case a lollipop chart) to help the analysis\n",
        "varImp(log1) %>%\n",
        "  arrange(Overall) %>%\n",
        "  mutate(Name = factor(rownames(.), levels = rownames(.))) %>%\n",
        "  ggplot(aes(x = Name, y = Overall)) +\n",
        "    geom_segment(aes(xend = Name, yend = 0)) +\n",
        "    geom_point(size = 5, color=\"red\") +\n",
        "    coord_flip() +\n",
        "    xlab(\"\") +\n",
        "    theme(text = element_text(size = 20))"
      ]
    },
    {
      "cell_type": "markdown",
      "metadata": {},
      "source": [
        "From the above chart, it can be seen that the **top 3 factors** that may influence a student's academic performance are: **`Absences` (leading with a large margin), `StudyTimeWeekly`, and `Tutoring`**.\n",
        "\n",
        "This result may occur because:\n",
        "- **`Absences`:** frequent absences can create **gaps in knowledge and understanding** that severely affecting their grades. In addition, a high number of absences may also indicate a lack of commitment of the student to study, as student who miss classes regularly may not be serious about their academic life.\n",
        "- **`StudyTimeWeekly`:** the ammount of time a student spends for studying is of course directly correlated with their academic performance. **More time to study typically allow for better preparation and understanding** on the course material, which can lead to improved grades. Moreover, it can also be used as a measurement for how serious they are about their study.\n",
        "- **`Tutoring`:** having a tutor can **sigificantly enhance a student's study quality** by providing a personalized assistance and support. This help can lead to a better academic comprehension by addressing specific learning needs, which help **improving their comprehension**.\n",
        "\n",
        "These factors have a significant effect on the prediction result as they can **directly influence** a student's learning process and **measure how serious** they are regarding their study and academic success."
      ]
    },
    {
      "cell_type": "markdown",
      "metadata": {},
      "source": [
        "----"
      ]
    },
    {
      "cell_type": "markdown",
      "metadata": {
        "id": "PqHruCVg8S7u"
      },
      "source": [
        "## 6. Conclusion<a class=\"anchor\" id=\"sec_7\"></a>"
      ]
    },
    {
      "cell_type": "markdown",
      "metadata": {},
      "source": [
        "The best classfication model that can be used to predict whether a student will achieve a good academic performance or not is a **Logistic Regression model**. The Logistic Regression model has better performances compared to the Discriminant Analysis models due to the distribution of the two classes have overlaps, thus making it hard to distinguish between the classes. \n",
        "\n",
        "The final model uses the student's study habit, parental involvement level, and what extracurricural activities are they participating in as the predictors, in which the **most important predictors** are:\n",
        "- Number of absences during school year (by a large margin)\n",
        "- Average time spent for studying each week\n",
        "- Whether or not they have a tutor\n",
        "\n",
        "Interestingly, all three factors are related to **the student's study habit**. Therefore, a student's study habit is really crucial to their academic results.\n",
        "\n",
        "Lastly, the **final model** can be formulated as:\n",
        "$$\n",
        "Pr(GoodGrades=\"Yes\")=-5.26+0.35*StudyTimeWeekly-1.23*Absences+3.49*Tutoring\\\\\n",
        "+3.92*ParentalSupportLow+5.17*ParentalSupportModerate\\\\\n",
        "+6.72*ParentalSupportHigh+8.10*ParentalSupportVeryHigh\\\\\n",
        "+1.74*Extracurricular+2.72*Sports+1.66*Music\n",
        "$$"
      ]
    },
    {
      "cell_type": "markdown",
      "metadata": {},
      "source": [
        "----"
      ]
    },
    {
      "cell_type": "markdown",
      "metadata": {
        "id": "q5nQqhbU8S7u"
      },
      "source": [
        "## 7. References <a class=\"anchor\" id=\"sec_8\"></a>"
      ]
    },
    {
      "cell_type": "markdown",
      "metadata": {},
      "source": [
        "- Abdulghani, A.-S. (2014, January). The Importance of Education. ResearchGate. https://www.researchgate.net/publication/260075970_The_Importance_of_Education \n",
        "- Apply SMOTENC algorithm. R. (n.d.). https://search.r-project.org/CRAN/refmans/themis/html/step_smotenc.html \n",
        "- England, G. (2019, May 22). How important are good grades to employers?. myView. https://www.myview.co.nz/how-important-are-good-grades/ \n",
        "- Huilgol, P. (2024, January 15). Accuracy vs. F1-score. Medium. https://medium.com/analytics-vidhya/accuracy-vs-f1-score-6258237beca2 \n",
        "- Imbalanced dataset: Train/Test Split Before and after smote. Data Science Stack Exchange. (2021, November 24). https://datascience.stackexchange.com/questions/104428/imbalanced-dataset-train-test-split-before-and-after-smote \n",
        "- James, G., Witten, D., Hastie, T., Tibshirani, R., & Taylor, J. (2023). An introduction to statistical learning: With applications in Python. Springer. \n",
        "- Kharoua, R. E. (2024, June 12). 📚 students performance dataset 📚. Kaggle. https://www.kaggle.com/datasets/rabieelkharoua/students-performance-dataset \n",
        "- Maklin, C. (2022, May 14). Synthetic minority over-sampling technique (smote). Medium. https://medium.com/@corymaklin/synthetic-minority-over-sampling-technique-smote-7d419696b88c \n",
        "- Narkhede, S. (2021, June 15). Understanding AUC - roc curve. Medium. https://towardsdatascience.com/understanding-auc-roc-curve-68b2303cc9c5 \n",
        "- R Lab: Logistic Regression, LDA, QDA, and KNN. RPubs. (n.d.). https://rpubs.com/uky994/600156 \n",
        "- Weinstein, B. (2023, June 27). Average GPA for college: A Collegeadvisor Guide to GPA requirements. CollegeAdvisor. https://www.collegeadvisor.com/resources/average-gpa-for-college/ "
      ]
    }
  ],
  "metadata": {
    "colab": {
      "provenance": []
    },
    "kernelspec": {
      "display_name": "R",
      "language": "R",
      "name": "ir"
    },
    "language_info": {
      "codemirror_mode": "r",
      "file_extension": ".r",
      "mimetype": "text/x-r-source",
      "name": "R",
      "pygments_lexer": "r",
      "version": "4.2.3"
    }
  },
  "nbformat": 4,
  "nbformat_minor": 0
}
