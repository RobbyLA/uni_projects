{
  "cells": [
    {
      "cell_type": "markdown",
      "metadata": {
        "id": "LjOO0u7igj-q"
      },
      "source": [
        "# Header\n",
        "- **Created by    :** Robby Lysander Aurelio\n",
        "- **Creation date :** September 13, 2024"
      ]
    },
    {
      "cell_type": "code",
      "execution_count": 1,
      "metadata": {
        "id": "oWz9a57Ag19_"
      },
      "outputs": [],
      "source": [
        "# !pip install scikit-surprise\n",
        "# !pip install torch"
      ]
    },
    {
      "cell_type": "code",
      "execution_count": 2,
      "metadata": {
        "id": "Mmt9Bhsbg0eC"
      },
      "outputs": [],
      "source": [
        "# Load all the necessary libraries\n",
        "import pandas as pd\n",
        "import numpy as np\n",
        "import random\n",
        "from surprise import Reader, Dataset, SVD, KNNWithMeans\n",
        "from surprise.model_selection import cross_validate\n",
        "import torch\n",
        "import torch.nn as nn\n",
        "import torch.nn.functional as F\n",
        "import gc\n",
        "from sklearn.feature_extraction.text import TfidfVectorizer"
      ]
    },
    {
      "cell_type": "code",
      "execution_count": 3,
      "metadata": {
        "id": "KucunYbwgxId"
      },
      "outputs": [],
      "source": [
        "# Load the training set\n",
        "df = pd.read_csv('./data/train.csv') # Labeled dataset for training the models"
      ]
    },
    {
      "cell_type": "code",
      "execution_count": 4,
      "metadata": {
        "colab": {
          "base_uri": "https://localhost:8080/",
          "height": 206
        },
        "id": "0MfKpIP9hmqL",
        "outputId": "4d06c791-860a-4267-ad57-1d1559211e54"
      },
      "outputs": [
        {
          "data": {
            "application/vnd.google.colaboratory.intrinsic+json": {
              "type": "dataframe",
              "variable_name": "df"
            },
            "text/html": [
              "\n",
              "  <div id=\"df-baf9b8fb-9a57-46d9-b159-fa9cc39cd1b4\" class=\"colab-df-container\">\n",
              "    <div>\n",
              "<style scoped>\n",
              "    .dataframe tbody tr th:only-of-type {\n",
              "        vertical-align: middle;\n",
              "    }\n",
              "\n",
              "    .dataframe tbody tr th {\n",
              "        vertical-align: top;\n",
              "    }\n",
              "\n",
              "    .dataframe thead th {\n",
              "        text-align: right;\n",
              "    }\n",
              "</style>\n",
              "<table border=\"1\" class=\"dataframe\">\n",
              "  <thead>\n",
              "    <tr style=\"text-align: right;\">\n",
              "      <th></th>\n",
              "      <th>user_id</th>\n",
              "      <th>product_id</th>\n",
              "      <th>product_name</th>\n",
              "      <th>rating</th>\n",
              "      <th>votes</th>\n",
              "      <th>helpful_votes</th>\n",
              "      <th>ID</th>\n",
              "    </tr>\n",
              "  </thead>\n",
              "  <tbody>\n",
              "    <tr>\n",
              "      <th>0</th>\n",
              "      <td>1813</td>\n",
              "      <td>154533</td>\n",
              "      <td>Beautiful Thing</td>\n",
              "      <td>5</td>\n",
              "      <td>10</td>\n",
              "      <td>8</td>\n",
              "      <td>0</td>\n",
              "    </tr>\n",
              "    <tr>\n",
              "      <th>1</th>\n",
              "      <td>1944</td>\n",
              "      <td>192838</td>\n",
              "      <td>Almost Famous</td>\n",
              "      <td>5</td>\n",
              "      <td>4</td>\n",
              "      <td>2</td>\n",
              "      <td>1</td>\n",
              "    </tr>\n",
              "    <tr>\n",
              "      <th>2</th>\n",
              "      <td>534</td>\n",
              "      <td>202590</td>\n",
              "      <td>A Clockwork Orange</td>\n",
              "      <td>5</td>\n",
              "      <td>5</td>\n",
              "      <td>5</td>\n",
              "      <td>2</td>\n",
              "    </tr>\n",
              "    <tr>\n",
              "      <th>3</th>\n",
              "      <td>1811</td>\n",
              "      <td>140456</td>\n",
              "      <td>Great Expectations (Wordsworth Classics)</td>\n",
              "      <td>4</td>\n",
              "      <td>1</td>\n",
              "      <td>0</td>\n",
              "      <td>3</td>\n",
              "    </tr>\n",
              "    <tr>\n",
              "      <th>4</th>\n",
              "      <td>102</td>\n",
              "      <td>154278</td>\n",
              "      <td>Phenomenon</td>\n",
              "      <td>5</td>\n",
              "      <td>0</td>\n",
              "      <td>0</td>\n",
              "      <td>4</td>\n",
              "    </tr>\n",
              "  </tbody>\n",
              "</table>\n",
              "</div>\n",
              "    <div class=\"colab-df-buttons\">\n",
              "\n",
              "  <div class=\"colab-df-container\">\n",
              "    <button class=\"colab-df-convert\" onclick=\"convertToInteractive('df-baf9b8fb-9a57-46d9-b159-fa9cc39cd1b4')\"\n",
              "            title=\"Convert this dataframe to an interactive table.\"\n",
              "            style=\"display:none;\">\n",
              "\n",
              "  <svg xmlns=\"http://www.w3.org/2000/svg\" height=\"24px\" viewBox=\"0 -960 960 960\">\n",
              "    <path d=\"M120-120v-720h720v720H120Zm60-500h600v-160H180v160Zm220 220h160v-160H400v160Zm0 220h160v-160H400v160ZM180-400h160v-160H180v160Zm440 0h160v-160H620v160ZM180-180h160v-160H180v160Zm440 0h160v-160H620v160Z\"/>\n",
              "  </svg>\n",
              "    </button>\n",
              "\n",
              "  <style>\n",
              "    .colab-df-container {\n",
              "      display:flex;\n",
              "      gap: 12px;\n",
              "    }\n",
              "\n",
              "    .colab-df-convert {\n",
              "      background-color: #E8F0FE;\n",
              "      border: none;\n",
              "      border-radius: 50%;\n",
              "      cursor: pointer;\n",
              "      display: none;\n",
              "      fill: #1967D2;\n",
              "      height: 32px;\n",
              "      padding: 0 0 0 0;\n",
              "      width: 32px;\n",
              "    }\n",
              "\n",
              "    .colab-df-convert:hover {\n",
              "      background-color: #E2EBFA;\n",
              "      box-shadow: 0px 1px 2px rgba(60, 64, 67, 0.3), 0px 1px 3px 1px rgba(60, 64, 67, 0.15);\n",
              "      fill: #174EA6;\n",
              "    }\n",
              "\n",
              "    .colab-df-buttons div {\n",
              "      margin-bottom: 4px;\n",
              "    }\n",
              "\n",
              "    [theme=dark] .colab-df-convert {\n",
              "      background-color: #3B4455;\n",
              "      fill: #D2E3FC;\n",
              "    }\n",
              "\n",
              "    [theme=dark] .colab-df-convert:hover {\n",
              "      background-color: #434B5C;\n",
              "      box-shadow: 0px 1px 3px 1px rgba(0, 0, 0, 0.15);\n",
              "      filter: drop-shadow(0px 1px 2px rgba(0, 0, 0, 0.3));\n",
              "      fill: #FFFFFF;\n",
              "    }\n",
              "  </style>\n",
              "\n",
              "    <script>\n",
              "      const buttonEl =\n",
              "        document.querySelector('#df-baf9b8fb-9a57-46d9-b159-fa9cc39cd1b4 button.colab-df-convert');\n",
              "      buttonEl.style.display =\n",
              "        google.colab.kernel.accessAllowed ? 'block' : 'none';\n",
              "\n",
              "      async function convertToInteractive(key) {\n",
              "        const element = document.querySelector('#df-baf9b8fb-9a57-46d9-b159-fa9cc39cd1b4');\n",
              "        const dataTable =\n",
              "          await google.colab.kernel.invokeFunction('convertToInteractive',\n",
              "                                                    [key], {});\n",
              "        if (!dataTable) return;\n",
              "\n",
              "        const docLinkHtml = 'Like what you see? Visit the ' +\n",
              "          '<a target=\"_blank\" href=https://colab.research.google.com/notebooks/data_table.ipynb>data table notebook</a>'\n",
              "          + ' to learn more about interactive tables.';\n",
              "        element.innerHTML = '';\n",
              "        dataTable['output_type'] = 'display_data';\n",
              "        await google.colab.output.renderOutput(dataTable, element);\n",
              "        const docLink = document.createElement('div');\n",
              "        docLink.innerHTML = docLinkHtml;\n",
              "        element.appendChild(docLink);\n",
              "      }\n",
              "    </script>\n",
              "  </div>\n",
              "\n",
              "\n",
              "<div id=\"df-f8bf324a-bcb2-4807-b3db-e97d711ab299\">\n",
              "  <button class=\"colab-df-quickchart\" onclick=\"quickchart('df-f8bf324a-bcb2-4807-b3db-e97d711ab299')\"\n",
              "            title=\"Suggest charts\"\n",
              "            style=\"display:none;\">\n",
              "\n",
              "<svg xmlns=\"http://www.w3.org/2000/svg\" height=\"24px\"viewBox=\"0 0 24 24\"\n",
              "     width=\"24px\">\n",
              "    <g>\n",
              "        <path d=\"M19 3H5c-1.1 0-2 .9-2 2v14c0 1.1.9 2 2 2h14c1.1 0 2-.9 2-2V5c0-1.1-.9-2-2-2zM9 17H7v-7h2v7zm4 0h-2V7h2v10zm4 0h-2v-4h2v4z\"/>\n",
              "    </g>\n",
              "</svg>\n",
              "  </button>\n",
              "\n",
              "<style>\n",
              "  .colab-df-quickchart {\n",
              "      --bg-color: #E8F0FE;\n",
              "      --fill-color: #1967D2;\n",
              "      --hover-bg-color: #E2EBFA;\n",
              "      --hover-fill-color: #174EA6;\n",
              "      --disabled-fill-color: #AAA;\n",
              "      --disabled-bg-color: #DDD;\n",
              "  }\n",
              "\n",
              "  [theme=dark] .colab-df-quickchart {\n",
              "      --bg-color: #3B4455;\n",
              "      --fill-color: #D2E3FC;\n",
              "      --hover-bg-color: #434B5C;\n",
              "      --hover-fill-color: #FFFFFF;\n",
              "      --disabled-bg-color: #3B4455;\n",
              "      --disabled-fill-color: #666;\n",
              "  }\n",
              "\n",
              "  .colab-df-quickchart {\n",
              "    background-color: var(--bg-color);\n",
              "    border: none;\n",
              "    border-radius: 50%;\n",
              "    cursor: pointer;\n",
              "    display: none;\n",
              "    fill: var(--fill-color);\n",
              "    height: 32px;\n",
              "    padding: 0;\n",
              "    width: 32px;\n",
              "  }\n",
              "\n",
              "  .colab-df-quickchart:hover {\n",
              "    background-color: var(--hover-bg-color);\n",
              "    box-shadow: 0 1px 2px rgba(60, 64, 67, 0.3), 0 1px 3px 1px rgba(60, 64, 67, 0.15);\n",
              "    fill: var(--button-hover-fill-color);\n",
              "  }\n",
              "\n",
              "  .colab-df-quickchart-complete:disabled,\n",
              "  .colab-df-quickchart-complete:disabled:hover {\n",
              "    background-color: var(--disabled-bg-color);\n",
              "    fill: var(--disabled-fill-color);\n",
              "    box-shadow: none;\n",
              "  }\n",
              "\n",
              "  .colab-df-spinner {\n",
              "    border: 2px solid var(--fill-color);\n",
              "    border-color: transparent;\n",
              "    border-bottom-color: var(--fill-color);\n",
              "    animation:\n",
              "      spin 1s steps(1) infinite;\n",
              "  }\n",
              "\n",
              "  @keyframes spin {\n",
              "    0% {\n",
              "      border-color: transparent;\n",
              "      border-bottom-color: var(--fill-color);\n",
              "      border-left-color: var(--fill-color);\n",
              "    }\n",
              "    20% {\n",
              "      border-color: transparent;\n",
              "      border-left-color: var(--fill-color);\n",
              "      border-top-color: var(--fill-color);\n",
              "    }\n",
              "    30% {\n",
              "      border-color: transparent;\n",
              "      border-left-color: var(--fill-color);\n",
              "      border-top-color: var(--fill-color);\n",
              "      border-right-color: var(--fill-color);\n",
              "    }\n",
              "    40% {\n",
              "      border-color: transparent;\n",
              "      border-right-color: var(--fill-color);\n",
              "      border-top-color: var(--fill-color);\n",
              "    }\n",
              "    60% {\n",
              "      border-color: transparent;\n",
              "      border-right-color: var(--fill-color);\n",
              "    }\n",
              "    80% {\n",
              "      border-color: transparent;\n",
              "      border-right-color: var(--fill-color);\n",
              "      border-bottom-color: var(--fill-color);\n",
              "    }\n",
              "    90% {\n",
              "      border-color: transparent;\n",
              "      border-bottom-color: var(--fill-color);\n",
              "    }\n",
              "  }\n",
              "</style>\n",
              "\n",
              "  <script>\n",
              "    async function quickchart(key) {\n",
              "      const quickchartButtonEl =\n",
              "        document.querySelector('#' + key + ' button');\n",
              "      quickchartButtonEl.disabled = true;  // To prevent multiple clicks.\n",
              "      quickchartButtonEl.classList.add('colab-df-spinner');\n",
              "      try {\n",
              "        const charts = await google.colab.kernel.invokeFunction(\n",
              "            'suggestCharts', [key], {});\n",
              "      } catch (error) {\n",
              "        console.error('Error during call to suggestCharts:', error);\n",
              "      }\n",
              "      quickchartButtonEl.classList.remove('colab-df-spinner');\n",
              "      quickchartButtonEl.classList.add('colab-df-quickchart-complete');\n",
              "    }\n",
              "    (() => {\n",
              "      let quickchartButtonEl =\n",
              "        document.querySelector('#df-f8bf324a-bcb2-4807-b3db-e97d711ab299 button');\n",
              "      quickchartButtonEl.style.display =\n",
              "        google.colab.kernel.accessAllowed ? 'block' : 'none';\n",
              "    })();\n",
              "  </script>\n",
              "</div>\n",
              "\n",
              "    </div>\n",
              "  </div>\n"
            ],
            "text/plain": [
              "   user_id  product_id                              product_name  rating  \\\n",
              "0     1813      154533                           Beautiful Thing       5   \n",
              "1     1944      192838                             Almost Famous       5   \n",
              "2      534      202590                        A Clockwork Orange       5   \n",
              "3     1811      140456  Great Expectations (Wordsworth Classics)       4   \n",
              "4      102      154278                                Phenomenon       5   \n",
              "\n",
              "   votes  helpful_votes  ID  \n",
              "0     10              8   0  \n",
              "1      4              2   1  \n",
              "2      5              5   2  \n",
              "3      1              0   3  \n",
              "4      0              0   4  "
            ]
          },
          "execution_count": 4,
          "metadata": {},
          "output_type": "execute_result"
        }
      ],
      "source": [
        "# Check the dataset\n",
        "df.head()"
      ]
    },
    {
      "cell_type": "code",
      "execution_count": 5,
      "metadata": {
        "colab": {
          "base_uri": "https://localhost:8080/"
        },
        "id": "NSRduNELhpaI",
        "outputId": "29d32047-cb0c-4b68-9412-9d1b7331592f"
      },
      "outputs": [
        {
          "name": "stdout",
          "output_type": "stream",
          "text": [
            "<class 'pandas.core.frame.DataFrame'>\n",
            "RangeIndex: 745889 entries, 0 to 745888\n",
            "Data columns (total 7 columns):\n",
            " #   Column         Non-Null Count   Dtype \n",
            "---  ------         --------------   ----- \n",
            " 0   user_id        745889 non-null  int64 \n",
            " 1   product_id     745889 non-null  int64 \n",
            " 2   product_name   745889 non-null  object\n",
            " 3   rating         745889 non-null  int64 \n",
            " 4   votes          745889 non-null  int64 \n",
            " 5   helpful_votes  745889 non-null  int64 \n",
            " 6   ID             745889 non-null  int64 \n",
            "dtypes: int64(6), object(1)\n",
            "memory usage: 39.8+ MB\n"
          ]
        }
      ],
      "source": [
        "# Check the structure of the dataset\n",
        "df.info()"
      ]
    },
    {
      "cell_type": "code",
      "execution_count": 6,
      "metadata": {
        "colab": {
          "base_uri": "https://localhost:8080/",
          "height": 174
        },
        "id": "uAN_WJZjhs3A",
        "outputId": "66f83a40-e041-4ce2-fc3a-6a716f044a8e"
      },
      "outputs": [
        {
          "data": {
            "application/vnd.google.colaboratory.intrinsic+json": {
              "summary": "{\n  \"name\": \"df\",\n  \"rows\": 4,\n  \"fields\": [\n    {\n      \"column\": \"product_name\",\n      \"properties\": {\n        \"dtype\": \"string\",\n        \"num_unique_values\": 4,\n        \"samples\": [\n          178037,\n          \"783\",\n          \"745889\"\n        ],\n        \"semantic_type\": \"\",\n        \"description\": \"\"\n      }\n    }\n  ]\n}",
              "type": "dataframe"
            },
            "text/html": [
              "\n",
              "  <div id=\"df-da1ae932-5a63-40f3-bc00-34d34c9f2e5c\" class=\"colab-df-container\">\n",
              "    <div>\n",
              "<style scoped>\n",
              "    .dataframe tbody tr th:only-of-type {\n",
              "        vertical-align: middle;\n",
              "    }\n",
              "\n",
              "    .dataframe tbody tr th {\n",
              "        vertical-align: top;\n",
              "    }\n",
              "\n",
              "    .dataframe thead th {\n",
              "        text-align: right;\n",
              "    }\n",
              "</style>\n",
              "<table border=\"1\" class=\"dataframe\">\n",
              "  <thead>\n",
              "    <tr style=\"text-align: right;\">\n",
              "      <th></th>\n",
              "      <th>product_name</th>\n",
              "    </tr>\n",
              "  </thead>\n",
              "  <tbody>\n",
              "    <tr>\n",
              "      <th>count</th>\n",
              "      <td>745889</td>\n",
              "    </tr>\n",
              "    <tr>\n",
              "      <th>unique</th>\n",
              "      <td>178037</td>\n",
              "    </tr>\n",
              "    <tr>\n",
              "      <th>top</th>\n",
              "      <td>The Hobbit</td>\n",
              "    </tr>\n",
              "    <tr>\n",
              "      <th>freq</th>\n",
              "      <td>783</td>\n",
              "    </tr>\n",
              "  </tbody>\n",
              "</table>\n",
              "</div>\n",
              "    <div class=\"colab-df-buttons\">\n",
              "\n",
              "  <div class=\"colab-df-container\">\n",
              "    <button class=\"colab-df-convert\" onclick=\"convertToInteractive('df-da1ae932-5a63-40f3-bc00-34d34c9f2e5c')\"\n",
              "            title=\"Convert this dataframe to an interactive table.\"\n",
              "            style=\"display:none;\">\n",
              "\n",
              "  <svg xmlns=\"http://www.w3.org/2000/svg\" height=\"24px\" viewBox=\"0 -960 960 960\">\n",
              "    <path d=\"M120-120v-720h720v720H120Zm60-500h600v-160H180v160Zm220 220h160v-160H400v160Zm0 220h160v-160H400v160ZM180-400h160v-160H180v160Zm440 0h160v-160H620v160ZM180-180h160v-160H180v160Zm440 0h160v-160H620v160Z\"/>\n",
              "  </svg>\n",
              "    </button>\n",
              "\n",
              "  <style>\n",
              "    .colab-df-container {\n",
              "      display:flex;\n",
              "      gap: 12px;\n",
              "    }\n",
              "\n",
              "    .colab-df-convert {\n",
              "      background-color: #E8F0FE;\n",
              "      border: none;\n",
              "      border-radius: 50%;\n",
              "      cursor: pointer;\n",
              "      display: none;\n",
              "      fill: #1967D2;\n",
              "      height: 32px;\n",
              "      padding: 0 0 0 0;\n",
              "      width: 32px;\n",
              "    }\n",
              "\n",
              "    .colab-df-convert:hover {\n",
              "      background-color: #E2EBFA;\n",
              "      box-shadow: 0px 1px 2px rgba(60, 64, 67, 0.3), 0px 1px 3px 1px rgba(60, 64, 67, 0.15);\n",
              "      fill: #174EA6;\n",
              "    }\n",
              "\n",
              "    .colab-df-buttons div {\n",
              "      margin-bottom: 4px;\n",
              "    }\n",
              "\n",
              "    [theme=dark] .colab-df-convert {\n",
              "      background-color: #3B4455;\n",
              "      fill: #D2E3FC;\n",
              "    }\n",
              "\n",
              "    [theme=dark] .colab-df-convert:hover {\n",
              "      background-color: #434B5C;\n",
              "      box-shadow: 0px 1px 3px 1px rgba(0, 0, 0, 0.15);\n",
              "      filter: drop-shadow(0px 1px 2px rgba(0, 0, 0, 0.3));\n",
              "      fill: #FFFFFF;\n",
              "    }\n",
              "  </style>\n",
              "\n",
              "    <script>\n",
              "      const buttonEl =\n",
              "        document.querySelector('#df-da1ae932-5a63-40f3-bc00-34d34c9f2e5c button.colab-df-convert');\n",
              "      buttonEl.style.display =\n",
              "        google.colab.kernel.accessAllowed ? 'block' : 'none';\n",
              "\n",
              "      async function convertToInteractive(key) {\n",
              "        const element = document.querySelector('#df-da1ae932-5a63-40f3-bc00-34d34c9f2e5c');\n",
              "        const dataTable =\n",
              "          await google.colab.kernel.invokeFunction('convertToInteractive',\n",
              "                                                    [key], {});\n",
              "        if (!dataTable) return;\n",
              "\n",
              "        const docLinkHtml = 'Like what you see? Visit the ' +\n",
              "          '<a target=\"_blank\" href=https://colab.research.google.com/notebooks/data_table.ipynb>data table notebook</a>'\n",
              "          + ' to learn more about interactive tables.';\n",
              "        element.innerHTML = '';\n",
              "        dataTable['output_type'] = 'display_data';\n",
              "        await google.colab.output.renderOutput(dataTable, element);\n",
              "        const docLink = document.createElement('div');\n",
              "        docLink.innerHTML = docLinkHtml;\n",
              "        element.appendChild(docLink);\n",
              "      }\n",
              "    </script>\n",
              "  </div>\n",
              "\n",
              "\n",
              "<div id=\"df-94e69abb-d1d6-4eab-b31a-02012b1c863f\">\n",
              "  <button class=\"colab-df-quickchart\" onclick=\"quickchart('df-94e69abb-d1d6-4eab-b31a-02012b1c863f')\"\n",
              "            title=\"Suggest charts\"\n",
              "            style=\"display:none;\">\n",
              "\n",
              "<svg xmlns=\"http://www.w3.org/2000/svg\" height=\"24px\"viewBox=\"0 0 24 24\"\n",
              "     width=\"24px\">\n",
              "    <g>\n",
              "        <path d=\"M19 3H5c-1.1 0-2 .9-2 2v14c0 1.1.9 2 2 2h14c1.1 0 2-.9 2-2V5c0-1.1-.9-2-2-2zM9 17H7v-7h2v7zm4 0h-2V7h2v10zm4 0h-2v-4h2v4z\"/>\n",
              "    </g>\n",
              "</svg>\n",
              "  </button>\n",
              "\n",
              "<style>\n",
              "  .colab-df-quickchart {\n",
              "      --bg-color: #E8F0FE;\n",
              "      --fill-color: #1967D2;\n",
              "      --hover-bg-color: #E2EBFA;\n",
              "      --hover-fill-color: #174EA6;\n",
              "      --disabled-fill-color: #AAA;\n",
              "      --disabled-bg-color: #DDD;\n",
              "  }\n",
              "\n",
              "  [theme=dark] .colab-df-quickchart {\n",
              "      --bg-color: #3B4455;\n",
              "      --fill-color: #D2E3FC;\n",
              "      --hover-bg-color: #434B5C;\n",
              "      --hover-fill-color: #FFFFFF;\n",
              "      --disabled-bg-color: #3B4455;\n",
              "      --disabled-fill-color: #666;\n",
              "  }\n",
              "\n",
              "  .colab-df-quickchart {\n",
              "    background-color: var(--bg-color);\n",
              "    border: none;\n",
              "    border-radius: 50%;\n",
              "    cursor: pointer;\n",
              "    display: none;\n",
              "    fill: var(--fill-color);\n",
              "    height: 32px;\n",
              "    padding: 0;\n",
              "    width: 32px;\n",
              "  }\n",
              "\n",
              "  .colab-df-quickchart:hover {\n",
              "    background-color: var(--hover-bg-color);\n",
              "    box-shadow: 0 1px 2px rgba(60, 64, 67, 0.3), 0 1px 3px 1px rgba(60, 64, 67, 0.15);\n",
              "    fill: var(--button-hover-fill-color);\n",
              "  }\n",
              "\n",
              "  .colab-df-quickchart-complete:disabled,\n",
              "  .colab-df-quickchart-complete:disabled:hover {\n",
              "    background-color: var(--disabled-bg-color);\n",
              "    fill: var(--disabled-fill-color);\n",
              "    box-shadow: none;\n",
              "  }\n",
              "\n",
              "  .colab-df-spinner {\n",
              "    border: 2px solid var(--fill-color);\n",
              "    border-color: transparent;\n",
              "    border-bottom-color: var(--fill-color);\n",
              "    animation:\n",
              "      spin 1s steps(1) infinite;\n",
              "  }\n",
              "\n",
              "  @keyframes spin {\n",
              "    0% {\n",
              "      border-color: transparent;\n",
              "      border-bottom-color: var(--fill-color);\n",
              "      border-left-color: var(--fill-color);\n",
              "    }\n",
              "    20% {\n",
              "      border-color: transparent;\n",
              "      border-left-color: var(--fill-color);\n",
              "      border-top-color: var(--fill-color);\n",
              "    }\n",
              "    30% {\n",
              "      border-color: transparent;\n",
              "      border-left-color: var(--fill-color);\n",
              "      border-top-color: var(--fill-color);\n",
              "      border-right-color: var(--fill-color);\n",
              "    }\n",
              "    40% {\n",
              "      border-color: transparent;\n",
              "      border-right-color: var(--fill-color);\n",
              "      border-top-color: var(--fill-color);\n",
              "    }\n",
              "    60% {\n",
              "      border-color: transparent;\n",
              "      border-right-color: var(--fill-color);\n",
              "    }\n",
              "    80% {\n",
              "      border-color: transparent;\n",
              "      border-right-color: var(--fill-color);\n",
              "      border-bottom-color: var(--fill-color);\n",
              "    }\n",
              "    90% {\n",
              "      border-color: transparent;\n",
              "      border-bottom-color: var(--fill-color);\n",
              "    }\n",
              "  }\n",
              "</style>\n",
              "\n",
              "  <script>\n",
              "    async function quickchart(key) {\n",
              "      const quickchartButtonEl =\n",
              "        document.querySelector('#' + key + ' button');\n",
              "      quickchartButtonEl.disabled = true;  // To prevent multiple clicks.\n",
              "      quickchartButtonEl.classList.add('colab-df-spinner');\n",
              "      try {\n",
              "        const charts = await google.colab.kernel.invokeFunction(\n",
              "            'suggestCharts', [key], {});\n",
              "      } catch (error) {\n",
              "        console.error('Error during call to suggestCharts:', error);\n",
              "      }\n",
              "      quickchartButtonEl.classList.remove('colab-df-spinner');\n",
              "      quickchartButtonEl.classList.add('colab-df-quickchart-complete');\n",
              "    }\n",
              "    (() => {\n",
              "      let quickchartButtonEl =\n",
              "        document.querySelector('#df-94e69abb-d1d6-4eab-b31a-02012b1c863f button');\n",
              "      quickchartButtonEl.style.display =\n",
              "        google.colab.kernel.accessAllowed ? 'block' : 'none';\n",
              "    })();\n",
              "  </script>\n",
              "</div>\n",
              "\n",
              "    </div>\n",
              "  </div>\n"
            ],
            "text/plain": [
              "       product_name\n",
              "count        745889\n",
              "unique       178037\n",
              "top      The Hobbit\n",
              "freq            783"
            ]
          },
          "execution_count": 6,
          "metadata": {},
          "output_type": "execute_result"
        }
      ],
      "source": [
        "# Check the summary of the dataset\n",
        "df.describe()\n",
        "df.describe(include=['O'])"
      ]
    },
    {
      "cell_type": "code",
      "execution_count": 7,
      "metadata": {
        "colab": {
          "base_uri": "https://localhost:8080/"
        },
        "id": "Ms94giufvKPg",
        "outputId": "661d9f93-0698-4105-90c8-d3562cf4fbeb"
      },
      "outputs": [
        {
          "name": "stdout",
          "output_type": "stream",
          "text": [
            "2000 201325\n"
          ]
        }
      ],
      "source": [
        "# Check the number of unique user and product IDs\n",
        "num_users = len(df.user_id.unique())\n",
        "num_items = len(df.product_id.unique())\n",
        "print(num_users, num_items)"
      ]
    },
    {
      "cell_type": "markdown",
      "metadata": {
        "id": "f_oQ6Vq8-0Sj"
      },
      "source": [
        "## Data Wrangling"
      ]
    },
    {
      "cell_type": "markdown",
      "metadata": {
        "id": "pHw-ldyAvHP2"
      },
      "source": [
        "Notice that from the above exploration, the number of unique product IDs and names do not match. This may suggest that there are some data integrity issues as a product should have only one ID."
      ]
    },
    {
      "cell_type": "code",
      "execution_count": 8,
      "metadata": {
        "colab": {
          "base_uri": "https://localhost:8080/",
          "height": 489
        },
        "id": "1Sp4PPcj-2zl",
        "outputId": "93c50f98-ae7f-4de8-9170-78f6c949c22b"
      },
      "outputs": [
        {
          "data": {
            "text/html": [
              "<div>\n",
              "<style scoped>\n",
              "    .dataframe tbody tr th:only-of-type {\n",
              "        vertical-align: middle;\n",
              "    }\n",
              "\n",
              "    .dataframe tbody tr th {\n",
              "        vertical-align: top;\n",
              "    }\n",
              "\n",
              "    .dataframe thead th {\n",
              "        text-align: right;\n",
              "    }\n",
              "</style>\n",
              "<table border=\"1\" class=\"dataframe\">\n",
              "  <thead>\n",
              "    <tr style=\"text-align: right;\">\n",
              "      <th></th>\n",
              "      <th>product_id</th>\n",
              "    </tr>\n",
              "    <tr>\n",
              "      <th>product_name</th>\n",
              "      <th></th>\n",
              "    </tr>\n",
              "  </thead>\n",
              "  <tbody>\n",
              "    <tr>\n",
              "      <th>\"Extra\" Work for Brain Surgeons</th>\n",
              "      <td>3</td>\n",
              "    </tr>\n",
              "    <tr>\n",
              "      <th>\"Fire! Fire!\" Said Mrs. McGuire</th>\n",
              "      <td>2</td>\n",
              "    </tr>\n",
              "    <tr>\n",
              "      <th>\"O\" Is for Outlaw</th>\n",
              "      <td>3</td>\n",
              "    </tr>\n",
              "    <tr>\n",
              "      <th>\"O\" Is for Outlaw (Kinsey Millhone Mysteries (Audio))</th>\n",
              "      <td>2</td>\n",
              "    </tr>\n",
              "    <tr>\n",
              "      <th>#1</th>\n",
              "      <td>2</td>\n",
              "    </tr>\n",
              "    <tr>\n",
              "      <th>...</th>\n",
              "      <td>...</td>\n",
              "    </tr>\n",
              "    <tr>\n",
              "      <th>johns</th>\n",
              "      <td>2</td>\n",
              "    </tr>\n",
              "    <tr>\n",
              "      <th>sex, lies, and videotape</th>\n",
              "      <td>2</td>\n",
              "    </tr>\n",
              "    <tr>\n",
              "      <th>¡Corre, perro, corre!</th>\n",
              "      <td>2</td>\n",
              "    </tr>\n",
              "    <tr>\n",
              "      <th>¿Dónde está Spot?</th>\n",
              "      <td>2</td>\n",
              "    </tr>\n",
              "    <tr>\n",
              "      <th>Ágætis Byrjun</th>\n",
              "      <td>2</td>\n",
              "    </tr>\n",
              "  </tbody>\n",
              "</table>\n",
              "<p>16346 rows × 1 columns</p>\n",
              "</div><br><label><b>dtype:</b> int64</label>"
            ],
            "text/plain": [
              "product_name\n",
              "\"Extra\" Work for Brain Surgeons                          3\n",
              "\"Fire! Fire!\" Said Mrs. McGuire                          2\n",
              "\"O\" Is for Outlaw                                        3\n",
              "\"O\" Is for Outlaw (Kinsey Millhone Mysteries (Audio))    2\n",
              "#1                                                       2\n",
              "                                                        ..\n",
              "johns                                                    2\n",
              "sex, lies, and videotape                                 2\n",
              "¡Corre, perro, corre!                                    2\n",
              "¿Dónde está Spot?                                        2\n",
              "Ágætis Byrjun                                            2\n",
              "Name: product_id, Length: 16346, dtype: int64"
            ]
          },
          "execution_count": 8,
          "metadata": {},
          "output_type": "execute_result"
        }
      ],
      "source": [
        "# Check data integrity\n",
        "product_variations = df.groupby('product_name')['product_id'].nunique()\n",
        "product_variations[product_variations > 1]"
      ]
    },
    {
      "cell_type": "markdown",
      "metadata": {
        "id": "3xaGSLbKg1YH"
      },
      "source": [
        "The above results show that some products really have different IDs even though they are the same. Therefore, we need to fix this first. Here, we can just simply use the most ID for each product."
      ]
    },
    {
      "cell_type": "code",
      "execution_count": 9,
      "metadata": {
        "id": "KA3YW3sW_GPo"
      },
      "outputs": [],
      "source": [
        "# Fix the same products have different ID\n",
        "# Here, pick the ID with the most frequency\n",
        "train_mapping = df.groupby('product_name').product_id.agg(lambda x: pd.Series.mode(x)[0]).to_dict()\n",
        "df['product_id'] = df['product_name'].apply(lambda x: train_mapping[x])"
      ]
    },
    {
      "cell_type": "markdown",
      "metadata": {
        "id": "xEXEhrdIh2-v"
      },
      "source": [
        "## Model Selection"
      ]
    },
    {
      "cell_type": "markdown",
      "metadata": {
        "id": "0jbHT0hCh-LX"
      },
      "source": [
        "To make the recommender system that can predict the rating given by a user on a specific product, 3 types of algorithm will be considered:\n",
        "-  **K-Nearest Neighbours (KNN):** a Collaborative Filtering model that uses the ratings from the most similar users or items.\n",
        "- **Single Value Decomposition (SVD):** another Collaborative Filtering model that assumes both the users and items' properties can be described in some low dimensional space (by some latent factors). It uses an inner product to produce the output.\n",
        "- **Neural Networks:** introduces non-linearity to produce the output. It can learn more complex relationship between users and items"
      ]
    },
    {
      "cell_type": "markdown",
      "metadata": {
        "id": "WX9cHk1obaWM"
      },
      "source": [
        "### KNN"
      ]
    },
    {
      "cell_type": "markdown",
      "metadata": {
        "id": "MGhS020nb2na"
      },
      "source": [
        "Note that a grid search had been done previously to find the optimal parameters for the models. The hyperparameter tuned includes the similarity measurement type and the minimum and maximum number of neighbours (K)."
      ]
    },
    {
      "cell_type": "code",
      "execution_count": 10,
      "metadata": {
        "colab": {
          "base_uri": "https://localhost:8080/"
        },
        "id": "5uygNGhYb1ML",
        "outputId": "dfff98af-0dde-4810-fdf1-e6b47b97addc"
      },
      "outputs": [
        {
          "name": "stdout",
          "output_type": "stream",
          "text": [
            "Evaluating RMSE, MAE of algorithm KNNWithMeans on 5 split(s).\n",
            "\n",
            "                  Fold 1  Fold 2  Fold 3  Fold 4  Fold 5  Mean    Std     \n",
            "RMSE (testset)    0.8585  0.8572  0.8587  0.8578  0.8526  0.8570  0.0022  \n",
            "MAE (testset)     0.6119  0.6099  0.6111  0.6105  0.6090  0.6105  0.0010  \n",
            "Fit time          1.34    1.74    1.68    1.65    1.71    1.62    0.15    \n",
            "Test time         9.31    8.94    8.94    8.41    9.58    9.03    0.40    \n"
          ]
        },
        {
          "data": {
            "text/plain": [
              "{'test_rmse': array([0.85848359, 0.85716239, 0.85872703, 0.85777069, 0.8526204 ]),\n",
              " 'test_mae': array([0.61192058, 0.6098989 , 0.61112399, 0.61052454, 0.60896675]),\n",
              " 'fit_time': (1.3351709842681885,\n",
              "  1.7351608276367188,\n",
              "  1.682624101638794,\n",
              "  1.6471624374389648,\n",
              "  1.7080376148223877),\n",
              " 'test_time': (9.310630798339844,\n",
              "  8.937234163284302,\n",
              "  8.93796157836914,\n",
              "  8.407681465148926,\n",
              "  9.57626461982727)}"
            ]
          },
          "execution_count": 10,
          "metadata": {},
          "output_type": "execute_result"
        }
      ],
      "source": [
        "# Initialize the seed for the RNG\n",
        "random.seed(79)\n",
        "np.random.seed(79)\n",
        "\n",
        "# Create a dataset from the training set only using the user and product ID pairings and their rating\n",
        "data = Dataset.load_from_df(df[['user_id', 'product_id', 'rating']], Reader())\n",
        "\n",
        "# Initialize the KNN model\n",
        "knn = KNNWithMeans(k = 10,\n",
        "                   min_k = 4,\n",
        "                   sim_options = {'name': 'MSD'},\n",
        "                   verbose = False)\n",
        "\n",
        "# Do a 5-fold cross-validation train and evaluate the model's performance\n",
        "cross_validate(knn, data, measures=['RMSE', 'MAE'], cv=5, verbose=True)"
      ]
    },
    {
      "cell_type": "markdown",
      "metadata": {
        "id": "2-9HC4xsoAcT"
      },
      "source": [
        "### SVD"
      ]
    },
    {
      "cell_type": "markdown",
      "metadata": {
        "id": "33wUYda2oI59"
      },
      "source": [
        "Note that a grid search had been done previously to find the optimal parameters for the models. The hyperparameter tuned includes the number of latent factors, number of epochs, learning rates, and regularization rates."
      ]
    },
    {
      "cell_type": "code",
      "execution_count": 11,
      "metadata": {
        "colab": {
          "base_uri": "https://localhost:8080/"
        },
        "id": "PvvQmhcyr0Rc",
        "outputId": "041572f5-49d1-48a6-f2f2-1422e796d9e1"
      },
      "outputs": [
        {
          "name": "stdout",
          "output_type": "stream",
          "text": [
            "Evaluating RMSE, MAE of algorithm SVD on 5 split(s).\n",
            "\n",
            "                  Fold 1  Fold 2  Fold 3  Fold 4  Fold 5  Mean    Std     \n",
            "RMSE (testset)    0.7955  0.7947  0.7960  0.7946  0.7901  0.7942  0.0021  \n",
            "MAE (testset)     0.5224  0.5205  0.5205  0.5211  0.5213  0.5211  0.0007  \n",
            "Fit time          247.03  257.77  265.30  255.13  248.60  254.76  6.60    \n",
            "Test time         2.03    1.85    1.87    1.82    2.15    1.94    0.13    \n"
          ]
        },
        {
          "data": {
            "text/plain": [
              "{'test_rmse': array([0.79547422, 0.79473424, 0.79604107, 0.79464712, 0.79008606]),\n",
              " 'test_mae': array([0.52237509, 0.52046822, 0.52052395, 0.52107455, 0.52125977]),\n",
              " 'fit_time': (247.0275740623474,\n",
              "  257.77093267440796,\n",
              "  265.2962739467621,\n",
              "  255.13149666786194,\n",
              "  248.59572052955627),\n",
              " 'test_time': (2.0273091793060303,\n",
              "  1.8466849327087402,\n",
              "  1.874511480331421,\n",
              "  1.821594476699829,\n",
              "  2.1515326499938965)}"
            ]
          },
          "execution_count": 11,
          "metadata": {},
          "output_type": "execute_result"
        }
      ],
      "source": [
        "# Initialize the seed for the RNG\n",
        "random.seed(79)\n",
        "np.random.seed(79)\n",
        "\n",
        "# Initialize the SVD model\n",
        "svd = SVD(n_factors = 350,\n",
        "          n_epochs = 150,\n",
        "          lr_all = 0.1,\n",
        "          reg_all = 0.02,\n",
        "          random_state = 79)\n",
        "\n",
        "# Do a 5-fold cross-validation train and evaluate the model's performance\n",
        "cross_validate(svd, data, measures=['RMSE', 'MAE'], cv=5, verbose=True)"
      ]
    },
    {
      "cell_type": "markdown",
      "metadata": {
        "id": "ehQdnKdiKD_N"
      },
      "source": [
        "### Neural Network"
      ]
    },
    {
      "cell_type": "markdown",
      "metadata": {
        "id": "lj4GF2kQKIyp"
      },
      "source": [
        "For the Neural Network model, here we will use the Multi-Layer Perceptron (MLP) algorithm, in which the interaction function consists of several non-linear functions to learn the relationship between the users and items.\n",
        "\n",
        "Here, we will use the TF-IDF representation of the product name instead of the product ID to accomodate for the unseen products (not provided in the training set) in the test set."
      ]
    },
    {
      "cell_type": "code",
      "execution_count": 12,
      "metadata": {
        "id": "3VYTUrVfKIIT"
      },
      "outputs": [],
      "source": [
        "# References: class tutorial\n",
        "\n",
        "def encode_data(df, train=None):\n",
        "    '''\n",
        "    Encodes the dataset with continous user ids\n",
        "\n",
        "    Parameters\n",
        "    ----------\n",
        "    df : Pandas dataframe\n",
        "      the dataframe to be encoded\n",
        "    train : Pandas dataframe\n",
        "      the training dataframe (for reference)\n",
        "\n",
        "    Returns\n",
        "    -------\n",
        "    The encoded dataframe\n",
        "    '''\n",
        "\n",
        "    # Create a copy of the dataset\n",
        "    df = df.copy()\n",
        "    # Reset the training column\n",
        "    train_col = None\n",
        "    # If training set is provided, use it as a reference\n",
        "    # Else, use the dataset directly\n",
        "    if train is not None:\n",
        "        uniq = train[\"user_id\"].unique()\n",
        "    else:\n",
        "        uniq = df[\"user_id\"].unique()\n",
        "    # Create the encoding mapping\n",
        "    name2idx = {o:i for i,o in enumerate(uniq)}\n",
        "    # Encode the user IDs\n",
        "    df[\"user_id\"] = np.array([name2idx.get(x, -1) for x in df[\"user_id\"]])\n",
        "    # Remove the unseen IDs\n",
        "    df = df[df[\"user_id\"] >= 0]\n",
        "    return df\n",
        "\n",
        "class CollabFNet(nn.Module):\n",
        "    '''\n",
        "    The neural collaborative filtering model.\n",
        "\n",
        "    Parameters\n",
        "    ----------\n",
        "    num_users : int\n",
        "      the number of users (size of the input layer)\n",
        "    tfidf_dim : int\n",
        "      the number of dimensions in the item's TF-IDF\n",
        "    emb_size : int\n",
        "      the size of the embedding layer (default: 100)\n",
        "    n_hidden : list\n",
        "      the number of hidden layers (default: [10])\n",
        "\n",
        "    Attributes\n",
        "    ----------\n",
        "    user_emb : torch.nn object\n",
        "      the user embedding layer\n",
        "    item_tfidf : torch.nn object\n",
        "      the item TF-IDF embedding layer\n",
        "    lin1 : torch.nn object\n",
        "      the first linear layer (embedding to hidden)\n",
        "    lin2 : torch.nn object\n",
        "      the second linear layer (hidden to output)\n",
        "    drop1 : torch.nn object\n",
        "      the dropout layer\n",
        "    '''\n",
        "\n",
        "    def __init__(self, num_users, tfidf_dim, emb_size=100, n_hidden=10):\n",
        "        '''\n",
        "        Constructs all the necessary attributes for the CollabFNet object.\n",
        "\n",
        "        Parameters\n",
        "        ----------\n",
        "        num_users : int\n",
        "          the number of users (size of the input layer)\n",
        "        tfidf_dim : int\n",
        "          the number of dimensions in the item's TF-IDF\n",
        "        emb_size : int\n",
        "          the size of the embedding layer (default: 100)\n",
        "        n_hidden : list\n",
        "          the size of the hidden layer (default: 10)\n",
        "        '''\n",
        "\n",
        "        super(CollabFNet, self).__init__()\n",
        "        self.user_emb = nn.Embedding(num_users, emb_size)\n",
        "        self.item_tfidf = nn.Linear(tfidf_dim, emb_size)\n",
        "        self.lin1 = nn.Linear(emb_size*2, n_hidden)\n",
        "        self.lin2 = nn.Linear(n_hidden, 1)\n",
        "        self.drop1 = nn.Dropout(0.1)\n",
        "\n",
        "    def forward(self, u, v):\n",
        "        '''\n",
        "        Implements the feedforward step to produce an output\n",
        "        from the inputted data.\n",
        "\n",
        "        Parameters\n",
        "        ----------\n",
        "        u : tensor\n",
        "          user id to be processed\n",
        "        v : tensor\n",
        "          the item TF-IDF to be processed\n",
        "\n",
        "        Returns\n",
        "        -------\n",
        "        Predicted ratings for the given user-item pairings.\n",
        "        '''\n",
        "\n",
        "        # Determine the user and item embeddings\n",
        "        U = self.user_emb(u)\n",
        "        V = self.item_tfidf(v)\n",
        "        # Concatenate the embeddings and feed into the model\n",
        "        x = F.relu(torch.cat([U, V], dim=1))\n",
        "        x = self.drop1(x)\n",
        "        x = F.relu(self.lin1(x))\n",
        "        x = self.lin2(x)\n",
        "        return x\n",
        "\n",
        "def train_epochs(model, epochs=10, lr=0.01, wd=0.0, unsqueeze=False):\n",
        "    '''\n",
        "    Trains the model for the specified number of epochs.\n",
        "\n",
        "    Parameters\n",
        "    ----------\n",
        "    model : torch.nn object\n",
        "      the model to be trained\n",
        "    epochs : int\n",
        "      the number of epochs to train for (default: 10)\n",
        "    lr : float\n",
        "      the learning rate (default: 0.01)\n",
        "    wd : float\n",
        "      the weight decay (default: 0.0)\n",
        "    unsqueeze : bool\n",
        "      whether to unsqueeze the ratings (default: False)\n",
        "\n",
        "    Return\n",
        "    ------\n",
        "    None\n",
        "    '''\n",
        "\n",
        "    # Initiate the optimizer\n",
        "    optimizer = torch.optim.Adam(model.parameters(), lr=lr, weight_decay=wd)\n",
        "    # Set the mode to training\n",
        "    model.train()\n",
        "\n",
        "    # Save the data to tensors\n",
        "    users = torch.LongTensor(df_train.user_id.values)\n",
        "    items_tfidf = torch.FloatTensor(tfidf_train)\n",
        "    ratings = torch.FloatTensor(df_train.rating.values)\n",
        "    # Unsqueeze the ratings if asked\n",
        "    if unsqueeze:\n",
        "      ratings = ratings.unsqueeze(1)\n",
        "\n",
        "    # Train the model\n",
        "    for i in range(epochs):\n",
        "        # Do the prediction\n",
        "        y_hat = model(users, items_tfidf)\n",
        "        # Calculate the loss\n",
        "        loss = F.mse_loss(y_hat, ratings)\n",
        "        # Reset the gradients\n",
        "        optimizer.zero_grad()\n",
        "        # Capture the gradients\n",
        "        loss.backward()\n",
        "        # Update the weights\n",
        "        optimizer.step()\n",
        "        # Print the epoch loss\n",
        "        print('Epoch', i+1, 'loss:', loss.item()**0.5)\n",
        "\n",
        "    # Due to memory issue, here we will delete the tensors after usage\n",
        "    # This will clear up some memories\n",
        "    del users\n",
        "    del items_tfidf\n",
        "    del ratings\n",
        "    del y_hat\n",
        "    del loss\n",
        "    gc.collect()\n",
        "\n",
        "    evaluate(model, unsqueeze)\n",
        "\n",
        "def evaluate(model, unsqueeze=False):\n",
        "    '''\n",
        "    Evalute the model to the validation set\n",
        "\n",
        "    Parameters\n",
        "    ----------\n",
        "    model : torch.nn object\n",
        "      the model to be evaluated\n",
        "    unsqueeze : bool\n",
        "      whether to unsqueeze the ratings (default: False)\n",
        "\n",
        "    Return\n",
        "    ------\n",
        "    None\n",
        "    '''\n",
        "\n",
        "    # Set the mode to evaluation\n",
        "    model.eval()\n",
        "    # Save the data to tensors\n",
        "    users = torch.LongTensor(df_val.user_id.values)\n",
        "    items_tfidf = torch.FloatTensor(tfidf_val)\n",
        "    ratings = torch.FloatTensor(df_val.rating.values)\n",
        "    # Unsqueeze the ratings if asked\n",
        "    if unsqueeze:\n",
        "        ratings = ratings.unsqueeze(1)\n",
        "    # Do the predictions\n",
        "    y_hat = model(users, items_tfidf)\n",
        "    # Calculate the loss\n",
        "    loss = F.mse_loss(y_hat, ratings)**0.5\n",
        "    print(\"Validation loss %.3f \" % loss.item())\n",
        "\n",
        "    # Due to memory issue, here we will delete the tensors after usage\n",
        "    # This will clear up some memories\n",
        "    del users\n",
        "    del items_tfidf\n",
        "    del ratings\n",
        "    del y_hat\n",
        "    del loss\n",
        "    gc.collect()"
      ]
    },
    {
      "cell_type": "markdown",
      "metadata": {
        "id": "VYmM6e4bdiXk"
      },
      "source": [
        "After exploring the training and test set, it was found that some of the products in the test set did not appear in the training set. This will create an unseen label problem when applying the model to the test set. To solve this problem, we can use the product name directly to learn the representation for the items, instead of just using the product ID."
      ]
    },
    {
      "cell_type": "code",
      "execution_count": 13,
      "metadata": {
        "colab": {
          "base_uri": "https://localhost:8080/"
        },
        "id": "6HNeiPd_dbmx",
        "outputId": "aa107ac8-df7e-4970-b0c2-9e660e27690a"
      },
      "outputs": [
        {
          "name": "stdout",
          "output_type": "stream",
          "text": [
            "2000 1000\n"
          ]
        }
      ],
      "source": [
        "# Split the dataset into train and validation\n",
        "np.random.seed(79)\n",
        "sample = np.random.rand(len(df)) < 0.8\n",
        "train = df[sample].copy()\n",
        "val = df[~sample].copy()\n",
        "\n",
        "# Encode the train and validation data\n",
        "df_train = encode_data(train)\n",
        "df_val = encode_data(val, train)\n",
        "\n",
        "# Initiate the vectorizer for the product name\n",
        "# Here, we use the TF-IDF vectorizer\n",
        "vectorizer = TfidfVectorizer(lowercase = True,\n",
        "                             analyzer = 'word',\n",
        "                             ngram_range = (1, 1),\n",
        "                             min_df = 5,\n",
        "                             max_df = 0.95,\n",
        "                             stop_words = 'english',\n",
        "                             max_features = 1000)\n",
        "\n",
        "# Extract the features from the training and validation set\n",
        "tfidf_train = vectorizer.fit_transform(train['product_name']).toarray()\n",
        "tfidf_val = vectorizer.transform(val['product_name']).toarray()\n",
        "\n",
        "# Get the number of users and the TF-IDF dimension\n",
        "num_users = len(df_train.user_id.unique())\n",
        "tfidf_dim = tfidf_train.shape[1]\n",
        "print(num_users, tfidf_dim)"
      ]
    },
    {
      "cell_type": "markdown",
      "metadata": {
        "id": "DMAPXEjfN7kR"
      },
      "source": [
        "Note that a grid search had been done previously to find the optimal parameters for the models. The hyperparameter tuned includes the embedding size, hidden layer size, number of epochs, learning rate, and weight decay."
      ]
    },
    {
      "cell_type": "code",
      "execution_count": 14,
      "metadata": {
        "colab": {
          "base_uri": "https://localhost:8080/"
        },
        "id": "QhOQBiZMM4PW",
        "outputId": "ede834b8-3c15-4d13-9fd0-9e80a533c998"
      },
      "outputs": [
        {
          "name": "stdout",
          "output_type": "stream",
          "text": [
            "Epoch 1 loss: 4.005619393408904\n",
            "Epoch 2 loss: 1.6626528648139098\n",
            "Epoch 3 loss: 2.4986924566805957\n",
            "Epoch 4 loss: 2.1373888042594706\n",
            "Epoch 5 loss: 1.2573596778980476\n",
            "Epoch 6 loss: 1.3014115647889763\n",
            "Epoch 7 loss: 1.6985490553506593\n",
            "Epoch 8 loss: 1.820989327401021\n",
            "Epoch 9 loss: 1.6851783605972237\n",
            "Epoch 10 loss: 1.412345265040454\n",
            "Epoch 11 loss: 1.1832779566921625\n",
            "Epoch 12 loss: 1.1873010669520643\n",
            "Epoch 13 loss: 1.356000065077721\n",
            "Epoch 14 loss: 1.4610742515166106\n",
            "Epoch 15 loss: 1.4130294567069526\n",
            "Epoch 16 loss: 1.27133430966575\n",
            "Epoch 17 loss: 1.159181641446068\n",
            "Epoch 18 loss: 1.1536467346233812\n",
            "Epoch 19 loss: 1.2217514541489307\n",
            "Epoch 20 loss: 1.289591177986866\n",
            "Epoch 21 loss: 1.3119884129716197\n",
            "Epoch 22 loss: 1.2823483481173084\n",
            "Epoch 23 loss: 1.2206608391113458\n",
            "Epoch 24 loss: 1.1602220612942926\n",
            "Epoch 25 loss: 1.1344920368612819\n",
            "Epoch 26 loss: 1.1524748646773488\n",
            "Epoch 27 loss: 1.1866668991202938\n",
            "Epoch 28 loss: 1.2040868605112942\n",
            "Epoch 29 loss: 1.1902959934731558\n",
            "Epoch 30 loss: 1.1595141756573806\n",
            "Epoch 31 loss: 1.1356991524386437\n",
            "Epoch 32 loss: 1.1318838588256284\n",
            "Epoch 33 loss: 1.145991412731439\n",
            "Epoch 34 loss: 1.163148405894199\n",
            "Epoch 35 loss: 1.1712000110914147\n",
            "Epoch 36 loss: 1.1656120790476205\n",
            "Epoch 37 loss: 1.1496710348233392\n",
            "Epoch 38 loss: 1.1337170902510176\n",
            "Epoch 39 loss: 1.1255204268558774\n",
            "Epoch 40 loss: 1.1272087137898041\n",
            "Validation loss 1.118 \n"
          ]
        }
      ],
      "source": [
        "# Initialize the seed for RNG\n",
        "torch.manual_seed(79)\n",
        "# Define the NN model\n",
        "neural = CollabFNet(num_users,\n",
        "                    tfidf_dim,\n",
        "                    emb_size = 200,\n",
        "                    n_hidden = 75)\n",
        "# Train the NN model\n",
        "train_epochs(neural, epochs = 40, lr = 0.01, wd = 1e-3, unsqueeze = True)"
      ]
    },
    {
      "cell_type": "markdown",
      "metadata": {
        "id": "a947DBYuNETT"
      },
      "source": [
        "### Summary"
      ]
    },
    {
      "cell_type": "markdown",
      "metadata": {
        "id": "AFuSyuvvNHzL"
      },
      "source": [
        "Here are the summary of the validation loss between the three models:\n",
        "\n",
        "| Model  | Validation RMSE |\n",
        "| ------ | --------------- |\n",
        "| KNN    |      0.857      |\n",
        "| SVD    |      0.794      |\n",
        "| Neural |      1.118      |\n",
        "\n",
        "From the above results, it can be seen that the SVD model has the best validation result. Therefore, the final chosen model would be the SVD model. The detailed discussion about the model comparison is provided in the report."
      ]
    },
    {
      "cell_type": "markdown",
      "metadata": {
        "id": "7mN27L9fOxY_"
      },
      "source": [
        "## Final Model Development"
      ]
    },
    {
      "cell_type": "markdown",
      "metadata": {
        "id": "R9pGqplesRQ-"
      },
      "source": [
        "After finding out which algorithm has the best performance, now, we can build the final model to be used for the prediction task."
      ]
    },
    {
      "cell_type": "code",
      "execution_count": 15,
      "metadata": {
        "colab": {
          "base_uri": "https://localhost:8080/"
        },
        "id": "teHk6X4PNG4J",
        "outputId": "45fc360e-90c2-4e7b-c41d-bf298dd9a19e"
      },
      "outputs": [
        {
          "data": {
            "text/plain": [
              "<surprise.prediction_algorithms.matrix_factorization.SVD at 0x79578941fca0>"
            ]
          },
          "execution_count": 15,
          "metadata": {},
          "output_type": "execute_result"
        }
      ],
      "source": [
        "data = Dataset.load_from_df(df[['user_id', 'product_id', 'rating']], Reader())\n",
        "# Build the trainset\n",
        "trainset = data.build_full_trainset()\n",
        "\n",
        "# Initiate the model\n",
        "svd = SVD(n_factors = 350,\n",
        "          n_epochs = 150,\n",
        "          lr_all = 0.1,\n",
        "          reg_all = 0.02,\n",
        "          random_state = 79)\n",
        "\n",
        "# Train the model\n",
        "svd.fit(trainset)"
      ]
    },
    {
      "cell_type": "markdown",
      "metadata": {
        "id": "fLR3xRr-PFKo"
      },
      "source": [
        "## Prediction Task"
      ]
    },
    {
      "cell_type": "markdown",
      "metadata": {
        "id": "-q3Aa53ZsaxG"
      },
      "source": [
        "Lastly, we will apply the best model to the test set to predict the ratings given the user-item pairings."
      ]
    },
    {
      "cell_type": "code",
      "execution_count": 16,
      "metadata": {
        "id": "Orlb8bJKPH9L"
      },
      "outputs": [],
      "source": [
        "# Load the test data\n",
        "test = pd.read_csv('./data/test.csv')\n",
        "\n",
        "# Fix the data integrity issue in the test set\n",
        "test['product_id'] = test.apply(lambda x: train_mapping[x.product_name] if x.product_name in train_mapping else x.product_id, axis = 1)\n",
        "test_mapping = test.groupby('product_name').product_id.agg(lambda x: pd.Series.mode(x)[0]).to_dict()\n",
        "test['product_id'] = test['product_name'].apply(lambda x: test_mapping[x])\n",
        "\n",
        "# Apply the model to the test set to predict the rating\n",
        "test['rating'] = test.apply(lambda x: svd.predict(x.user_id, x.product_id).est, axis = 1)\n",
        "# Save the prediction result to a new CSV file\n",
        "test[['ID', 'rating']].to_csv('./labeled_test.csv', index = False)"
      ]
    }
  ],
  "metadata": {
    "colab": {
      "provenance": []
    },
    "kernelspec": {
      "display_name": "Python 3",
      "name": "python3"
    },
    "language_info": {
      "name": "python",
      "version": "3.9.12"
    }
  },
  "nbformat": 4,
  "nbformat_minor": 0
}
